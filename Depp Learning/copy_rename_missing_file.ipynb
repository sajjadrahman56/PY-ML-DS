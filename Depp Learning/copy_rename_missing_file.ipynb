{
  "nbformat": 4,
  "nbformat_minor": 0,
  "metadata": {
    "colab": {
      "provenance": []
    },
    "kernelspec": {
      "name": "python3",
      "display_name": "Python 3"
    },
    "language_info": {
      "name": "python"
    }
  },
  "cells": [
    {
      "cell_type": "code",
      "execution_count": 1,
      "metadata": {
        "colab": {
          "base_uri": "https://localhost:8080/"
        },
        "id": "qtJYZkMf2PtK",
        "outputId": "895f2783-a979-4072-e6e5-f56c2489cb67"
      },
      "outputs": [
        {
          "output_type": "stream",
          "name": "stdout",
          "text": [
            "Mounted at /content/drive\n"
          ]
        }
      ],
      "source": [
        "from google.colab import drive\n",
        "drive.mount('/content/drive')"
      ]
    },
    {
      "cell_type": "code",
      "source": [
        "import pandas as pd\n",
        "import numpy as np\n",
        "import matplotlib.pyplot as plt\n",
        "import seaborn as sns\n",
        "import os\n",
        "import cv2\n",
        "import random\n",
        "\n",
        "import torchvision.transforms as transforms\n",
        "from torch.utils.data import DataLoader\n",
        "import torch\n",
        "import torch.optim as optim\n",
        "\n",
        "from torch.utils.data import Dataset\n",
        "from PIL import Image\n",
        "import torch.nn as nn\n",
        "\n",
        "import warnings\n",
        "warnings.filterwarnings(\"ignore\")\n",
        "\n",
        "import glob\n",
        "\n",
        "from sklearn.model_selection import train_test_split"
      ],
      "metadata": {
        "id": "uzzo8C_a20m4"
      },
      "execution_count": 4,
      "outputs": []
    },
    {
      "cell_type": "markdown",
      "source": [
        "## copy_and_rename_files"
      ],
      "metadata": {
        "id": "z7bw6ohtBb6A"
      }
    },
    {
      "cell_type": "code",
      "source": [
        "import os\n",
        "import shutil\n",
        "\n",
        "def copy_and_rename_files(source_folder, destination_folder, keyword, new_extension):\n",
        "    # Create the new folder if it doesn't exist\n",
        "    if not os.path.exists(destination_folder):\n",
        "        os.makedirs(destination_folder)\n",
        "\n",
        "    # Get a list of all files in the source folder\n",
        "    files = os.listdir(source_folder)\n",
        "\n",
        "    # Iterate through each file\n",
        "    for file_name in files:\n",
        "        # Extract the numeric part from the filename\n",
        "        numeric_part = file_name.split(keyword)[0]\n",
        "\n",
        "        # Form the new file path\n",
        "        new_file_name = f\"{numeric_part}.{new_extension}\"\n",
        "        new_file_path = os.path.join(destination_folder, new_file_name)\n",
        "\n",
        "        # Copy the file to the new folder and rename it\n",
        "        shutil.copy(os.path.join(source_folder, file_name), new_file_path)\n",
        "\n",
        "        print(f\"Copied and renamed: {file_name} to {new_file_name} in {destination_folder}\")\n",
        "\n",
        "# Example usage for images\n",
        "#\n",
        "# -----------------------------------ignore comment if you want run ------------------------------------------\n",
        "\n",
        "# image_folder = '/content/drive/MyDrive/INBreast/Image/'\n",
        "# new_image_folder = '/content/drive/MyDrive/INBreast/Image11/'\n",
        "# copy_and_rename_files(image_folder, new_image_folder, '_', 'png')\n",
        "\n",
        "# Example usage for masks\n",
        "#\n",
        "# -----------------------------------ignore comment if you want run ------------------------------------------\n",
        "\n",
        "# mask_folder = '/content/drive/MyDrive/INBreast/Mask/'\n",
        "# new_mask_folder = '/content/drive/MyDrive/INBreast/Mask1/'\n",
        "# copy_and_rename_files(mask_folder, new_mask_folder, '_mask', 'png')\n"
      ],
      "metadata": {
        "id": "6eLy7tAN6EPr"
      },
      "execution_count": null,
      "outputs": []
    },
    {
      "cell_type": "markdown",
      "source": [
        "### Check both files have different"
      ],
      "metadata": {
        "id": "e07LijRGAGAl"
      }
    },
    {
      "cell_type": "code",
      "source": [
        "import os\n",
        "\n",
        "# image_folder = '/content/drive/MyDrive/INBreast/Image11/'\n",
        "# mask_folder = '/content/drive/MyDrive/INBreast/Mask1/'\n",
        "\n",
        "# Get lists of files in both Image1 and Mask1 folders (excluding directories)\n",
        "image_files = set(file for file in os.listdir(image_folder) if os.path.isfile(os.path.join(image_folder, file)))\n",
        "mask_files = set(file for file in os.listdir(mask_folder) if os.path.isfile(os.path.join(mask_folder, file)))\n",
        "\n",
        "# Find missing files in each folder\n",
        "missing_in_image = mask_files - image_files\n",
        "missing_in_mask = image_files - mask_files\n",
        "\n",
        "# Print missing files\n",
        "if missing_in_image:\n",
        "    print(\"Files missing in Image1 folder:\")\n",
        "    for file in missing_in_image:\n",
        "        print(file)\n",
        "\n",
        "if missing_in_mask:\n",
        "    print(\"Files missing in Mask1 folder:\")\n",
        "    for file in missing_in_mask:\n",
        "        print(file)\n",
        "\n",
        "# If both sets are empty, all files are present in both folders\n",
        "if not missing_in_image and not missing_in_mask:\n",
        "    print(\"Both folders have the same set of files.\")"
      ],
      "metadata": {
        "id": "cW0xqb8p6D8L"
      },
      "execution_count": null,
      "outputs": []
    },
    {
      "cell_type": "markdown",
      "source": [
        "### ssim check\n",
        "---\n",
        "Structural Similarity Index (SSIM) is a metric used to quantify the similarity between two images"
      ],
      "metadata": {
        "id": "fQwaMxS4AmgU"
      }
    },
    {
      "cell_type": "code",
      "source": [
        "import cv2\n",
        "from skimage.metrics import structural_similarity as ssim\n",
        "# mask1 image\n",
        "img1 = cv2.imread('/content/drive/MyDrive/INBreast/Mask1/20586908.png')\n",
        "# image11\n",
        "img2 = cv2.imread('/content/drive/MyDrive/INBreast/Image11/20586908.png')\n",
        "\n",
        "# Convert the images to grayscale\n",
        "img1_gray = cv2.cvtColor(img1, cv2.COLOR_BGR2GRAY)\n",
        "img2_gray = cv2.cvtColor(img2, cv2.COLOR_BGR2GRAY)\n",
        "\n",
        "# Compute the Structural Similarity Index (SSIM) between the two images\n",
        "ssim_value, _ = ssim(img1_gray, img2_gray, full=True)\n",
        "\n",
        "# Print the SSIM value\n",
        "print('The SSIM value is:', ssim_value)\n"
      ],
      "metadata": {
        "colab": {
          "base_uri": "https://localhost:8080/"
        },
        "id": "gcit5jno4rQz",
        "outputId": "46a883b7-35fe-4475-b835-0f4bb805ac79"
      },
      "execution_count": 36,
      "outputs": [
        {
          "output_type": "stream",
          "name": "stdout",
          "text": [
            "The SSIM value is: 0.6192312906033938\n"
          ]
        }
      ]
    }
  ]
}