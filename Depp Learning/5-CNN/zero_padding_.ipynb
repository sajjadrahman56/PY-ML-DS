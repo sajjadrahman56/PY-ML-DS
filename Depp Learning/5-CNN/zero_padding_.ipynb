{
  "nbformat": 4,
  "nbformat_minor": 0,
  "metadata": {
    "colab": {
      "provenance": []
    },
    "kernelspec": {
      "name": "python3",
      "display_name": "Python 3"
    },
    "language_info": {
      "name": "python"
    }
  },
  "cells": [
    {
      "cell_type": "markdown",
      "source": [
        "# Zero padding vs Same Padding\n",
        "-"
      ],
      "metadata": {
        "id": "fpIhDbUlDCbE"
      }
    },
    {
      "cell_type": "code",
      "source": [
        "!pip install tensorflow"
      ],
      "metadata": {
        "id": "pjwwa3z0AkZD"
      },
      "execution_count": null,
      "outputs": []
    },
    {
      "cell_type": "code",
      "source": [
        "!pip install keras"
      ],
      "metadata": {
        "colab": {
          "base_uri": "https://localhost:8080/"
        },
        "id": "ItPjhC1wAmYy",
        "outputId": "9374bc9d-0a3e-4946-bee9-b8902035b107"
      },
      "execution_count": null,
      "outputs": [
        {
          "output_type": "stream",
          "name": "stdout",
          "text": [
            "Requirement already satisfied: keras in /usr/local/lib/python3.10/dist-packages (2.12.0)\n"
          ]
        }
      ]
    },
    {
      "cell_type": "code",
      "source": [
        "import keras\n",
        "from keras.models import Sequential\n",
        "from keras.layers import Activation\n",
        "from keras.layers.core import Dense,Flatten\n",
        "from keras.layers.convolutional import *"
      ],
      "metadata": {
        "id": "j1QRGwfoAtMf"
      },
      "execution_count": null,
      "outputs": []
    },
    {
      "cell_type": "code",
      "source": [
        "model_valid = Sequential([\n",
        "    Dense(16,activation='relu',input_shape=(20,20,3)),\n",
        "    Conv2D(32,kernel_size=(3,3) ,activation='relu' , padding='valid'),\n",
        "    Conv2D(64,kernel_size=(5,5) ,activation='relu' , padding='valid'),\n",
        "    Conv2D(128,kernel_size=(7,7) ,activation='relu' , padding='valid'),\n",
        "    Flatten(),\n",
        "    Dense(2,activation='softmax')\n",
        "])\n",
        "\n",
        "# model_valid = reduce the ouput dimension"
      ],
      "metadata": {
        "id": "myKiXCr6AxQ9"
      },
      "execution_count": null,
      "outputs": []
    },
    {
      "cell_type": "code",
      "source": [
        "model_valid.summary()"
      ],
      "metadata": {
        "colab": {
          "base_uri": "https://localhost:8080/"
        },
        "id": "hF9eB_fpCdhH",
        "outputId": "d71df256-83ab-4e70-f45e-7a78340ad453"
      },
      "execution_count": null,
      "outputs": [
        {
          "output_type": "stream",
          "name": "stdout",
          "text": [
            "Model: \"sequential_1\"\n",
            "_________________________________________________________________\n",
            " Layer (type)                Output Shape              Param #   \n",
            "=================================================================\n",
            " dense_1 (Dense)             (None, 20, 20, 16)        64        \n",
            "                                                                 \n",
            " conv2d_2 (Conv2D)           (None, 18, 18, 32)        4640      \n",
            "                                                                 \n",
            " conv2d_3 (Conv2D)           (None, 14, 14, 64)        51264     \n",
            "                                                                 \n",
            " conv2d_4 (Conv2D)           (None, 8, 8, 128)         401536    \n",
            "                                                                 \n",
            " flatten (Flatten)           (None, 8192)              0         \n",
            "                                                                 \n",
            " dense_2 (Dense)             (None, 2)                 16386     \n",
            "                                                                 \n",
            "=================================================================\n",
            "Total params: 473,890\n",
            "Trainable params: 473,890\n",
            "Non-trainable params: 0\n",
            "_________________________________________________________________\n"
          ]
        }
      ]
    },
    {
      "cell_type": "code",
      "source": [],
      "metadata": {
        "id": "NcJr-s5YCg0_"
      },
      "execution_count": null,
      "outputs": []
    },
    {
      "cell_type": "code",
      "source": [
        "model_same = Sequential([\n",
        "    Dense(16,activation='relu',input_shape=(20,20,3)),\n",
        "    Conv2D(32,kernel_size=(3,3) ,activation='relu' , padding='same'),\n",
        "    Conv2D(64,kernel_size=(5,5) ,activation='relu' , padding='same'),\n",
        "    Conv2D(128,kernel_size=(7,7) ,activation='relu' , padding='same'),\n",
        "    Flatten(),\n",
        "    Dense(2,activation='softmax')\n",
        "])"
      ],
      "metadata": {
        "id": "BHGzwMR5Dbdj"
      },
      "execution_count": null,
      "outputs": []
    },
    {
      "cell_type": "markdown",
      "source": [],
      "metadata": {
        "id": "GyAvmvViC9W4"
      }
    },
    {
      "cell_type": "code",
      "source": [
        "model_same.summary()"
      ],
      "metadata": {
        "colab": {
          "base_uri": "https://localhost:8080/"
        },
        "id": "lexMVT4DE7ji",
        "outputId": "102b815f-fdcd-4169-f848-9313a5bb843c"
      },
      "execution_count": null,
      "outputs": [
        {
          "output_type": "stream",
          "name": "stdout",
          "text": [
            "Model: \"sequential_3\"\n",
            "_________________________________________________________________\n",
            " Layer (type)                Output Shape              Param #   \n",
            "=================================================================\n",
            " dense_5 (Dense)             (None, 20, 20, 16)        64        \n",
            "                                                                 \n",
            " conv2d_8 (Conv2D)           (None, 20, 20, 32)        4640      \n",
            "                                                                 \n",
            " conv2d_9 (Conv2D)           (None, 20, 20, 64)        51264     \n",
            "                                                                 \n",
            " conv2d_10 (Conv2D)          (None, 20, 20, 128)       401536    \n",
            "                                                                 \n",
            " flatten_2 (Flatten)         (None, 51200)             0         \n",
            "                                                                 \n",
            " dense_6 (Dense)             (None, 2)                 102402    \n",
            "                                                                 \n",
            "=================================================================\n",
            "Total params: 559,906\n",
            "Trainable params: 559,906\n",
            "Non-trainable params: 0\n",
            "_________________________________________________________________\n"
          ]
        }
      ]
    },
    {
      "cell_type": "code",
      "source": [],
      "metadata": {
        "id": "7K0EtwbfE_y-"
      },
      "execution_count": null,
      "outputs": []
    }
  ]
}