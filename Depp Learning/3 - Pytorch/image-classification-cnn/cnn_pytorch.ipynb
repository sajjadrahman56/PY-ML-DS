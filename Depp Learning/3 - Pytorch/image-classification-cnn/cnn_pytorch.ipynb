{
  "nbformat": 4,
  "nbformat_minor": 0,
  "metadata": {
    "colab": {
      "provenance": []
    },
    "kernelspec": {
      "name": "python3",
      "display_name": "Python 3"
    },
    "language_info": {
      "name": "python"
    }
  },
  "cells": [
    {
      "cell_type": "code",
      "execution_count": null,
      "metadata": {
        "id": "8EsEW5-u-v1y"
      },
      "outputs": [],
      "source": [
        "import os\n",
        "import torch\n",
        "import torchvision\n",
        "import tarfile\n",
        "from torchvision.datasets.utils import download_url\n",
        "from torch.utils.data import random_split"
      ]
    },
    {
      "cell_type": "code",
      "source": [
        "project_name ='05-cifar10-cnn'"
      ],
      "metadata": {
        "id": "Lt06CJfW_ysc"
      },
      "execution_count": null,
      "outputs": []
    },
    {
      "cell_type": "code",
      "source": [
        "#data set download\n",
        "dataset_url =\"https://s3.amazonaws.com/fast-ai-imageclas/cifar10.tgz\"\n",
        "download_url(dataset_url,'.')"
      ],
      "metadata": {
        "colab": {
          "base_uri": "https://localhost:8080/"
        },
        "id": "am0aBybnAG31",
        "outputId": "6f34adbd-c595-4fe4-a7a1-3605ca95f5b9"
      },
      "execution_count": null,
      "outputs": [
        {
          "output_type": "stream",
          "name": "stdout",
          "text": [
            "Using downloaded and verified file: ./cifar10.tgz\n"
          ]
        }
      ]
    },
    {
      "cell_type": "code",
      "source": [
        "# Extract from achive\n",
        "with tarfile.open('./cifar10.tgz','r:gz') as tar:\n",
        "  tar.extractall(path='./data')"
      ],
      "metadata": {
        "id": "gue-rG4MAaLM"
      },
      "execution_count": null,
      "outputs": []
    },
    {
      "cell_type": "code",
      "source": [
        "data_dir ='./data/cifar10'\n",
        "print(os.listdir(data_dir))\n",
        "\n",
        "classes = os.listdir(data_dir+\"/train\")\n",
        "print(classes)"
      ],
      "metadata": {
        "colab": {
          "base_uri": "https://localhost:8080/"
        },
        "id": "kV-fv70QA4Mk",
        "outputId": "ed7c306b-155a-4736-b64c-237102ce1211"
      },
      "execution_count": null,
      "outputs": [
        {
          "output_type": "stream",
          "name": "stdout",
          "text": [
            "['test', 'train']\n",
            "['cat', 'automobile', 'ship', 'frog', 'airplane', 'truck', 'bird', 'horse', 'dog', 'deer']\n"
          ]
        }
      ]
    },
    {
      "cell_type": "code",
      "source": [
        "# we want to the no of images in the ariplanes\n",
        "#\n",
        "airplane_files = os.listdir(data_dir+\"/train/airplane\")\n",
        "print(f'No of training examples for ariplanes : {len(airplane_files)}')\n",
        "\n",
        "print(airplane_files[:5])"
      ],
      "metadata": {
        "colab": {
          "base_uri": "https://localhost:8080/"
        },
        "id": "p8DTuq9CBxQE",
        "outputId": "0cff9640-3645-4f9b-ab8d-c26b414f1853"
      },
      "execution_count": null,
      "outputs": [
        {
          "output_type": "stream",
          "name": "stdout",
          "text": [
            "No of training examples for ariplanes : 5000\n",
            "['4898.png', '1958.png', '2289.png', '4664.png', '4150.png']\n"
          ]
        }
      ]
    },
    {
      "cell_type": "code",
      "source": [
        "ship_test_files = os.listdir(data_dir+\"/test/ship\")\n",
        "print(f'No of test examples for ship_test_files : {len(ship_test_files)}')\n",
        "\n",
        "print(ship_test_files[:5])"
      ],
      "metadata": {
        "colab": {
          "base_uri": "https://localhost:8080/"
        },
        "id": "ZEq5smHtCXhF",
        "outputId": "34b0e5de-c870-43b4-baad-f2458b5779be"
      },
      "execution_count": null,
      "outputs": [
        {
          "output_type": "stream",
          "name": "stdout",
          "text": [
            "No of test examples for ship_test_files : 1000\n",
            "['0890.png', '0458.png', '0575.png', '0926.png', '0249.png']\n"
          ]
        }
      ]
    },
    {
      "cell_type": "code",
      "source": [],
      "metadata": {
        "id": "4H-JbGHhCwOM"
      },
      "execution_count": null,
      "outputs": []
    },
    {
      "cell_type": "markdown",
      "source": [
        "### ImageFolder\n",
        "We can use the ImageFolder class from TorchVision to load data as Pytorch tensors"
      ],
      "metadata": {
        "id": "I8i54zBnDdv0"
      }
    },
    {
      "cell_type": "code",
      "source": [
        "from torchvision.datasets import ImageFolder\n",
        "from torchvision.transforms import ToTensor\n"
      ],
      "metadata": {
        "id": "8o98_ilODoqT"
      },
      "execution_count": null,
      "outputs": []
    },
    {
      "cell_type": "code",
      "source": [
        "dataset = ImageFolder(data_dir+'/train',transform=ToTensor())"
      ],
      "metadata": {
        "id": "Io7q6z4ND2zT"
      },
      "execution_count": null,
      "outputs": []
    },
    {
      "cell_type": "code",
      "source": [
        "img,label = dataset[1]\n",
        "print(img.shape,label)\n",
        "img"
      ],
      "metadata": {
        "colab": {
          "base_uri": "https://localhost:8080/"
        },
        "id": "kE2sq3p7EGCD",
        "outputId": "3d0088d4-6691-4c73-aeae-a92647cb1b86"
      },
      "execution_count": null,
      "outputs": [
        {
          "output_type": "stream",
          "name": "stdout",
          "text": [
            "torch.Size([3, 32, 32]) 0\n"
          ]
        },
        {
          "output_type": "execute_result",
          "data": {
            "text/plain": [
              "tensor([[[0.4941, 0.4784, 0.4941,  ..., 0.4863, 0.4706, 0.4588],\n",
              "         [0.4784, 0.4667, 0.4745,  ..., 0.4863, 0.4784, 0.4588],\n",
              "         [0.4784, 0.4745, 0.4745,  ..., 0.4941, 0.4824, 0.4745],\n",
              "         ...,\n",
              "         [0.4941, 0.4941, 0.5020,  ..., 0.5216, 0.4784, 0.4471],\n",
              "         [0.4902, 0.4941, 0.4980,  ..., 0.5020, 0.4745, 0.4471],\n",
              "         [0.4824, 0.4824, 0.4941,  ..., 0.5020, 0.4941, 0.4745]],\n",
              "\n",
              "        [[0.4627, 0.4510, 0.4667,  ..., 0.4627, 0.4471, 0.4353],\n",
              "         [0.4510, 0.4392, 0.4471,  ..., 0.4627, 0.4549, 0.4353],\n",
              "         [0.4510, 0.4471, 0.4471,  ..., 0.4706, 0.4588, 0.4510],\n",
              "         ...,\n",
              "         [0.4627, 0.4627, 0.4706,  ..., 0.4902, 0.4471, 0.4157],\n",
              "         [0.4588, 0.4627, 0.4667,  ..., 0.4706, 0.4431, 0.4157],\n",
              "         [0.4510, 0.4510, 0.4627,  ..., 0.4667, 0.4627, 0.4431]],\n",
              "\n",
              "        [[0.4314, 0.4235, 0.4353,  ..., 0.4157, 0.4000, 0.3882],\n",
              "         [0.4196, 0.4078, 0.4157,  ..., 0.4157, 0.4078, 0.3882],\n",
              "         [0.4196, 0.4157, 0.4157,  ..., 0.4235, 0.4118, 0.4039],\n",
              "         ...,\n",
              "         [0.4196, 0.4196, 0.4275,  ..., 0.4471, 0.4039, 0.3725],\n",
              "         [0.4157, 0.4196, 0.4235,  ..., 0.4275, 0.4000, 0.3725],\n",
              "         [0.4078, 0.4078, 0.4196,  ..., 0.4275, 0.4196, 0.4000]]])"
            ]
          },
          "metadata": {},
          "execution_count": 41
        }
      ]
    },
    {
      "cell_type": "code",
      "source": [
        "print(dataset.classes)"
      ],
      "metadata": {
        "colab": {
          "base_uri": "https://localhost:8080/"
        },
        "id": "L3Wh6euYEOQb",
        "outputId": "3c937182-8421-42b2-984d-d1d7237ead2a"
      },
      "execution_count": null,
      "outputs": [
        {
          "output_type": "stream",
          "name": "stdout",
          "text": [
            "['airplane', 'automobile', 'bird', 'cat', 'deer', 'dog', 'frog', 'horse', 'ship', 'truck']\n"
          ]
        }
      ]
    },
    {
      "cell_type": "code",
      "source": [],
      "metadata": {
        "id": "L6D0b_tKEdS7"
      },
      "execution_count": null,
      "outputs": []
    },
    {
      "cell_type": "code",
      "source": [],
      "metadata": {
        "id": "yvwAHSYQE2MY"
      },
      "execution_count": null,
      "outputs": []
    },
    {
      "cell_type": "markdown",
      "source": [
        "## Image show\n",
        "- we get image size [3,32,32] where 3 means channels (BGR)\n",
        "- in matplot lib channel accept in the last ,\n",
        "- we achive it by using of .permute() method"
      ],
      "metadata": {
        "id": "qyJvnXKwHB5u"
      }
    },
    {
      "cell_type": "code",
      "source": [
        "import matplotlib\n",
        "import matplotlib.pyplot as plt\n",
        "%matplotlib inline\n",
        "\n",
        "matplotlib.rcParams['figure.facecolor']='#ffffff'"
      ],
      "metadata": {
        "id": "dcXlMeKhE2ss"
      },
      "execution_count": null,
      "outputs": []
    },
    {
      "cell_type": "code",
      "source": [
        "def show_examples(img,label):\n",
        "  print('Label : ',dataset.classes[label],\"(\"+str(label)+\")\")\n",
        "  plt.imshow(img.permute(1,2,0))"
      ],
      "metadata": {
        "id": "NROlGKQXILTz"
      },
      "execution_count": null,
      "outputs": []
    },
    {
      "cell_type": "code",
      "source": [
        "img,label=dataset[0]\n",
        "show_examples(img,label)"
      ],
      "metadata": {
        "colab": {
          "base_uri": "https://localhost:8080/",
          "height": 447
        },
        "id": "r8VWZ1ZjKU6-",
        "outputId": "a06eb0b2-fe73-4d0d-98e0-0e8a40fca83f"
      },
      "execution_count": null,
      "outputs": [
        {
          "output_type": "stream",
          "name": "stdout",
          "text": [
            "Label :  airplane (0)\n"
          ]
        },
        {
          "output_type": "display_data",
          "data": {
            "text/plain": [
              "<Figure size 640x480 with 1 Axes>"
            ],
            "image/png": "[encoded data removed]"
          },
          "metadata": {}
        }
      ]
    },
    {
      "cell_type": "code",
      "source": [
        "img,label=dataset[100]\n",
        "show_examples(img,label)"
      ],
      "metadata": {
        "colab": {
          "base_uri": "https://localhost:8080/",
          "height": 447
        },
        "id": "lTXITiQUKhZM",
        "outputId": "04f2f8ae-022d-49cd-c022-b0be18bddcea"
      },
      "execution_count": null,
      "outputs": [
        {
          "output_type": "stream",
          "name": "stdout",
          "text": [
            "Label :  airplane (0)\n"
          ]
        },
        {
          "output_type": "display_data",
          "data": {
            "text/plain": [
              "<Figure size 640x480 with 1 Axes>"
            ],
            "image/png": "[encoded data removed]"
          },
          "metadata": {}
        }
      ]
    },
    {
      "cell_type": "code",
      "source": [
        "show_examples(*dataset[1099])"
      ],
      "metadata": {
        "colab": {
          "base_uri": "https://localhost:8080/",
          "height": 447
        },
        "id": "XBg-J6EURZ5M",
        "outputId": "ac48d9ca-95bd-4189-c142-e6083ea64bbe"
      },
      "execution_count": null,
      "outputs": [
        {
          "output_type": "stream",
          "name": "stdout",
          "text": [
            "Label :  airplane (0)\n"
          ]
        },
        {
          "output_type": "display_data",
          "data": {
            "text/plain": [
              "<Figure size 640x480 with 1 Axes>"
            ],
            "image/png": "[encoded data removed]"
          },
          "metadata": {}
        }
      ]
    },
    {
      "cell_type": "code",
      "source": [
        "\n"
      ],
      "metadata": {
        "id": "kvneZWB8RxfU"
      },
      "execution_count": null,
      "outputs": []
    },
    {
      "cell_type": "markdown",
      "source": [
        "### Training and Validation Datasets\n",
        "- Training set\n",
        "- Validation set\n",
        "- Test set"
      ],
      "metadata": {
        "id": "2q9TYERtUNB9"
      }
    },
    {
      "cell_type": "code",
      "source": [
        "random_seed = 42\n",
        "torch.manual_seed(random_seed)"
      ],
      "metadata": {
        "colab": {
          "base_uri": "https://localhost:8080/"
        },
        "id": "WSQSTa1WSeSM",
        "outputId": "544bb2cc-3fb1-4c0c-9319-65d607031f2d"
      },
      "execution_count": null,
      "outputs": [
        {
          "output_type": "execute_result",
          "data": {
            "text/plain": [
              "<torch._C.Generator at 0x7cb9dd3e3b30>"
            ]
          },
          "metadata": {},
          "execution_count": 55
        }
      ]
    },
    {
      "cell_type": "code",
      "source": [
        "val_size = 5000\n",
        "train_size = len(dataset) - val_size\n",
        "\n",
        "train_ds,val_ds = random_split(dataset,[train_size,val_size])\n",
        "len(train_ds),len(val_ds)"
      ],
      "metadata": {
        "colab": {
          "base_uri": "https://localhost:8080/"
        },
        "id": "s6NOrhyxSil1",
        "outputId": "a2b368b4-2be2-4054-f905-1da47daf042a"
      },
      "execution_count": null,
      "outputs": [
        {
          "output_type": "execute_result",
          "data": {
            "text/plain": [
              "(45000, 5000)"
            ]
          },
          "metadata": {},
          "execution_count": 57
        }
      ]
    },
    {
      "cell_type": "code",
      "source": [
        "from torch.utils.data.dataloader import DataLoader\n",
        "batch_size = 128"
      ],
      "metadata": {
        "id": "iOY1nTEQV7Gs"
      },
      "execution_count": null,
      "outputs": []
    },
    {
      "cell_type": "code",
      "source": [
        "train_dl = DataLoader(train_ds,batch_size , shuffle = True , num_workers=4,pin_memory=True)"
      ],
      "metadata": {
        "id": "bDPIkzuLWRZj"
      },
      "execution_count": null,
      "outputs": []
    }
  ]
}