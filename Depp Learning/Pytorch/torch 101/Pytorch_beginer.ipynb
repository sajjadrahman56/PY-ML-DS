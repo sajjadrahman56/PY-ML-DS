{
  "nbformat": 4,
  "nbformat_minor": 0,
  "metadata": {
    "colab": {
      "provenance": [],
      "collapsed_sections": [
        "pfRr0ilrGpEF"
      ]
    },
    "kernelspec": {
      "name": "python3",
      "display_name": "Python 3"
    },
    "language_info": {
      "name": "python"
    }
  },
  "cells": [
    {
      "cell_type": "code",
      "execution_count": 1,
      "metadata": {
        "id": "8cLp0E55sHpU"
      },
      "outputs": [],
      "source": [
        "# Pytorch\n",
        "#\n",
        "# Qick Iteration\n",
        "# Seamless graph model transition with TorchScript\n",
        "# production ready with TorchServe\n",
        "#"
      ]
    },
    {
      "cell_type": "code",
      "source": [
        "!pip install torch torchvision -U\n"
      ],
      "metadata": {
        "id": "7yXW6qXCtuKH"
      },
      "execution_count": null,
      "outputs": []
    },
    {
      "cell_type": "code",
      "source": [
        "import torch\n",
        "\n",
        "print(torch.__version__)\n"
      ],
      "metadata": {
        "colab": {
          "base_uri": "https://localhost:8080/"
        },
        "id": "-s280UD4uHZi",
        "outputId": "f23d14c5-a283-4769-a45d-d892a170b65a"
      },
      "execution_count": 3,
      "outputs": [
        {
          "output_type": "stream",
          "name": "stdout",
          "text": [
            "2.0.1+cu118\n"
          ]
        }
      ]
    },
    {
      "cell_type": "code",
      "source": [
        "import torch as tor"
      ],
      "metadata": {
        "id": "QWXNphPOuTrW"
      },
      "execution_count": 4,
      "outputs": []
    },
    {
      "cell_type": "code",
      "source": [
        "t0 = tor.tensor(1000)\n",
        "t1 = tor.tensor([1,2,3,5,6,7])\n",
        "t2 = tor.tensor([[1,2,3],[7,8,5]])\n",
        "print(t0)\n",
        "print(t1)\n",
        "print(t2)"
      ],
      "metadata": {
        "colab": {
          "base_uri": "https://localhost:8080/"
        },
        "id": "rHn_P2TSwPZn",
        "outputId": "1dbc4abe-e1f9-4afb-edd5-88ba9e7374d5"
      },
      "execution_count": 5,
      "outputs": [
        {
          "output_type": "stream",
          "name": "stdout",
          "text": [
            "tensor(1000)\n",
            "tensor([1, 2, 3, 5, 6, 7])\n",
            "tensor([[1, 2, 3],\n",
            "        [7, 8, 5]])\n"
          ]
        }
      ]
    },
    {
      "cell_type": "code",
      "source": [
        "# change the dimension of tensor is\n",
        "# Tensor.view(nrows,ncols)\n",
        "#\n",
        "#"
      ],
      "metadata": {
        "id": "TQfwU8qwwjxx"
      },
      "execution_count": 6,
      "outputs": []
    },
    {
      "cell_type": "code",
      "source": [
        "from torch.autograd import Variable\n"
      ],
      "metadata": {
        "id": "tej-YtG9yuGr"
      },
      "execution_count": 7,
      "outputs": []
    },
    {
      "cell_type": "code",
      "source": [
        "x = Variable(torch.ones(2,2),requires_grad=True)\n",
        "print(x)"
      ],
      "metadata": {
        "colab": {
          "base_uri": "https://localhost:8080/"
        },
        "id": "Dwi9w-mvy1Hx",
        "outputId": "7b49b89c-a2fb-44f0-d907-9fbd958395d0"
      },
      "execution_count": 8,
      "outputs": [
        {
          "output_type": "stream",
          "name": "stdout",
          "text": [
            "tensor([[1., 1.],\n",
            "        [1., 1.]], requires_grad=True)\n"
          ]
        }
      ]
    },
    {
      "cell_type": "code",
      "source": [
        "y = x + 2\n",
        "y"
      ],
      "metadata": {
        "colab": {
          "base_uri": "https://localhost:8080/"
        },
        "id": "B_PV-cc9zALf",
        "outputId": "2ecfd5dd-148e-4886-a5f9-d8816ef43e5d"
      },
      "execution_count": 9,
      "outputs": [
        {
          "output_type": "execute_result",
          "data": {
            "text/plain": [
              "tensor([[3., 3.],\n",
              "        [3., 3.]], grad_fn=<AddBackward0>)"
            ]
          },
          "metadata": {},
          "execution_count": 9
        }
      ]
    },
    {
      "cell_type": "code",
      "source": [
        "print(y.grad_fn)"
      ],
      "metadata": {
        "colab": {
          "base_uri": "https://localhost:8080/"
        },
        "id": "k-QXrJ3yzC2n",
        "outputId": "8ccf7f05-92de-419d-bdf7-87b5877b95c2"
      },
      "execution_count": 10,
      "outputs": [
        {
          "output_type": "stream",
          "name": "stdout",
          "text": [
            "<AddBackward0 object at 0x7a3329194df0>\n"
          ]
        }
      ]
    },
    {
      "cell_type": "code",
      "source": [
        "z = y * y * 3\n",
        "out = z.mean()\n",
        "\n",
        "print(z,out)"
      ],
      "metadata": {
        "colab": {
          "base_uri": "https://localhost:8080/"
        },
        "id": "jnhrQpTIzIAu",
        "outputId": "6bce9e69-0530-4b86-f419-7ad2157ac881"
      },
      "execution_count": 11,
      "outputs": [
        {
          "output_type": "stream",
          "name": "stdout",
          "text": [
            "tensor([[27., 27.],\n",
            "        [27., 27.]], grad_fn=<MulBackward0>) tensor(27., grad_fn=<MeanBackward0>)\n"
          ]
        }
      ]
    },
    {
      "cell_type": "markdown",
      "source": [
        "### Gradient Calculation"
      ],
      "metadata": {
        "id": "pfRr0ilrGpEF"
      }
    },
    {
      "cell_type": "code",
      "source": [
        "import torch as tor\n",
        "x = tor.rand(3,requires_grad=True)\n",
        "print(x)\n",
        "\n",
        "y = x + 2\n",
        "print(y)"
      ],
      "metadata": {
        "id": "zG5aW39-zQd-",
        "colab": {
          "base_uri": "https://localhost:8080/"
        },
        "outputId": "03e1ffb8-dc31-4eaa-975c-eb196daf88dc"
      },
      "execution_count": 12,
      "outputs": [
        {
          "output_type": "stream",
          "name": "stdout",
          "text": [
            "tensor([0.3038, 0.0710, 0.4154], requires_grad=True)\n",
            "tensor([2.3038, 2.0710, 2.4154], grad_fn=<AddBackward0>)\n"
          ]
        }
      ]
    },
    {
      "cell_type": "code",
      "source": [
        "z = y * y * 2\n",
        "z"
      ],
      "metadata": {
        "colab": {
          "base_uri": "https://localhost:8080/"
        },
        "id": "0yEiZLAUCDeT",
        "outputId": "b201afc0-b9e4-48a6-c20e-1c6c354eba75"
      },
      "execution_count": 13,
      "outputs": [
        {
          "output_type": "execute_result",
          "data": {
            "text/plain": [
              "tensor([10.6154,  8.5777, 11.6680], grad_fn=<MulBackward0>)"
            ]
          },
          "metadata": {},
          "execution_count": 13
        }
      ]
    },
    {
      "cell_type": "code",
      "source": [
        "#z = z.mean()\n",
        "#z"
      ],
      "metadata": {
        "id": "3yhr8Ug6CeCi"
      },
      "execution_count": 14,
      "outputs": []
    },
    {
      "cell_type": "code",
      "source": [
        "# grad can be implicitly created only for scalar outputs\n",
        "# z mean give us one value\n",
        "#\n",
        "# vector jocovian product learn"
      ],
      "metadata": {
        "id": "rmwfMndyDpni"
      },
      "execution_count": 15,
      "outputs": []
    },
    {
      "cell_type": "code",
      "source": [
        "v = torch.tensor([0.1,1.0,0.001],dtype = torch.float32)"
      ],
      "metadata": {
        "id": "Q27OG2c1GQn7"
      },
      "execution_count": 16,
      "outputs": []
    },
    {
      "cell_type": "code",
      "source": [
        "z.backward(v)\n"
      ],
      "metadata": {
        "id": "bS-lQ4vQCidK"
      },
      "execution_count": 17,
      "outputs": []
    },
    {
      "cell_type": "code",
      "source": [
        "print(x.grad)"
      ],
      "metadata": {
        "colab": {
          "base_uri": "https://localhost:8080/"
        },
        "id": "xEJw4rDYCw9p",
        "outputId": "fc59088b-3e5b-489f-e544-08a8f9661963"
      },
      "execution_count": 18,
      "outputs": [
        {
          "output_type": "stream",
          "name": "stdout",
          "text": [
            "tensor([0.9215, 8.2838, 0.0097])\n"
          ]
        }
      ]
    },
    {
      "cell_type": "code",
      "source": [],
      "metadata": {
        "id": "dOefnbLxDFcj"
      },
      "execution_count": 18,
      "outputs": []
    },
    {
      "cell_type": "code",
      "source": [],
      "metadata": {
        "id": "qgamJNzKG0JI"
      },
      "execution_count": 18,
      "outputs": []
    },
    {
      "cell_type": "markdown",
      "source": [
        "# NB\n",
        "whenever _ in the end of fuctions which means its update the variable"
      ],
      "metadata": {
        "id": "uTrQIjodG3Ea"
      }
    },
    {
      "cell_type": "code",
      "source": [
        "# detch\n",
        "import torch\n",
        "x = torch.randn(3,requires_grad=True)\n",
        "print(x)\n",
        "\n",
        "y = x.detach()\n",
        "y\n",
        "# the output of Y is same as like the output of X but the missing is requires_grad=True\n",
        "#\n",
        "# which is a boolean value that determines whether or not gradients should be computed for the tensor.\n",
        "# Gradients are used in backpropagation to update the weights of a neural network during training.\n",
        "# By default, tensors in PyTorch have .requires_grad set to True."
      ],
      "metadata": {
        "colab": {
          "base_uri": "https://localhost:8080/"
        },
        "id": "G-eCHMfDG16d",
        "outputId": "79227c2f-d574-40ea-bed4-d60b1673e46f"
      },
      "execution_count": 19,
      "outputs": [
        {
          "output_type": "stream",
          "name": "stdout",
          "text": [
            "tensor([-0.4366, -1.3632,  0.0206], requires_grad=True)\n"
          ]
        },
        {
          "output_type": "execute_result",
          "data": {
            "text/plain": [
              "tensor([-0.4366, -1.3632,  0.0206])"
            ]
          },
          "metadata": {},
          "execution_count": 19
        }
      ]
    },
    {
      "cell_type": "markdown",
      "source": [
        "## Forward and Backward propagation with Torch"
      ],
      "metadata": {
        "id": "KDaNiU0GNQsP"
      }
    },
    {
      "cell_type": "code",
      "source": [
        "# forward pass\n",
        "import torch as tr\n",
        "\n",
        "x = tr.tensor(1.0)\n",
        "y = tr.tensor(2.0)\n",
        "\n",
        "w = tr.tensor(1.0,requires_grad=True)\n",
        "\n",
        "y_hat = w*x\n",
        "loss = (y_hat - y)**2\n",
        "print(loss)"
      ],
      "metadata": {
        "colab": {
          "base_uri": "https://localhost:8080/"
        },
        "id": "Y7AnbCIWHmmD",
        "outputId": "db5163c4-d0b1-4576-d122-0363cfafa03d"
      },
      "execution_count": 20,
      "outputs": [
        {
          "output_type": "stream",
          "name": "stdout",
          "text": [
            "tensor(1., grad_fn=<PowBackward0>)\n"
          ]
        }
      ]
    },
    {
      "cell_type": "code",
      "source": [
        "#  backword pass\n",
        "loss.backward()\n",
        "print(w.grad)"
      ],
      "metadata": {
        "colab": {
          "base_uri": "https://localhost:8080/"
        },
        "id": "J-vB-IZjNzWN",
        "outputId": "dcdc1cc8-6260-4ff0-b624-28d98260e448"
      },
      "execution_count": 21,
      "outputs": [
        {
          "output_type": "stream",
          "name": "stdout",
          "text": [
            "tensor(-2.)\n"
          ]
        }
      ]
    },
    {
      "cell_type": "code",
      "source": [
        "### update weights\n",
        "# next forward and backwards\n",
        "torch.device('cuda:0')"
      ],
      "metadata": {
        "colab": {
          "base_uri": "https://localhost:8080/"
        },
        "id": "V7t-eCxcOApH",
        "outputId": "761c8334-8e28-46ad-d528-f305d5d9c3ca"
      },
      "execution_count": 22,
      "outputs": [
        {
          "output_type": "execute_result",
          "data": {
            "text/plain": [
              "device(type='cuda', index=0)"
            ]
          },
          "metadata": {},
          "execution_count": 22
        }
      ]
    },
    {
      "cell_type": "code",
      "source": [
        "x = torch.tensor([[1, 2, 3, 4, 5], [6, 7, 8, 9, 10]])"
      ],
      "metadata": {
        "id": "WVznAu1Nb988"
      },
      "execution_count": 23,
      "outputs": []
    },
    {
      "cell_type": "code",
      "source": [
        "x.stride()"
      ],
      "metadata": {
        "colab": {
          "base_uri": "https://localhost:8080/"
        },
        "id": "zTnrkulScI3k",
        "outputId": "21743f07-ca40-4029-e87c-0d7db0137992"
      },
      "execution_count": 24,
      "outputs": [
        {
          "output_type": "execute_result",
          "data": {
            "text/plain": [
              "(5, 1)"
            ]
          },
          "metadata": {},
          "execution_count": 24
        }
      ]
    },
    {
      "cell_type": "code",
      "source": [
        "x.t().stride()"
      ],
      "metadata": {
        "colab": {
          "base_uri": "https://localhost:8080/"
        },
        "id": "EjCX_zc1cLke",
        "outputId": "d0d80ab5-b82e-4e8c-b041-344f22db31da"
      },
      "execution_count": 25,
      "outputs": [
        {
          "output_type": "execute_result",
          "data": {
            "text/plain": [
              "(1, 5)"
            ]
          },
          "metadata": {},
          "execution_count": 25
        }
      ]
    },
    {
      "cell_type": "code",
      "source": [
        "# https://pytorch.org/docs/stable/nn.html#containers\n",
        "#"
      ],
      "metadata": {
        "id": "WVw-SAw4cPoE"
      },
      "execution_count": 26,
      "outputs": []
    },
    {
      "cell_type": "markdown",
      "source": [
        "### Manualy implemented\n",
        "- numpy use"
      ],
      "metadata": {
        "id": "SzwRHrjJql49"
      }
    },
    {
      "cell_type": "code",
      "source": [
        "import numpy as np\n",
        "# f = w * x\n",
        "# f = 2 * x\n",
        "x = np.array([1,2,3,4],dtype=np.float32)\n",
        "y = np.array([2,4,6,8],dtype=np.float32)\n",
        "\n",
        "w = 0.0\n",
        "# model prediction\n",
        "def forward(x):\n",
        "  return w * x\n",
        "# loss\n",
        "def loss(y,y_predict):\n",
        "  return ((y_predict - y)**2).mean()\n",
        "# Gradient\n",
        "# mse = 1/N * ( w*x - y)**2\n",
        "# dz/dw = 1/N 2x(w*x-y)\n",
        "\n",
        "def gradient(x,y,y_predict):\n",
        "  return np.dot(2*x,y_predict-y).mean()\n",
        "\n",
        "print(f'prediction before traning f(5) = {forward(5):.3f}')\n",
        "\n",
        "#Training\n",
        "learning_rate = 0.01\n",
        "n_iters = 20\n",
        "\n",
        "for epoch in range(n_iters):\n",
        "  y_pred  = forward(x)\n",
        "\n",
        "  l= loss(y,y_pred)\n",
        "\n",
        "  dw = gradient(x,y,y_pred)\n",
        "\n",
        "  w -= learning_rate*dw\n",
        "\n",
        "  if epoch%2 ==0:\n",
        "    print(f'epoch = {epoch+1} w = {w:.3f} and loss = {l:.8f}')\n",
        "print(f'prediction after traning f(5) = {forward(5):.3f}')"
      ],
      "metadata": {
        "colab": {
          "base_uri": "https://localhost:8080/"
        },
        "id": "ph2BR-NfnCzC",
        "outputId": "03535640-da00-455c-d432-427088fea055"
      },
      "execution_count": 27,
      "outputs": [
        {
          "output_type": "stream",
          "name": "stdout",
          "text": [
            "prediction before traning f(5) = 0.000\n",
            "epoch = 1 w = 1.200 and loss = 30.00000000\n",
            "epoch = 3 w = 1.872 and loss = 0.76800019\n",
            "epoch = 5 w = 1.980 and loss = 0.01966083\n",
            "epoch = 7 w = 1.997 and loss = 0.00050331\n",
            "epoch = 9 w = 1.999 and loss = 0.00001288\n",
            "epoch = 11 w = 2.000 and loss = 0.00000033\n",
            "epoch = 13 w = 2.000 and loss = 0.00000001\n",
            "epoch = 15 w = 2.000 and loss = 0.00000000\n",
            "epoch = 17 w = 2.000 and loss = 0.00000000\n",
            "epoch = 19 w = 2.000 and loss = 0.00000000\n",
            "prediction after traning f(5) = 10.000\n"
          ]
        }
      ]
    },
    {
      "cell_type": "markdown",
      "source": [
        "### Torch use"
      ],
      "metadata": {
        "id": "5wjhx-Ptqu-T"
      }
    },
    {
      "cell_type": "code",
      "source": [
        "import torch as tr\n",
        "# f = w * x\n",
        "# f = 2 * x\n",
        "x = tr.tensor([1,2,3,4],dtype=tr.float32)\n",
        "y = tr.tensor([2,4,6,8],dtype=tr.float32)\n",
        "\n",
        "w = tr.tensor(0.0,dtype=tr.float32,requires_grad=True)\n",
        "\n",
        "# model prediction\n",
        "def forward(x):\n",
        "  return w * x\n",
        "\n",
        "# loss\n",
        "def loss(y,y_predict):\n",
        "  return ((y_predict - y)**2).mean()\n",
        "\n",
        "# Gradient\n",
        "# mse = 1/N * ( w*x - y)**2\n",
        "# dz/dw = 1/N 2x(w*x-y)\n",
        "\n",
        "print(f'prediction before traning f(5) = {forward(5):.3f}')\n",
        "\n",
        "#Training\n",
        "learning_rate = 0.01\n",
        "n_iters = 100\n",
        "\n",
        "for epoch in range(n_iters):\n",
        "  y_pred  = forward(x)\n",
        "\n",
        "  l= loss(y,y_pred)\n",
        "  # backword\n",
        "  l.backward()\n",
        "  with tr.no_grad():\n",
        "      w -= learning_rate*w.grad\n",
        "  w.grad.zero_()\n",
        "\n",
        "  if epoch%10 ==0:\n",
        "    print(f'epoch = {epoch+1} w = {w:.3f} and loss = {l:.8f}')\n",
        "print(f'prediction after traning f(5) = {forward(5):.3f}')"
      ],
      "metadata": {
        "colab": {
          "base_uri": "https://localhost:8080/"
        },
        "id": "W8GxbyOGooXJ",
        "outputId": "053c3036-53af-43b9-dede-94f2fa11f917"
      },
      "execution_count": 28,
      "outputs": [
        {
          "output_type": "stream",
          "name": "stdout",
          "text": [
            "prediction before traning f(5) = 0.000\n",
            "epoch = 1 w = 0.300 and loss = 30.00000000\n",
            "epoch = 11 w = 1.665 and loss = 1.16278565\n",
            "epoch = 21 w = 1.934 and loss = 0.04506890\n",
            "epoch = 31 w = 1.987 and loss = 0.00174685\n",
            "epoch = 41 w = 1.997 and loss = 0.00006770\n",
            "epoch = 51 w = 1.999 and loss = 0.00000262\n",
            "epoch = 61 w = 2.000 and loss = 0.00000010\n",
            "epoch = 71 w = 2.000 and loss = 0.00000000\n",
            "epoch = 81 w = 2.000 and loss = 0.00000000\n",
            "epoch = 91 w = 2.000 and loss = 0.00000000\n",
            "prediction after traning f(5) = 10.000\n"
          ]
        }
      ]
    },
    {
      "cell_type": "code",
      "source": [
        "import torch.nn as nn\n",
        "m = nn.Conv1d(16, 33, 3, stride=2)\n",
        "input = torch.randn(20, 16, 50)\n",
        "output = m(input)"
      ],
      "metadata": {
        "id": "TQyUiuexr1cq"
      },
      "execution_count": 32,
      "outputs": []
    },
    {
      "cell_type": "code",
      "source": [
        "output.shape"
      ],
      "metadata": {
        "colab": {
          "base_uri": "https://localhost:8080/"
        },
        "id": "MnqeGbBvYy8e",
        "outputId": "9af7627a-9abf-4a95-fe3a-878d4d6bdd39"
      },
      "execution_count": 34,
      "outputs": [
        {
          "output_type": "execute_result",
          "data": {
            "text/plain": [
              "torch.Size([20, 33, 24])"
            ]
          },
          "metadata": {},
          "execution_count": 34
        }
      ]
    },
    {
      "cell_type": "code",
      "source": [],
      "metadata": {
        "id": "0u09aQ5GY-Kc"
      },
      "execution_count": null,
      "outputs": []
    }
  ]
}