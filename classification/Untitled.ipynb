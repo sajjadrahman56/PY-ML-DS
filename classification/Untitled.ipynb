{
 "cells": [
  {
   "cell_type": "code",
   "execution_count": 1,
   "id": "36d85782",
   "metadata": {},
   "outputs": [],
   "source": [
    "file_handler = open(\"example.txt\",\"x\")"
   ]
  },
  {
   "cell_type": "code",
   "execution_count": 2,
   "id": "87db7d35",
   "metadata": {},
   "outputs": [
    {
     "data": {
      "text/plain": [
       "<_io.TextIOWrapper name='example.txt' mode='x' encoding='cp1252'>"
      ]
     },
     "execution_count": 2,
     "metadata": {},
     "output_type": "execute_result"
    }
   ],
   "source": [
    "file_handler"
   ]
  },
  {
   "cell_type": "code",
   "execution_count": 3,
   "id": "4fd2c32f",
   "metadata": {},
   "outputs": [],
   "source": [
    "file = open('G:\\\\Docment - File\\\\18-feb.txt','w+')"
   ]
  },
  {
   "cell_type": "code",
   "execution_count": 4,
   "id": "d07abf95",
   "metadata": {},
   "outputs": [
    {
     "data": {
      "text/plain": [
       "<_io.TextIOWrapper name='G:\\\\Docment - File\\\\18-feb.txt' mode='w+' encoding='cp1252'>"
      ]
     },
     "execution_count": 4,
     "metadata": {},
     "output_type": "execute_result"
    }
   ],
   "source": []
  },
  {
   "cell_type": "code",
   "execution_count": 7,
   "id": "0261d89b",
   "metadata": {},
   "outputs": [
    {
     "ename": "AttributeError",
     "evalue": "'_io.TextIOWrapper' object has no attribute 'content'",
     "output_type": "error",
     "traceback": [
      "\u001b[1;31m---------------------------------------------------------------------------\u001b[0m",
      "\u001b[1;31mAttributeError\u001b[0m                            Traceback (most recent call last)",
      "\u001b[1;32m~\\AppData\\Local\\Temp\\ipykernel_8056\\2275918275.py\u001b[0m in \u001b[0;36m<module>\u001b[1;34m\u001b[0m\n\u001b[1;32m----> 1\u001b[1;33m \u001b[0mfile\u001b[0m\u001b[1;33m.\u001b[0m\u001b[0mcontent\u001b[0m\u001b[1;33m\u001b[0m\u001b[1;33m\u001b[0m\u001b[0m\n\u001b[0m",
      "\u001b[1;31mAttributeError\u001b[0m: '_io.TextIOWrapper' object has no attribute 'content'"
     ]
    }
   ],
   "source": [
    "file.content"
   ]
  },
  {
   "cell_type": "code",
   "execution_count": 6,
   "id": "be429746",
   "metadata": {},
   "outputs": [],
   "source": [
    "file?\n"
   ]
  },
  {
   "cell_type": "markdown",
   "id": "75256afa",
   "metadata": {},
   "source": [
    "# Manually add Open and Close method as it is concern "
   ]
  },
  {
   "cell_type": "code",
   "execution_count": 23,
   "id": "d62bdf9c",
   "metadata": {},
   "outputs": [
    {
     "name": "stdout",
     "output_type": "stream",
     "text": [
      "Printing each line in the text file\n",
      "hi i am sajjad I am \n",
      "\n",
      "learning python \n",
      "\n",
      "file tata\n",
      "\n"
     ]
    }
   ],
   "source": [
    "def read_file():\n",
    "    file_handler = open(\"text.txt\")\n",
    "    print(\"Printing each line in the text file\")\n",
    "    \n",
    "    for each_line in file_handler:\n",
    "        print(each_line)\n",
    "        \n",
    "    file_handler.close()\n",
    "    \n",
    "def main():\n",
    "    read_file()\n",
    "\n",
    "if __name__ == \"__main__\":\n",
    "    main()"
   ]
  },
  {
   "cell_type": "markdown",
   "id": "2f8c41c8",
   "metadata": {},
   "source": [
    "# No need to add close or open this is I love most "
   ]
  },
  {
   "cell_type": "code",
   "execution_count": 29,
   "id": "7b998b00",
   "metadata": {},
   "outputs": [
    {
     "name": "stdout",
     "output_type": "stream",
     "text": [
      "hi i am sajjad I am \n",
      "learning python \n",
      "file tata\n",
      "hi i am sajjad I am \n",
      "learning python \n",
      "file tata\n",
      "hi i am sajjad I am \n",
      "learning python \n",
      "file tata\n"
     ]
    }
   ],
   "source": [
    "def read_file():\n",
    "    \n",
    "    file_handler = open(\"text.txt\")\n",
    "    \n",
    "    with open(\"text.txt\") as file_handler:\n",
    "        \n",
    "        for each_line in file_handler:\n",
    "            \n",
    "            print(each_line, end=\"\")\n",
    "                      \n",
    "def main():\n",
    "    read_file()\n",
    "\n",
    "if __name__ == \"__main__\":\n",
    "    main()\n",
    "\n",
    "\n"
   ]
  },
  {
   "cell_type": "code",
   "execution_count": 30,
   "id": "4a326d7c",
   "metadata": {},
   "outputs": [
    {
     "data": {
      "text/plain": [
       "0"
      ]
     },
     "execution_count": 30,
     "metadata": {},
     "output_type": "execute_result"
    }
   ],
   "source": [
    "file_handler.tell()"
   ]
  },
  {
   "cell_type": "code",
   "execution_count": 39,
   "id": "478babb9",
   "metadata": {},
   "outputs": [
    {
     "name": "stdout",
     "output_type": "stream",
     "text": [
      " words =  ['hi', 'i', 'am', 'sajjad', 'I', 'am']\n"
     ]
    },
    {
     "ename": "NameError",
     "evalue": "name 'occure_word' is not defined",
     "output_type": "error",
     "traceback": [
      "\u001b[1;31m---------------------------------------------------------------------------\u001b[0m",
      "\u001b[1;31mNameError\u001b[0m                                 Traceback (most recent call last)",
      "\u001b[1;32m~\\AppData\\Local\\Temp\\ipykernel_8056\\3260676894.py\u001b[0m in \u001b[0;36m<module>\u001b[1;34m\u001b[0m\n\u001b[0;32m     24\u001b[0m \u001b[1;33m\u001b[0m\u001b[0m\n\u001b[0;32m     25\u001b[0m \u001b[1;32mif\u001b[0m \u001b[0m__name__\u001b[0m \u001b[1;33m==\u001b[0m \u001b[1;34m\"__main__\"\u001b[0m\u001b[1;33m:\u001b[0m\u001b[1;33m\u001b[0m\u001b[1;33m\u001b[0m\u001b[0m\n\u001b[1;32m---> 26\u001b[1;33m     \u001b[0mmain\u001b[0m\u001b[1;33m(\u001b[0m\u001b[1;33m)\u001b[0m\u001b[1;33m\u001b[0m\u001b[1;33m\u001b[0m\u001b[0m\n\u001b[0m\u001b[0;32m     27\u001b[0m \u001b[1;33m\u001b[0m\u001b[0m\n\u001b[0;32m     28\u001b[0m \u001b[1;33m\u001b[0m\u001b[0m\n",
      "\u001b[1;32m~\\AppData\\Local\\Temp\\ipykernel_8056\\3260676894.py\u001b[0m in \u001b[0;36mmain\u001b[1;34m()\u001b[0m\n\u001b[0;32m     21\u001b[0m \u001b[1;33m\u001b[0m\u001b[0m\n\u001b[0;32m     22\u001b[0m \u001b[1;32mdef\u001b[0m \u001b[0mmain\u001b[0m\u001b[1;33m(\u001b[0m\u001b[1;33m)\u001b[0m\u001b[1;33m:\u001b[0m\u001b[1;33m\u001b[0m\u001b[1;33m\u001b[0m\u001b[0m\n\u001b[1;32m---> 23\u001b[1;33m     \u001b[0mread_file11\u001b[0m\u001b[1;33m(\u001b[0m\u001b[1;33m)\u001b[0m\u001b[1;33m\u001b[0m\u001b[1;33m\u001b[0m\u001b[0m\n\u001b[0m\u001b[0;32m     24\u001b[0m \u001b[1;33m\u001b[0m\u001b[0m\n\u001b[0;32m     25\u001b[0m \u001b[1;32mif\u001b[0m \u001b[0m__name__\u001b[0m \u001b[1;33m==\u001b[0m \u001b[1;34m\"__main__\"\u001b[0m\u001b[1;33m:\u001b[0m\u001b[1;33m\u001b[0m\u001b[1;33m\u001b[0m\u001b[0m\n",
      "\u001b[1;32m~\\AppData\\Local\\Temp\\ipykernel_8056\\3260676894.py\u001b[0m in \u001b[0;36mread_file11\u001b[1;34m()\u001b[0m\n\u001b[0;32m     13\u001b[0m \u001b[1;33m\u001b[0m\u001b[0m\n\u001b[0;32m     14\u001b[0m             \u001b[1;32mfor\u001b[0m \u001b[0meach_words\u001b[0m \u001b[1;32min\u001b[0m \u001b[0mwords\u001b[0m\u001b[1;33m:\u001b[0m\u001b[1;33m\u001b[0m\u001b[1;33m\u001b[0m\u001b[0m\n\u001b[1;32m---> 15\u001b[1;33m                 \u001b[0moccur_word\u001b[0m\u001b[1;33m[\u001b[0m\u001b[0meach_words\u001b[0m\u001b[1;33m]\u001b[0m \u001b[1;33m=\u001b[0m \u001b[0moccure_word\u001b[0m\u001b[1;33m.\u001b[0m\u001b[0mget\u001b[0m\u001b[1;33m(\u001b[0m\u001b[0meach_words\u001b[0m\u001b[1;33m,\u001b[0m\u001b[1;36m0\u001b[0m\u001b[1;33m)\u001b[0m\u001b[1;33m+\u001b[0m\u001b[1;36m1\u001b[0m\u001b[1;33m\u001b[0m\u001b[1;33m\u001b[0m\u001b[0m\n\u001b[0m\u001b[0;32m     16\u001b[0m \u001b[1;33m\u001b[0m\u001b[0m\n\u001b[0;32m     17\u001b[0m         \u001b[0mprint\u001b[0m\u001b[1;33m(\u001b[0m\u001b[1;34m'the no of times each word appears in sentence is '\u001b[0m\u001b[1;33m)\u001b[0m\u001b[1;33m\u001b[0m\u001b[1;33m\u001b[0m\u001b[0m\n",
      "\u001b[1;31mNameError\u001b[0m: name 'occure_word' is not defined"
     ]
    }
   ],
   "source": [
    "def read_file11():\n",
    "    \n",
    "    occurrencr_of_words = dict()\n",
    "    \n",
    "    total_words = 0 \n",
    "    \n",
    "    with open ('text.txt') as file_data:\n",
    "        \n",
    "        for each_row in file_data:\n",
    "            words = each_row.rstrip().split()\n",
    "            print(' words = ',words)\n",
    "            total_words += len(words)\n",
    "            \n",
    "            for each_words in words:\n",
    "                occur_word[each_words] = occure_word.get(each_words,0)+1\n",
    "                \n",
    "        print('the no of times each word appears in sentence is ')\n",
    "        print(occure_word)\n",
    "            \n",
    "        print(f'total no words file are {total_words}')\n",
    "    \n",
    "def main():\n",
    "    read_file11()\n",
    "\n",
    "if __name__ == \"__main__\":\n",
    "    main()\n",
    "\n",
    "            "
   ]
  },
  {
   "cell_type": "code",
   "execution_count": 32,
   "id": "12dbfe81",
   "metadata": {},
   "outputs": [
    {
     "data": {
      "text/plain": [
       "{}"
      ]
     },
     "execution_count": 32,
     "metadata": {},
     "output_type": "execute_result"
    }
   ],
   "source": [
    "dict()"
   ]
  },
  {
   "cell_type": "code",
   "execution_count": 33,
   "id": "9d97a471",
   "metadata": {},
   "outputs": [
    {
     "name": "stdout",
     "output_type": "stream",
     "text": [
      "Object `occurrencr_of_words` not found.\n"
     ]
    }
   ],
   "source": [
    "occurrencr_of_words?"
   ]
  },
  {
   "cell_type": "code",
   "execution_count": null,
   "id": "5a0f2684",
   "metadata": {},
   "outputs": [],
   "source": []
  }
 ],
 "metadata": {
  "kernelspec": {
   "display_name": "Python 3 (ipykernel)",
   "language": "python",
   "name": "python3"
  },
  "language_info": {
   "codemirror_mode": {
    "name": "ipython",
    "version": 3
   },
   "file_extension": ".py",
   "mimetype": "text/x-python",
   "name": "python",
   "nbconvert_exporter": "python",
   "pygments_lexer": "ipython3",
   "version": "3.9.13"
  }
 },
 "nbformat": 4,
 "nbformat_minor": 5
}
