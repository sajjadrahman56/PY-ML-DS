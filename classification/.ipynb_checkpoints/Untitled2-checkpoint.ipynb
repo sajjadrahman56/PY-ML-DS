{
 "cells": [
  {
   "cell_type": "code",
   "execution_count": 7,
   "id": "eca057e1",
   "metadata": {},
   "outputs": [
    {
     "name": "stdout",
     "output_type": "stream",
     "text": [
      " words =  ['hi', 'i', 'am', 'sajjad', 'I', 'am']\n",
      " words =  ['learning', 'python']\n",
      " words =  ['file', 'tata']\n",
      " words =  ['hi', 'i', 'am', 'sajjad', 'I', 'am']\n",
      " words =  ['learning', 'python']\n",
      " words =  ['file', 'tata']\n",
      " words =  ['hi', 'i', 'am', 'sajjad', 'I', 'am']\n",
      " words =  ['learning', 'python']\n",
      " words =  ['file', 'tata']\n",
      "the no of times each word appears in sentence is \n",
      "{'hi': 3, 'i': 3, 'am': 6, 'sajjad': 3, 'I': 3, 'learning': 3, 'python': 3, 'file': 3, 'tata': 3}\n",
      "total no words file are 30\n"
     ]
    }
   ],
   "source": [
    "def read_file11():\n",
    "    \n",
    "    occur_word = dict()\n",
    "    \n",
    "    total_words = 0 \n",
    "    \n",
    "    with open ('text.txt') as file_data:\n",
    "        # i read each row \n",
    "        for each_row in file_data:\n",
    "            words = each_row.strip().split(\" \")\n",
    "            \n",
    "            print(' words = ',words)\n",
    "            total_words += len(words)\n",
    "            \n",
    "            \n",
    "            for each_words in words:\n",
    "                occur_word[each_words] = occur_word.get(each_words,0)+1\n",
    "                \n",
    "        print('the no of times each word appears in sentence is ')\n",
    "        print(occur_word) \n",
    "        print(f'total no words file are {total_words}')\n",
    "    \n",
    "def main():\n",
    "    read_file11()\n",
    "\n",
    "if __name__ == \"__main__\":\n",
    "    main()"
   ]
  },
  {
   "cell_type": "code",
   "execution_count": null,
   "id": "b2c39499",
   "metadata": {},
   "outputs": [],
   "source": []
  }
 ],
 "metadata": {
  "kernelspec": {
   "display_name": "Python 3 (ipykernel)",
   "language": "python",
   "name": "python3"
  },
  "language_info": {
   "codemirror_mode": {
    "name": "ipython",
    "version": 3
   },
   "file_extension": ".py",
   "mimetype": "text/x-python",
   "name": "python",
   "nbconvert_exporter": "python",
   "pygments_lexer": "ipython3",
   "version": "3.9.13"
  }
 },
 "nbformat": 4,
 "nbformat_minor": 5
}
