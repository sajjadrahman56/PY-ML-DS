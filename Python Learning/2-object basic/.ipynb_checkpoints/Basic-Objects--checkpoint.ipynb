{
 "cells": [
  {
   "cell_type": "markdown",
   "id": "fed9faf1",
   "metadata": {},
   "source": [
    "# String Slice \n",
    "\n",
    "- [ start : stop : step ] \n"
   ]
  },
  {
   "cell_type": "code",
   "execution_count": 6,
   "id": "e272d7e1",
   "metadata": {},
   "outputs": [],
   "source": [
    "str1 = 'sakib al hasan'\n"
   ]
  },
  {
   "cell_type": "code",
   "execution_count": 10,
   "id": "249b1260",
   "metadata": {},
   "outputs": [
    {
     "data": {
      "text/plain": [
       "14"
      ]
     },
     "execution_count": 10,
     "metadata": {},
     "output_type": "execute_result"
    }
   ],
   "source": [
    "len(str1)"
   ]
  },
  {
   "cell_type": "code",
   "execution_count": 12,
   "id": "aa0c004a",
   "metadata": {},
   "outputs": [
    {
     "name": "stdout",
     "output_type": "stream",
     "text": [
      "ai lhsn\n"
     ]
    }
   ],
   "source": [
    "# i wanna see those later whose position start from 2 and the step size 2 \n",
    "print(str1[1:14:2])"
   ]
  },
  {
   "cell_type": "code",
   "execution_count": 14,
   "id": "9b4b42ba",
   "metadata": {},
   "outputs": [
    {
     "data": {
      "text/plain": [
       "'siaha'"
      ]
     },
     "execution_count": 14,
     "metadata": {},
     "output_type": "execute_result"
    }
   ],
   "source": [
    "# from start to end but the step size is 3 \n",
    "str1[::3]"
   ]
  },
  {
   "cell_type": "markdown",
   "id": "337daea5",
   "metadata": {},
   "source": [
    "## string reverse "
   ]
  },
  {
   "cell_type": "code",
   "execution_count": 15,
   "id": "85090777",
   "metadata": {},
   "outputs": [
    {
     "data": {
      "text/plain": [
       "'nasah la bikas'"
      ]
     },
     "execution_count": 15,
     "metadata": {},
     "output_type": "execute_result"
    }
   ],
   "source": [
    "\n",
    "str1[::-1]"
   ]
  },
  {
   "cell_type": "markdown",
   "id": "8b9000fd",
   "metadata": {},
   "source": [
    "### more operations about [ start : end : step ] "
   ]
  },
  {
   "cell_type": "code",
   "execution_count": 26,
   "id": "a600386d",
   "metadata": {},
   "outputs": [
    {
     "data": {
      "text/plain": [
       "'n'"
      ]
     },
     "execution_count": 26,
     "metadata": {},
     "output_type": "execute_result"
    }
   ],
   "source": [
    "#'sakib al hasan'\n",
    "str1[-1::]"
   ]
  },
  {
   "cell_type": "code",
   "execution_count": 27,
   "id": "098ca1f8",
   "metadata": {},
   "outputs": [
    {
     "data": {
      "text/plain": [
       "'an'"
      ]
     },
     "execution_count": 27,
     "metadata": {},
     "output_type": "execute_result"
    }
   ],
   "source": [
    "#'sakib al hasan'\n",
    "str1[-2::]"
   ]
  },
  {
   "cell_type": "code",
   "execution_count": 28,
   "id": "934a8f02",
   "metadata": {},
   "outputs": [
    {
     "data": {
      "text/plain": [
       "'san'"
      ]
     },
     "execution_count": 28,
     "metadata": {},
     "output_type": "execute_result"
    }
   ],
   "source": [
    "#'sakib al hasan'\n",
    "str1[-3::]"
   ]
  },
  {
   "cell_type": "code",
   "execution_count": 29,
   "id": "93982791",
   "metadata": {},
   "outputs": [
    {
     "data": {
      "text/plain": [
       "'sakib al hasa'"
      ]
     },
     "execution_count": 29,
     "metadata": {},
     "output_type": "execute_result"
    }
   ],
   "source": [
    "#'sakib al hasan'\n",
    "str1[:-1:]"
   ]
  },
  {
   "cell_type": "code",
   "execution_count": 30,
   "id": "c033f99d",
   "metadata": {},
   "outputs": [
    {
     "data": {
      "text/plain": [
       "'sakib al has'"
      ]
     },
     "execution_count": 30,
     "metadata": {},
     "output_type": "execute_result"
    }
   ],
   "source": [
    "#'sakib al hasan'\n",
    "str1[:-2:]\n",
    "# the output remove the last 2 latter 'an' cause inside is -2"
   ]
  },
  {
   "cell_type": "markdown",
   "id": "b3a8cae6",
   "metadata": {},
   "source": [
    " ####  You should only write one line of code for print one charecter from the word. Do not assign a variable name to the string."
   ]
  },
  {
   "cell_type": "code",
   "execution_count": 34,
   "id": "d842973b",
   "metadata": {},
   "outputs": [
    {
     "data": {
      "text/plain": [
       "'j'"
      ]
     },
     "execution_count": 34,
     "metadata": {},
     "output_type": "execute_result"
    }
   ],
   "source": [
    "'sajjad'[3]"
   ]
  },
  {
   "cell_type": "code",
   "execution_count": 35,
   "id": "ea2784f9",
   "metadata": {},
   "outputs": [
    {
     "data": {
      "text/plain": [
       "'h'"
      ]
     },
     "execution_count": 35,
     "metadata": {},
     "output_type": "execute_result"
    }
   ],
   "source": [
    "'bangladesh'[9]"
   ]
  },
  {
   "cell_type": "markdown",
   "id": "2a25cb65",
   "metadata": {},
   "source": [
    "# String : Immuteable \n",
    "\n",
    "- immuteable means after assign it can not change directtly "
   ]
  },
  {
   "cell_type": "code",
   "execution_count": 36,
   "id": "7bbce89f",
   "metadata": {},
   "outputs": [],
   "source": [
    "name = 'sajjad'"
   ]
  },
  {
   "cell_type": "code",
   "execution_count": 38,
   "id": "8b750eaa",
   "metadata": {},
   "outputs": [],
   "source": [
    "# if i wanna change s to k it gives errors \n",
    "# name[0]='k'"
   ]
  },
  {
   "cell_type": "code",
   "execution_count": 39,
   "id": "98689177",
   "metadata": {},
   "outputs": [],
   "source": [
    "# i can do this CONCATANATION way"
   ]
  },
  {
   "cell_type": "markdown",
   "id": "dd459eff",
   "metadata": {},
   "source": [
    "# concatanation"
   ]
  },
  {
   "cell_type": "code",
   "execution_count": 40,
   "id": "daef9b7b",
   "metadata": {},
   "outputs": [],
   "source": [
    "last_laters = name[1:]\n",
    "name_with_k = 'K'+last_laters"
   ]
  },
  {
   "cell_type": "code",
   "execution_count": 41,
   "id": "310ac704",
   "metadata": {},
   "outputs": [
    {
     "data": {
      "text/plain": [
       "'Kajjad'"
      ]
     },
     "execution_count": 41,
     "metadata": {},
     "output_type": "execute_result"
    }
   ],
   "source": [
    "name_with_k"
   ]
  },
  {
   "cell_type": "markdown",
   "id": "c7f3373d",
   "metadata": {},
   "source": [
    "## more about concatanation\n",
    "\n",
    "- the difference between : ` string_variable name + 'something add '`\n",
    "- ` string_variable name = string_variable name + 'something add '  `\n",
    "-\n",
    "-\n",
    "- the first case it can not change after multiple times run \n",
    "- the second one change the value each run "
   ]
  },
  {
   "cell_type": "code",
   "execution_count": 42,
   "id": "4e4fa935",
   "metadata": {},
   "outputs": [],
   "source": [
    "data = 'is no 1 all rounder in the world'"
   ]
  },
  {
   "cell_type": "code",
   "execution_count": 45,
   "id": "358b2be7",
   "metadata": {},
   "outputs": [
    {
     "data": {
      "text/plain": [
       "'sakib al hasanis no 1 all rounder in the world'"
      ]
     },
     "execution_count": 45,
     "metadata": {},
     "output_type": "execute_result"
    }
   ],
   "source": [
    "'sakib al hasan'+data"
   ]
  },
  {
   "cell_type": "code",
   "execution_count": 52,
   "id": "13e2859a",
   "metadata": {},
   "outputs": [
    {
     "data": {
      "text/plain": [
       "'sakib al hasan sakib al hasan sakib al hasan sakib al hasan sakib al hasan sakib al hasan sakib al hasan is no 1 all rounder in the world'"
      ]
     },
     "execution_count": 52,
     "metadata": {},
     "output_type": "execute_result"
    }
   ],
   "source": [
    "data = 'sakib al hasan ' + data\n",
    "data"
   ]
  },
  {
   "cell_type": "code",
   "execution_count": null,
   "id": "2de1ed6d",
   "metadata": {},
   "outputs": [],
   "source": []
  },
  {
   "cell_type": "markdown",
   "id": "b8ad1699",
   "metadata": {},
   "source": [
    "## String More operations "
   ]
  },
  {
   "cell_type": "code",
   "execution_count": null,
   "id": "bb7243dd",
   "metadata": {},
   "outputs": [],
   "source": []
  }
 ],
 "metadata": {
  "kernelspec": {
   "display_name": "Python 3 (ipykernel)",
   "language": "python",
   "name": "python3"
  },
  "language_info": {
   "codemirror_mode": {
    "name": "ipython",
    "version": 3
   },
   "file_extension": ".py",
   "mimetype": "text/x-python",
   "name": "python",
   "nbconvert_exporter": "python",
   "pygments_lexer": "ipython3",
   "version": "3.9.13"
  }
 },
 "nbformat": 4,
 "nbformat_minor": 5
}
