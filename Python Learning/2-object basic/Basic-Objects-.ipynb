{
 "cells": [
  {
   "cell_type": "markdown",
   "id": "79a634e7",
   "metadata": {},
   "source": [
    "# String Slice \n",
    "\n",
    "- [ start : stop : step ] \n"
   ]
  },
  {
   "cell_type": "code",
   "execution_count": 6,
   "id": "9ff0fa13",
   "metadata": {},
   "outputs": [],
   "source": [
    "str1 = 'sakib al hasan'\n"
   ]
  },
  {
   "cell_type": "code",
   "execution_count": 10,
   "id": "9e756ffb",
   "metadata": {},
   "outputs": [
    {
     "data": {
      "text/plain": [
       "14"
      ]
     },
     "execution_count": 10,
     "metadata": {},
     "output_type": "execute_result"
    }
   ],
   "source": [
    "len(str1)"
   ]
  },
  {
   "cell_type": "code",
   "execution_count": 12,
   "id": "ec2c4635",
   "metadata": {},
   "outputs": [
    {
     "name": "stdout",
     "output_type": "stream",
     "text": [
      "ai lhsn\n"
     ]
    }
   ],
   "source": [
    "# i wanna see those later whose position start from 2 and the step size 2 \n",
    "print(str1[1:14:2])"
   ]
  },
  {
   "cell_type": "code",
   "execution_count": 14,
   "id": "6b35eb07",
   "metadata": {},
   "outputs": [
    {
     "data": {
      "text/plain": [
       "'siaha'"
      ]
     },
     "execution_count": 14,
     "metadata": {},
     "output_type": "execute_result"
    }
   ],
   "source": [
    "# from start to end but the step size is 3 \n",
    "str1[::3]"
   ]
  },
  {
   "cell_type": "markdown",
   "id": "8415fdf9",
   "metadata": {},
   "source": [
    "## string reverse "
   ]
  },
  {
   "cell_type": "code",
   "execution_count": 15,
   "id": "2d2a8920",
   "metadata": {},
   "outputs": [
    {
     "data": {
      "text/plain": [
       "'nasah la bikas'"
      ]
     },
     "execution_count": 15,
     "metadata": {},
     "output_type": "execute_result"
    }
   ],
   "source": [
    "\n",
    "str1[::-1]"
   ]
  },
  {
   "cell_type": "markdown",
   "id": "11de9af3",
   "metadata": {},
   "source": [
    "### more operations about [ start : end : step ] "
   ]
  },
  {
   "cell_type": "code",
   "execution_count": 26,
   "id": "e5bc9716",
   "metadata": {},
   "outputs": [
    {
     "data": {
      "text/plain": [
       "'n'"
      ]
     },
     "execution_count": 26,
     "metadata": {},
     "output_type": "execute_result"
    }
   ],
   "source": [
    "#'sakib al hasan'\n",
    "str1[-1::]"
   ]
  },
  {
   "cell_type": "code",
   "execution_count": 27,
   "id": "e0694ec6",
   "metadata": {},
   "outputs": [
    {
     "data": {
      "text/plain": [
       "'an'"
      ]
     },
     "execution_count": 27,
     "metadata": {},
     "output_type": "execute_result"
    }
   ],
   "source": [
    "#'sakib al hasan'\n",
    "str1[-2::]"
   ]
  },
  {
   "cell_type": "code",
   "execution_count": 28,
   "id": "8aed6c92",
   "metadata": {},
   "outputs": [
    {
     "data": {
      "text/plain": [
       "'san'"
      ]
     },
     "execution_count": 28,
     "metadata": {},
     "output_type": "execute_result"
    }
   ],
   "source": [
    "#'sakib al hasan'\n",
    "str1[-3::]"
   ]
  },
  {
   "cell_type": "code",
   "execution_count": 29,
   "id": "f2606036",
   "metadata": {},
   "outputs": [
    {
     "data": {
      "text/plain": [
       "'sakib al hasa'"
      ]
     },
     "execution_count": 29,
     "metadata": {},
     "output_type": "execute_result"
    }
   ],
   "source": [
    "#'sakib al hasan'\n",
    "str1[:-1:]"
   ]
  },
  {
   "cell_type": "code",
   "execution_count": 30,
   "id": "820b2bcd",
   "metadata": {},
   "outputs": [
    {
     "data": {
      "text/plain": [
       "'sakib al has'"
      ]
     },
     "execution_count": 30,
     "metadata": {},
     "output_type": "execute_result"
    }
   ],
   "source": [
    "#'sakib al hasan'\n",
    "str1[:-2:]\n",
    "# the output remove the last 2 latter 'an' cause inside is -2"
   ]
  },
  {
   "cell_type": "markdown",
   "id": "1bcf7b22",
   "metadata": {},
   "source": [
    " ####  You should only write one line of code for print one charecter from the word. Do not assign a variable name to the string."
   ]
  },
  {
   "cell_type": "code",
   "execution_count": 34,
   "id": "c220f4b7",
   "metadata": {},
   "outputs": [
    {
     "data": {
      "text/plain": [
       "'j'"
      ]
     },
     "execution_count": 34,
     "metadata": {},
     "output_type": "execute_result"
    }
   ],
   "source": [
    "'sajjad'[3]"
   ]
  },
  {
   "cell_type": "code",
   "execution_count": 35,
   "id": "fd3bb6d1",
   "metadata": {},
   "outputs": [
    {
     "data": {
      "text/plain": [
       "'h'"
      ]
     },
     "execution_count": 35,
     "metadata": {},
     "output_type": "execute_result"
    }
   ],
   "source": [
    "'bangladesh'[9]"
   ]
  },
  {
   "cell_type": "markdown",
   "id": "1ee45fe4",
   "metadata": {},
   "source": [
    "# String : Immuteable \n",
    "\n",
    "- immuteable means after assign it can not change directtly "
   ]
  },
  {
   "cell_type": "code",
   "execution_count": 36,
   "id": "3f9be5d5",
   "metadata": {},
   "outputs": [],
   "source": [
    "name = 'sajjad'"
   ]
  },
  {
   "cell_type": "code",
   "execution_count": 38,
   "id": "f0faea24",
   "metadata": {},
   "outputs": [],
   "source": [
    "# if i wanna change s to k it gives errors \n",
    "# name[0]='k'"
   ]
  },
  {
   "cell_type": "code",
   "execution_count": 39,
   "id": "95c3dcb8",
   "metadata": {},
   "outputs": [],
   "source": [
    "# i can do this CONCATANATION way"
   ]
  },
  {
   "cell_type": "markdown",
   "id": "97f7598e",
   "metadata": {},
   "source": [
    "# concatanation"
   ]
  },
  {
   "cell_type": "code",
   "execution_count": 40,
   "id": "9dfa191c",
   "metadata": {},
   "outputs": [],
   "source": [
    "last_laters = name[1:]\n",
    "name_with_k = 'K'+last_laters"
   ]
  },
  {
   "cell_type": "code",
   "execution_count": 41,
   "id": "b6caef6b",
   "metadata": {},
   "outputs": [
    {
     "data": {
      "text/plain": [
       "'Kajjad'"
      ]
     },
     "execution_count": 41,
     "metadata": {},
     "output_type": "execute_result"
    }
   ],
   "source": [
    "name_with_k"
   ]
  },
  {
   "cell_type": "markdown",
   "id": "f6aa9721",
   "metadata": {},
   "source": [
    "## more about concatanation\n",
    "\n",
    "- the difference between : ` string_variable name + 'something add '`\n",
    "- ` string_variable name = string_variable name + 'something add '  `\n",
    "-\n",
    "-\n",
    "- the first case it can not change after multiple times run \n",
    "- the second one change the value each run "
   ]
  },
  {
   "cell_type": "code",
   "execution_count": 42,
   "id": "a768f91b",
   "metadata": {},
   "outputs": [],
   "source": [
    "data = 'is no 1 all rounder in the world'"
   ]
  },
  {
   "cell_type": "code",
   "execution_count": 45,
   "id": "d89db3df",
   "metadata": {},
   "outputs": [
    {
     "data": {
      "text/plain": [
       "'sakib al hasanis no 1 all rounder in the world'"
      ]
     },
     "execution_count": 45,
     "metadata": {},
     "output_type": "execute_result"
    }
   ],
   "source": [
    "'sakib al hasan'+data"
   ]
  },
  {
   "cell_type": "code",
   "execution_count": 52,
   "id": "76e66ee4",
   "metadata": {},
   "outputs": [
    {
     "data": {
      "text/plain": [
       "'sakib al hasan sakib al hasan sakib al hasan sakib al hasan sakib al hasan sakib al hasan sakib al hasan is no 1 all rounder in the world'"
      ]
     },
     "execution_count": 52,
     "metadata": {},
     "output_type": "execute_result"
    }
   ],
   "source": [
    "data = 'sakib al hasan ' + data\n",
    "data"
   ]
  },
  {
   "cell_type": "code",
   "execution_count": null,
   "id": "7883dae3",
   "metadata": {},
   "outputs": [],
   "source": []
  },
  {
   "cell_type": "markdown",
   "id": "57444aea",
   "metadata": {},
   "source": [
    "## String More operations "
   ]
  },
  {
   "cell_type": "code",
   "execution_count": 53,
   "id": "05712a9f",
   "metadata": {},
   "outputs": [],
   "source": [
    "name = 'sakib'"
   ]
  },
  {
   "cell_type": "code",
   "execution_count": 54,
   "id": "40a28920",
   "metadata": {},
   "outputs": [
    {
     "data": {
      "text/plain": [
       "'SAKIB'"
      ]
     },
     "execution_count": 54,
     "metadata": {},
     "output_type": "execute_result"
    }
   ],
   "source": [
    "# for upper case \n",
    "\n",
    "name.upper()"
   ]
  },
  {
   "cell_type": "code",
   "execution_count": 56,
   "id": "3a9903df",
   "metadata": {},
   "outputs": [
    {
     "data": {
      "text/plain": [
       "['sakib']"
      ]
     },
     "execution_count": 56,
     "metadata": {},
     "output_type": "execute_result"
    }
   ],
   "source": [
    "# string split , nothing pass consider the value is space \n",
    "\n",
    "name.split()"
   ]
  },
  {
   "cell_type": "code",
   "execution_count": 60,
   "id": "89d0f6cd",
   "metadata": {},
   "outputs": [
    {
     "data": {
      "text/plain": [
       "['jk', ' dfd', 'sd sdfs', 'dfsf', ' asdfs', 'dsasdf']"
      ]
     },
     "execution_count": 60,
     "metadata": {},
     "output_type": "execute_result"
    }
   ],
   "source": [
    "# lests assume another one , a random taking things . i wanna split based on 'i'\n",
    "\n",
    "name = 'jki dfdisd sdfsidfsfi asdfsidsasdf'\n",
    "\n",
    "name.split('i')\n",
    "\n",
    "# in the output we will see the i is missing cause it split in the based on 'i' later"
   ]
  },
  {
   "cell_type": "code",
   "execution_count": 61,
   "id": "044c2297",
   "metadata": {},
   "outputs": [],
   "source": [
    "# video end 17 nb "
   ]
  },
  {
   "cell_type": "code",
   "execution_count": null,
   "id": "740fecca",
   "metadata": {},
   "outputs": [],
   "source": [
    "   "
   ]
  }
 ],
 "metadata": {
  "kernelspec": {
   "display_name": "Python 3 (ipykernel)",
   "language": "python",
   "name": "python3"
  },
  "language_info": {
   "codemirror_mode": {
    "name": "ipython",
    "version": 3
   },
   "file_extension": ".py",
   "mimetype": "text/x-python",
   "name": "python",
   "nbconvert_exporter": "python",
   "pygments_lexer": "ipython3",
   "version": "3.9.13"
  }
 },
 "nbformat": 4,
 "nbformat_minor": 5
}
