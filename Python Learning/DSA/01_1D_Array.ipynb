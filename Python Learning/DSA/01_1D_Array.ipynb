{
  "nbformat": 4,
  "nbformat_minor": 0,
  "metadata": {
    "colab": {
      "provenance": []
    },
    "kernelspec": {
      "name": "python3",
      "display_name": "Python 3"
    },
    "language_info": {
      "name": "python"
    }
  },
  "cells": [
    {
      "cell_type": "code",
      "execution_count": 1,
      "metadata": {
        "id": "jGrCKVx8kOtz"
      },
      "outputs": [],
      "source": [
        "# some points about array\n"
      ]
    },
    {
      "cell_type": "markdown",
      "source": [
        "- Array can store data of specified type\n",
        "- Element of array are located in a contiguous\n",
        "- Each Element of an array has a unique inedx\n",
        "-\n",
        "-\n",
        "- We use array for a collection of variable type data\n",
        "\n",
        "## types of array\n",
        "- one Dimesion\n",
        "- multiple Dimension ( representing in Memory as like 1d )\n"
      ],
      "metadata": {
        "id": "DzD25x0PkZjx"
      }
    },
    {
      "cell_type": "code",
      "source": [
        "arr = [2,3,4,5,6,90,87]"
      ],
      "metadata": {
        "id": "qgavBu0qklfe"
      },
      "execution_count": 2,
      "outputs": []
    },
    {
      "cell_type": "code",
      "source": [
        "import array\n",
        "\n",
        "arr = array.array('i') # O(1) - creating empty array\n",
        "print(arr)"
      ],
      "metadata": {
        "colab": {
          "base_uri": "https://localhost:8080/"
        },
        "id": "9e3o92g0mcyl",
        "outputId": "a580afad-66cb-48ad-933c-3449d8713632"
      },
      "execution_count": 3,
      "outputs": [
        {
          "output_type": "stream",
          "name": "stdout",
          "text": [
            "array('i')\n"
          ]
        }
      ]
    },
    {
      "cell_type": "code",
      "source": [
        "import array\n",
        "\n",
        "arr = array.array('i',[1,2,3,4,5]) # O(N) - creating non- empty array\n",
        "print(arr)"
      ],
      "metadata": {
        "colab": {
          "base_uri": "https://localhost:8080/"
        },
        "id": "tzJvnt7Qmkqb",
        "outputId": "d8909753-b4a7-4739-8fd3-2db487536e43"
      },
      "execution_count": 4,
      "outputs": [
        {
          "output_type": "stream",
          "name": "stdout",
          "text": [
            "array('i', [1, 2, 3, 4, 5])\n"
          ]
        }
      ]
    },
    {
      "cell_type": "code",
      "source": [
        "# another away is created array is\n",
        "import numpy as np\n",
        "np_arr = np.array([],dtype=int) # O(1)  - creating empty array\n",
        "print(np_arr)"
      ],
      "metadata": {
        "colab": {
          "base_uri": "https://localhost:8080/"
        },
        "id": "4V0VSsHEnRVJ",
        "outputId": "74072983-f8f2-4397-92bc-e797a2e95b74"
      },
      "execution_count": 5,
      "outputs": [
        {
          "output_type": "stream",
          "name": "stdout",
          "text": [
            "[]\n"
          ]
        }
      ]
    },
    {
      "cell_type": "code",
      "source": [
        "# another away is created array is\n",
        "import numpy as np\n",
        "np_arr1 = np.array([1,76,5,4,323],dtype=int) # O(N) - creating non- empty array\n",
        "print(np_arr1)"
      ],
      "metadata": {
        "colab": {
          "base_uri": "https://localhost:8080/"
        },
        "id": "oe2Ux5DAoV2q",
        "outputId": "93d8241a-832e-43e7-b449-d4fee5ab6619"
      },
      "execution_count": 6,
      "outputs": [
        {
          "output_type": "stream",
          "name": "stdout",
          "text": [
            "[  1  76   5   4 323]\n"
          ]
        }
      ]
    },
    {
      "cell_type": "code",
      "source": [
        "# Time and Space\n",
        "#\n",
        "# Createing and Empty array O(1)\n",
        "# space complexity is O(N)"
      ],
      "metadata": {
        "id": "w0bKdsVxolxw"
      },
      "execution_count": 7,
      "outputs": []
    },
    {
      "cell_type": "markdown",
      "source": [
        "# Insert Element In Array\n",
        "- start\n",
        "- end\n",
        "- middle ( index )\n",
        "\n",
        "## Time and Space Compleixty\n",
        "- Time => O(N)\n",
        "- Space => O(1)"
      ],
      "metadata": {
        "id": "GDx5QT5ZphJB"
      }
    },
    {
      "cell_type": "code",
      "source": [
        "# start\n",
        "\n",
        "import array\n",
        "\n",
        "arr = array.array('i',[4,5,34,2,1])\n",
        "print(arr)\n",
        "\n",
        "arr.insert(0,90)\n",
        "print(arr)"
      ],
      "metadata": {
        "colab": {
          "base_uri": "https://localhost:8080/"
        },
        "id": "HxgxlmHipQYj",
        "outputId": "d4360298-74b5-42bf-d8e4-d0cde2137b01"
      },
      "execution_count": 8,
      "outputs": [
        {
          "output_type": "stream",
          "name": "stdout",
          "text": [
            "array('i', [4, 5, 34, 2, 1])\n",
            "array('i', [90, 4, 5, 34, 2, 1])\n"
          ]
        }
      ]
    },
    {
      "cell_type": "code",
      "source": [
        "# insert in any Index\n",
        "\n",
        "arr = array.array('i',[4,5,34,2,1])\n",
        "print(arr)\n",
        "\n",
        "arr.insert(3,920)\n",
        "print(arr)"
      ],
      "metadata": {
        "colab": {
          "base_uri": "https://localhost:8080/"
        },
        "id": "SY8m95h8p_Ny",
        "outputId": "42d87e2e-01c6-4510-9213-96501cab9cbe"
      },
      "execution_count": 9,
      "outputs": [
        {
          "output_type": "stream",
          "name": "stdout",
          "text": [
            "array('i', [4, 5, 34, 2, 1])\n",
            "array('i', [4, 5, 34, 920, 2, 1])\n"
          ]
        }
      ]
    },
    {
      "cell_type": "code",
      "source": [],
      "metadata": {
        "id": "8OpKtVesqD1h"
      },
      "execution_count": 9,
      "outputs": []
    },
    {
      "cell_type": "markdown",
      "source": [
        "# Array traversal\n",
        "- start a loop and print the each index is called traversal\n"
      ],
      "metadata": {
        "id": "go5vlcJSrOdn"
      }
    },
    {
      "cell_type": "code",
      "source": [
        "from array import *\n",
        "\n",
        "arr1 = array('i',[45,34,23,67])\n",
        "arr2 = array('d',[12.34,43.2,56.7,67.54])\n",
        "\n",
        "def traversal(array_):\n",
        "  for i in array_:     # O(1)\n",
        "    print(i)            # O(N)\n",
        "\n",
        "\n",
        "traversal(arr1)\n"
      ],
      "metadata": {
        "colab": {
          "base_uri": "https://localhost:8080/"
        },
        "id": "JNXG1VbZrc7Q",
        "outputId": "542d60ae-227c-4260-e73e-0d272acd7863"
      },
      "execution_count": 10,
      "outputs": [
        {
          "output_type": "stream",
          "name": "stdout",
          "text": [
            "45\n",
            "34\n",
            "23\n",
            "67\n"
          ]
        }
      ]
    },
    {
      "cell_type": "code",
      "source": [],
      "metadata": {
        "id": "vr4NLjH5tPKk"
      },
      "execution_count": 10,
      "outputs": []
    },
    {
      "cell_type": "code",
      "source": [],
      "metadata": {
        "id": "VgAd_NECt0NR"
      },
      "execution_count": 10,
      "outputs": []
    },
    {
      "cell_type": "code",
      "source": [
        "# another away traversal - index based\n",
        "def traversal_v2(array,index):\n",
        "  if index < len(array):  # O(1) - for any condition\n",
        "    print(array[index])    # O(1) - for any condition\n",
        "  else:\n",
        "    print('index out of the range ')  # O(1) - for any condition\n",
        "\n",
        "\n",
        "traversal_v2(arr2,4)"
      ],
      "metadata": {
        "colab": {
          "base_uri": "https://localhost:8080/"
        },
        "id": "wVz64zmxrvae",
        "outputId": "93597c53-20c9-4670-acdd-e850bb7f240f"
      },
      "execution_count": 11,
      "outputs": [
        {
          "output_type": "stream",
          "name": "stdout",
          "text": [
            "index out of the range \n"
          ]
        }
      ]
    },
    {
      "cell_type": "markdown",
      "source": [
        "# 34\n",
        "https://colonline.udemy.com/course/data-structures-and-algorithms-bootcamp-in-python/learn/lecture/37471944#overview\n"
      ],
      "metadata": {
        "id": "wE0DbN8PuOVy"
      }
    },
    {
      "cell_type": "code",
      "source": [],
      "metadata": {
        "id": "8BBEuEILtRMf"
      },
      "execution_count": 11,
      "outputs": []
    },
    {
      "cell_type": "markdown",
      "source": [
        "## Array Practice"
      ],
      "metadata": {
        "id": "97kx0KatvHAZ"
      }
    },
    {
      "cell_type": "code",
      "source": [
        "from array import *\n",
        "\n",
        "# create and traverse array\n",
        "\n",
        "arr1 = array('i',[45,75,72,34])\n",
        "\n",
        "for i in arr1:\n",
        "  print(i)"
      ],
      "metadata": {
        "colab": {
          "base_uri": "https://localhost:8080/"
        },
        "id": "4RJTmR5NtQ0A",
        "outputId": "42060f84-0e37-4325-e92c-9b4fe500ec1e"
      },
      "execution_count": 12,
      "outputs": [
        {
          "output_type": "stream",
          "name": "stdout",
          "text": [
            "45\n",
            "75\n",
            "72\n",
            "34\n"
          ]
        }
      ]
    },
    {
      "cell_type": "code",
      "source": [
        "# access individual element through elements\n",
        "print(arr1[3])\n",
        "\n",
        "# 3. using append() methods\n",
        "\n",
        "print('Append')\n",
        "arr1.append(565)\n",
        "arr1"
      ],
      "metadata": {
        "colab": {
          "base_uri": "https://localhost:8080/"
        },
        "id": "LsRtNVvytqiF",
        "outputId": "f415d052-1abf-444b-93d0-e0b24c4aaf8a"
      },
      "execution_count": 13,
      "outputs": [
        {
          "output_type": "stream",
          "name": "stdout",
          "text": [
            "34\n",
            "Append\n"
          ]
        },
        {
          "output_type": "execute_result",
          "data": {
            "text/plain": [
              "array('i', [45, 75, 72, 34, 565])"
            ]
          },
          "metadata": {},
          "execution_count": 13
        }
      ]
    },
    {
      "cell_type": "code",
      "source": [
        "# 4. Insert value in Array using insert method\n",
        "print('step 4')\n",
        "arr1.insert(2,99)\n",
        "print(arr1)"
      ],
      "metadata": {
        "colab": {
          "base_uri": "https://localhost:8080/"
        },
        "id": "KJ7GBMRxt6WX",
        "outputId": "2db137f4-64f7-4e2f-e2a1-177cd0801c6d"
      },
      "execution_count": 14,
      "outputs": [
        {
          "output_type": "stream",
          "name": "stdout",
          "text": [
            "step 4\n",
            "array('i', [45, 75, 99, 72, 34, 565])\n"
          ]
        }
      ]
    },
    {
      "cell_type": "code",
      "source": [
        "# 5 using extend() method - to extend our array\n",
        "arr2 = array('i',[100,500,300,500])\n",
        "arr2.extend(arr1) # add arr1 here as a result we can see the same thing repeat in the last of 2nd array\n",
        "print(arr2)"
      ],
      "metadata": {
        "colab": {
          "base_uri": "https://localhost:8080/"
        },
        "id": "DHWOdML4uyn7",
        "outputId": "5c5190e3-e6aa-420b-d667-db72bb401c7d"
      },
      "execution_count": 15,
      "outputs": [
        {
          "output_type": "stream",
          "name": "stdout",
          "text": [
            "array('i', [100, 500, 300, 500, 45, 75, 99, 72, 34, 565])\n"
          ]
        }
      ]
    },
    {
      "cell_type": "markdown",
      "source": [],
      "metadata": {
        "id": "Zx6FoCTiwwo7"
      }
    },
    {
      "cell_type": "code",
      "source": [
        "# 6 list into array using fromList()\n",
        "tempList = [20,21,23,30]\n",
        "arr2.fromlist(tempList)\n",
        "print(arr2)"
      ],
      "metadata": {
        "colab": {
          "base_uri": "https://localhost:8080/"
        },
        "id": "ycCyRnvAvwYM",
        "outputId": "04c31897-d572-4645-9b9d-431d0ca98259"
      },
      "execution_count": 16,
      "outputs": [
        {
          "output_type": "stream",
          "name": "stdout",
          "text": [
            "array('i', [100, 500, 300, 500, 45, 75, 99, 72, 34, 565, 20, 21, 23, 30])\n"
          ]
        }
      ]
    },
    {
      "cell_type": "code",
      "source": [
        "# 7 remove any element from array\n",
        "arr2.remove(500)\n",
        "print(arr2) # if the similar data available at that time first one goes to remove"
      ],
      "metadata": {
        "id": "FnayR1hEwQJ9",
        "colab": {
          "base_uri": "https://localhost:8080/"
        },
        "outputId": "64cd6094-6227-45ae-cd3d-2bda35599a60"
      },
      "execution_count": 17,
      "outputs": [
        {
          "output_type": "stream",
          "name": "stdout",
          "text": [
            "array('i', [100, 300, 500, 45, 75, 99, 72, 34, 565, 20, 21, 23, 30])\n"
          ]
        }
      ]
    },
    {
      "cell_type": "code",
      "source": [
        "# 8 pop() using\n",
        "arr2.pop()\n",
        "print(arr2)"
      ],
      "metadata": {
        "colab": {
          "base_uri": "https://localhost:8080/"
        },
        "id": "QH1ylz8fxONz",
        "outputId": "452a0730-3a30-4be6-fa6e-9a9c9d2795a4"
      },
      "execution_count": 18,
      "outputs": [
        {
          "output_type": "stream",
          "name": "stdout",
          "text": [
            "array('i', [100, 300, 500, 45, 75, 99, 72, 34, 565, 20, 21, 23])\n"
          ]
        }
      ]
    },
    {
      "cell_type": "code",
      "source": [
        "# 9 fetch any element through index()\n",
        "print('step 9')\n",
        "# assume 99 is a value and I do not know where it is in the large array . I can know its crossponding index number by using the index() methods\n",
        "print(arr2.index(99))"
      ],
      "metadata": {
        "colab": {
          "base_uri": "https://localhost:8080/"
        },
        "id": "G9U6bs_3xQUK",
        "outputId": "8d0efacb-3ed0-4014-9268-aa3b44ff0b7d"
      },
      "execution_count": 19,
      "outputs": [
        {
          "output_type": "stream",
          "name": "stdout",
          "text": [
            "step 9\n",
            "5\n"
          ]
        }
      ]
    },
    {
      "cell_type": "code",
      "source": [
        "# 10 reverse\n",
        "print('step 10')\n",
        "arr2.reverse()\n",
        "arr2"
      ],
      "metadata": {
        "colab": {
          "base_uri": "https://localhost:8080/"
        },
        "id": "m57Lalb9x7Uz",
        "outputId": "c0a62dbd-66c6-42e7-a989-d23905233ee6"
      },
      "execution_count": 20,
      "outputs": [
        {
          "output_type": "stream",
          "name": "stdout",
          "text": [
            "step 10\n"
          ]
        },
        {
          "output_type": "execute_result",
          "data": {
            "text/plain": [
              "array('i', [23, 21, 20, 565, 34, 72, 99, 75, 45, 500, 300, 100])"
            ]
          },
          "metadata": {},
          "execution_count": 20
        }
      ]
    },
    {
      "cell_type": "code",
      "source": [
        "# 11 buffere information through the buffer_info() methods\n",
        "\n",
        "print('step 11')\n",
        "# arr2.buffer_info()\n",
        "print(arr2.buffer_info())"
      ],
      "metadata": {
        "colab": {
          "base_uri": "https://localhost:8080/"
        },
        "id": "oEyQXi8sySG7",
        "outputId": "f9496175-0de5-4023-f0b3-d9b93463d88c"
      },
      "execution_count": 21,
      "outputs": [
        {
          "output_type": "stream",
          "name": "stdout",
          "text": [
            "step 11\n",
            "(138756241438256, 12)\n"
          ]
        }
      ]
    },
    {
      "cell_type": "code",
      "source": [
        "# 12 count method\n",
        "#\n",
        "# Generally count methods used for to know the total no of the elements , but here in Python it returns the no of occurances\n",
        "arr2.count(99)"
      ],
      "metadata": {
        "colab": {
          "base_uri": "https://localhost:8080/"
        },
        "id": "qiWIXdrpyg_T",
        "outputId": "ebb906e9-b8f9-4d0b-ccab-6f44bbfb1743"
      },
      "execution_count": 22,
      "outputs": [
        {
          "output_type": "execute_result",
          "data": {
            "text/plain": [
              "1"
            ]
          },
          "metadata": {},
          "execution_count": 22
        }
      ]
    },
    {
      "cell_type": "code",
      "source": [
        "# 13 array to str\n",
        "str1 =  str(arr2)\n",
        "print(str1)\n"
      ],
      "metadata": {
        "colab": {
          "base_uri": "https://localhost:8080/"
        },
        "id": "bpTeaS0Xy9O7",
        "outputId": "f232e260-640c-4481-a3e1-af32b235693b"
      },
      "execution_count": 23,
      "outputs": [
        {
          "output_type": "stream",
          "name": "stdout",
          "text": [
            "array('i', [23, 21, 20, 565, 34, 72, 99, 75, 45, 500, 300, 100])\n"
          ]
        }
      ]
    },
    {
      "cell_type": "code",
      "source": [],
      "metadata": {
        "id": "pFHas0b6zFsi"
      },
      "execution_count": 23,
      "outputs": []
    },
    {
      "cell_type": "markdown",
      "source": [
        "## array operatins"
      ],
      "metadata": {
        "id": "dxpR8yZl0yd9"
      }
    },
    {
      "cell_type": "code",
      "source": [
        "from array import *"
      ],
      "metadata": {
        "id": "SpSo9XEDt0kw"
      },
      "execution_count": 24,
      "outputs": []
    },
    {
      "cell_type": "code",
      "source": [
        "# 1 create array and traverse\n",
        "my_arr = array('i',[1,2,3,4,5]) # 'i' is typecode represent int\n",
        "\n",
        "for i in my_arr: #O(N)\n",
        "  print(i)"
      ],
      "metadata": {
        "colab": {
          "base_uri": "https://localhost:8080/"
        },
        "id": "86ybzKO4t5-o",
        "outputId": "df71c1fd-510d-45f5-840c-d37f94e1aa69"
      },
      "execution_count": 25,
      "outputs": [
        {
          "output_type": "stream",
          "name": "stdout",
          "text": [
            "1\n",
            "2\n",
            "3\n",
            "4\n",
            "5\n"
          ]
        }
      ]
    },
    {
      "cell_type": "code",
      "source": [
        "# 2 access individual array elements through indexes\n",
        "my_arr = array('i',[1,2,3,4,5]) # 'i' is typecode represent int\n",
        "\n",
        "my_arr[0]"
      ],
      "metadata": {
        "colab": {
          "base_uri": "https://localhost:8080/"
        },
        "id": "2AdDeknFubnz",
        "outputId": "c4694f88-18d3-4e6d-afb1-e307c662779e"
      },
      "execution_count": 26,
      "outputs": [
        {
          "output_type": "execute_result",
          "data": {
            "text/plain": [
              "1"
            ]
          },
          "metadata": {},
          "execution_count": 26
        }
      ]
    },
    {
      "cell_type": "code",
      "source": [
        "# 3 append any values using append() method\n",
        "my_arr = array('i',[1,2,3,4,5]) # 'i' is typecode represent int\n",
        "\n",
        "my_arr.append(33) # append element in the end of the array  O(N)\n",
        "my_arr"
      ],
      "metadata": {
        "colab": {
          "base_uri": "https://localhost:8080/"
        },
        "id": "OlLkO0KFu2Jp",
        "outputId": "bd62cc8d-fcb2-4d16-bd64-76be7720d8b5"
      },
      "execution_count": 27,
      "outputs": [
        {
          "output_type": "execute_result",
          "data": {
            "text/plain": [
              "array('i', [1, 2, 3, 4, 5, 33])"
            ]
          },
          "metadata": {},
          "execution_count": 27
        }
      ]
    },
    {
      "cell_type": "code",
      "source": [
        "# 4 insert value using insert()\n",
        "my_arr = array('i',[1,2,3,4,5]) # 'i' is typecode represent int\n",
        "\n",
        "my_arr.insert(3,100)  # insert takes 2 argument first is indices and second parameter is value we can add any element of any indices\n",
        "\n",
        "my_arr"
      ],
      "metadata": {
        "colab": {
          "base_uri": "https://localhost:8080/"
        },
        "id": "c3o2cHnlvLxX",
        "outputId": "44542bb8-ab67-4180-c213-22ba1ba8710f"
      },
      "execution_count": 28,
      "outputs": [
        {
          "output_type": "execute_result",
          "data": {
            "text/plain": [
              "array('i', [1, 2, 3, 100, 4, 5])"
            ]
          },
          "metadata": {},
          "execution_count": 28
        }
      ]
    },
    {
      "cell_type": "code",
      "source": [
        "# 5 Extend python array using extend() method\n",
        "\n",
        "arr = array('i',[100,200,300,400])\n",
        "arr.extend([900,500]) # use can pass arr also inside the extend method arr.extend(arr)\n",
        "arr"
      ],
      "metadata": {
        "colab": {
          "base_uri": "https://localhost:8080/"
        },
        "id": "M7MqsBidvQk_",
        "outputId": "c8171257-b1f8-4d09-e86f-d8dab4224e3c"
      },
      "execution_count": 29,
      "outputs": [
        {
          "output_type": "execute_result",
          "data": {
            "text/plain": [
              "array('i', [100, 200, 300, 400, 900, 500])"
            ]
          },
          "metadata": {},
          "execution_count": 29
        }
      ]
    },
    {
      "cell_type": "code",
      "source": [
        "# 6 Add items from list into array using fromList() method\n",
        "\n",
        "tempList = [20,21,22,23] # created a temporary list which is going to add for further array\n",
        "\n",
        "arr = array('i',[100,200,300,400])  # created an array\n",
        "\n",
        "arr.fromlist(tempList) # using .fromlist() method and just passing the tempList over the here\n",
        "arr"
      ],
      "metadata": {
        "colab": {
          "base_uri": "https://localhost:8080/"
        },
        "id": "0m7c3rsdvpxi",
        "outputId": "4d95bbf4-566c-4fcc-b12b-b94d3e4a413b"
      },
      "execution_count": 30,
      "outputs": [
        {
          "output_type": "execute_result",
          "data": {
            "text/plain": [
              "array('i', [100, 200, 300, 400, 20, 21, 22, 23])"
            ]
          },
          "metadata": {},
          "execution_count": 30
        }
      ]
    },
    {
      "cell_type": "code",
      "source": [
        "arr"
      ],
      "metadata": {
        "colab": {
          "base_uri": "https://localhost:8080/"
        },
        "id": "PJ08geDnx6yy",
        "outputId": "3277a877-ba96-4f72-fa44-7513de5db762"
      },
      "execution_count": 31,
      "outputs": [
        {
          "output_type": "execute_result",
          "data": {
            "text/plain": [
              "array('i', [100, 200, 300, 400, 20, 21, 22, 23])"
            ]
          },
          "metadata": {},
          "execution_count": 31
        }
      ]
    },
    {
      "cell_type": "code",
      "source": [
        "# 7 Remove any element using remove()\n",
        "\n",
        "arr.remove(400)\n",
        "arr"
      ],
      "metadata": {
        "colab": {
          "base_uri": "https://localhost:8080/"
        },
        "id": "8v-EuCZjw8Mp",
        "outputId": "4376e93e-26ed-4f07-c5d6-bee06c7dfc85"
      },
      "execution_count": 32,
      "outputs": [
        {
          "output_type": "execute_result",
          "data": {
            "text/plain": [
              "array('i', [100, 200, 300, 20, 21, 22, 23])"
            ]
          },
          "metadata": {},
          "execution_count": 32
        }
      ]
    },
    {
      "cell_type": "code",
      "source": [
        "arr.remove(300)\n",
        "arr"
      ],
      "metadata": {
        "colab": {
          "base_uri": "https://localhost:8080/"
        },
        "id": "gydXfpRbxvD3",
        "outputId": "449c5c49-aca9-4811-8893-e1650c8e5ec1"
      },
      "execution_count": 33,
      "outputs": [
        {
          "output_type": "execute_result",
          "data": {
            "text/plain": [
              "array('i', [100, 200, 20, 21, 22, 23])"
            ]
          },
          "metadata": {},
          "execution_count": 33
        }
      ]
    },
    {
      "cell_type": "code",
      "source": [
        "arr.fromlist([200,100,200])"
      ],
      "metadata": {
        "id": "Lm-7GHrfyY6g"
      },
      "execution_count": 34,
      "outputs": []
    },
    {
      "cell_type": "code",
      "source": [
        "# 8 remove last element using pop()\n",
        "print(arr)\n",
        "arr.pop()\n",
        "\n",
        "print(arr)"
      ],
      "metadata": {
        "colab": {
          "base_uri": "https://localhost:8080/"
        },
        "id": "9Whzg5YaygKO",
        "outputId": "e32074a5-c514-49bf-d6d9-4da9dcca3a6b"
      },
      "execution_count": 35,
      "outputs": [
        {
          "output_type": "stream",
          "name": "stdout",
          "text": [
            "array('i', [100, 200, 20, 21, 22, 23, 200, 100, 200])\n",
            "array('i', [100, 200, 20, 21, 22, 23, 200, 100])\n"
          ]
        }
      ]
    },
    {
      "cell_type": "code",
      "source": [
        "# 9 Fetch any element through its index using index() method\n",
        "print(arr)\n",
        "print('i am looking 23 where in array')\n",
        "arr.index(23) # return index number"
      ],
      "metadata": {
        "colab": {
          "base_uri": "https://localhost:8080/"
        },
        "id": "Nv8PCIXvyq6_",
        "outputId": "143182f4-5529-408a-8255-9e08ffd8b298"
      },
      "execution_count": 36,
      "outputs": [
        {
          "output_type": "stream",
          "name": "stdout",
          "text": [
            "array('i', [100, 200, 20, 21, 22, 23, 200, 100])\n",
            "i am looking 23 where in array\n"
          ]
        },
        {
          "output_type": "execute_result",
          "data": {
            "text/plain": [
              "5"
            ]
          },
          "metadata": {},
          "execution_count": 36
        }
      ]
    },
    {
      "cell_type": "code",
      "source": [
        "# 10 reverse a arr\n",
        "arr.pop()\n",
        "print(arr)\n",
        "arr.reverse( )\n",
        "print(arr)"
      ],
      "metadata": {
        "colab": {
          "base_uri": "https://localhost:8080/"
        },
        "id": "lRM-F5aFy25g",
        "outputId": "3e4cd7b0-3bab-474c-e5cd-e376554d9fb5"
      },
      "execution_count": 37,
      "outputs": [
        {
          "output_type": "stream",
          "name": "stdout",
          "text": [
            "array('i', [100, 200, 20, 21, 22, 23, 200])\n",
            "array('i', [200, 23, 22, 21, 20, 200, 100])\n"
          ]
        }
      ]
    },
    {
      "cell_type": "code",
      "source": [
        "# 11 Get array buffer information through buffer_info() method\n",
        "print(arr.buffer_info()) # return memory address and no of element"
      ],
      "metadata": {
        "colab": {
          "base_uri": "https://localhost:8080/"
        },
        "id": "vHxtVSo4zXRP",
        "outputId": "2ebe8f10-5c2f-4d77-f4c1-9ea59b352417"
      },
      "execution_count": 38,
      "outputs": [
        {
          "output_type": "stream",
          "name": "stdout",
          "text": [
            "(138756241708384, 7)\n"
          ]
        }
      ]
    },
    {
      "cell_type": "code",
      "source": [
        "# 12 no of occurance of an element using count\n",
        "arr.count(200) # return the no of occurance . in array count() works different compare to the other methods"
      ],
      "metadata": {
        "colab": {
          "base_uri": "https://localhost:8080/"
        },
        "id": "MorEfk5wzg2n",
        "outputId": "edcc51e5-3381-4ea0-9d1b-0a3391440d83"
      },
      "execution_count": 39,
      "outputs": [
        {
          "output_type": "execute_result",
          "data": {
            "text/plain": [
              "2"
            ]
          },
          "metadata": {},
          "execution_count": 39
        }
      ]
    },
    {
      "cell_type": "code",
      "source": [
        "# 13 convert array to String using tobytes()\n",
        "\n",
        "arr = array('i',[100,200,300,400])\n",
        "\n",
        "print(arr)\n",
        "\n",
        "str_temp = arr.tobytes()\n",
        "\n",
        "print(str_temp) # convert array to bytes ( unread able format)\n",
        "\n",
        "ints = array('i') # create a int array without any values\n",
        "\n",
        "ints.frombytes(arr.tobytes())  # readable format bytes to array\n",
        "\n",
        "print(ints)"
      ],
      "metadata": {
        "colab": {
          "base_uri": "https://localhost:8080/"
        },
        "id": "NfeS34_az4so",
        "outputId": "4500ccf6-3c25-4f32-fe12-146d5fba5b20"
      },
      "execution_count": 40,
      "outputs": [
        {
          "output_type": "stream",
          "name": "stdout",
          "text": [
            "array('i', [100, 200, 300, 400])\n",
            "b'd\\x00\\x00\\x00\\xc8\\x00\\x00\\x00,\\x01\\x00\\x00\\x90\\x01\\x00\\x00'\n",
            "array('i', [100, 200, 300, 400])\n"
          ]
        }
      ]
    },
    {
      "cell_type": "code",
      "source": [
        "# 14 append a string to char array using fromstring() method\n"
      ],
      "metadata": {
        "id": "c3njwram0LSv"
      },
      "execution_count": 41,
      "outputs": []
    },
    {
      "cell_type": "code",
      "source": [],
      "metadata": {
        "id": "6Q-QDyox6Oij"
      },
      "execution_count": 41,
      "outputs": []
    },
    {
      "cell_type": "markdown",
      "source": [],
      "metadata": {
        "id": "fHaS81BO8WPY"
      }
    },
    {
      "cell_type": "markdown",
      "source": [
        "## 2D array"
      ],
      "metadata": {
        "id": "zr-iVqbh6RNE"
      }
    },
    {
      "cell_type": "code",
      "source": [
        "# create\n",
        "import numpy as np\n",
        "towD= np.array([[1,2,6],[4,5,9],[5,9,8]]) # O(MN)"
      ],
      "metadata": {
        "id": "1U-fb7kJ6S7O"
      },
      "execution_count": 42,
      "outputs": []
    },
    {
      "cell_type": "code",
      "source": [
        "print(towD)"
      ],
      "metadata": {
        "colab": {
          "base_uri": "https://localhost:8080/"
        },
        "id": "XWO98VL38bG3",
        "outputId": "2da77d37-b968-44a5-8435-ecb1ac2da79d"
      },
      "execution_count": 43,
      "outputs": [
        {
          "output_type": "stream",
          "name": "stdout",
          "text": [
            "[[1 2 6]\n",
            " [4 5 9]\n",
            " [5 9 8]]\n"
          ]
        }
      ]
    },
    {
      "cell_type": "code",
      "source": [
        "# insest in 2D array\n",
        "# addition column or row\n"
      ],
      "metadata": {
        "id": "z_ZJ5XT68eNu"
      },
      "execution_count": 44,
      "outputs": []
    },
    {
      "cell_type": "code",
      "source": [
        "# adding rows  using insert()\n",
        "\n",
        "new2D = np.insert(towD,0,[[99,88,77]],axis=0) # oldArray , position(index),values , axis = 0 ( row ) and 1 for column\n",
        "print(new2D)"
      ],
      "metadata": {
        "colab": {
          "base_uri": "https://localhost:8080/"
        },
        "id": "WOUjw5hH9LxQ",
        "outputId": "068b7cf9-94c5-4622-d0ee-a8108e3e1e3d"
      },
      "execution_count": 45,
      "outputs": [
        {
          "output_type": "stream",
          "name": "stdout",
          "text": [
            "[[99 88 77]\n",
            " [ 1  2  6]\n",
            " [ 4  5  9]\n",
            " [ 5  9  8]]\n"
          ]
        }
      ]
    },
    {
      "cell_type": "code",
      "source": [
        "new2D = np.insert(towD,2,[[99,88,77]],axis=1) # oldArray , position(index),values , axis = 0 ( row ) and 1 for column\n",
        "print(new2D)"
      ],
      "metadata": {
        "colab": {
          "base_uri": "https://localhost:8080/"
        },
        "id": "KlMCuDc3_GHM",
        "outputId": "edf563d5-7215-416e-84b4-19f9081e2b96"
      },
      "execution_count": 46,
      "outputs": [
        {
          "output_type": "stream",
          "name": "stdout",
          "text": [
            "[[ 1  2 99  6]\n",
            " [ 4  5 88  9]\n",
            " [ 5  9 77  8]]\n"
          ]
        }
      ]
    },
    {
      "cell_type": "code",
      "source": [
        "# using append() method\n",
        "# new2D = np.append(towD,[[999,988,977]],axis=0) # oldArray , position(index),values , axis = 0 ( row ) and 1 for column\n",
        "# print(new2D)"
      ],
      "metadata": {
        "id": "zaBlelJv_9R1"
      },
      "execution_count": 47,
      "outputs": []
    },
    {
      "cell_type": "code",
      "source": [
        "towD = np.array([[1,2,6],[4,5,9],[5,9,8]])\n",
        "new_column = np.array([[999],[988],[977]]) # reshaped to 3x1\n",
        "new2D = np.append(towD, new_column ,axis=1)\n",
        "print(new2D)\n"
      ],
      "metadata": {
        "colab": {
          "base_uri": "https://localhost:8080/"
        },
        "id": "gt4oM4jZAHMG",
        "outputId": "422870c6-e686-4903-e626-ecd09884897c"
      },
      "execution_count": 48,
      "outputs": [
        {
          "output_type": "stream",
          "name": "stdout",
          "text": [
            "[[  1   2   6 999]\n",
            " [  4   5   9 988]\n",
            " [  5   9   8 977]]\n"
          ]
        }
      ]
    },
    {
      "cell_type": "code",
      "source": [
        "# access 2D array\n",
        "\n",
        "towD[2][2]"
      ],
      "metadata": {
        "colab": {
          "base_uri": "https://localhost:8080/"
        },
        "id": "zZUkT0YWAKCO",
        "outputId": "3aebf422-a57d-4dc9-a7b6-f4672fec6331"
      },
      "execution_count": 49,
      "outputs": [
        {
          "output_type": "execute_result",
          "data": {
            "text/plain": [
              "8"
            ]
          },
          "metadata": {},
          "execution_count": 49
        }
      ]
    },
    {
      "cell_type": "code",
      "source": [
        "def accessElement(array,rowIndex,colIndex):\n",
        "  if rowIndex >= len(array) and colIndex>=len(array[0]):\n",
        "    print('In correct index')\n",
        "  else:\n",
        "    print(array[rowIndex][colIndex])"
      ],
      "metadata": {
        "id": "zxPk89vVCgSK"
      },
      "execution_count": 50,
      "outputs": []
    },
    {
      "cell_type": "code",
      "source": [
        "accessElement(towD,4,5)"
      ],
      "metadata": {
        "colab": {
          "base_uri": "https://localhost:8080/"
        },
        "id": "QPEbrl73DF_v",
        "outputId": "993e5eea-08d6-47b5-ad30-40273fc51e1d"
      },
      "execution_count": 51,
      "outputs": [
        {
          "output_type": "stream",
          "name": "stdout",
          "text": [
            "In correct index\n"
          ]
        }
      ]
    },
    {
      "cell_type": "code",
      "source": [
        "# Traversing 2D array\n",
        "def traverse2D(array):\n",
        "  for i in range(len(array)): # O (mn)\n",
        "    for j in range(len(array[0])): # O(n)\n",
        "      print(array[i][j]) # O(1)\n",
        "    print(' one row don')\n",
        "\n",
        "traverse2D(towD)"
      ],
      "metadata": {
        "id": "tpr5rnGZDKzg",
        "colab": {
          "base_uri": "https://localhost:8080/"
        },
        "outputId": "e82320b4-e01e-44dd-cdac-f26591a5db33"
      },
      "execution_count": 52,
      "outputs": [
        {
          "output_type": "stream",
          "name": "stdout",
          "text": [
            "1\n",
            "2\n",
            "6\n",
            " one row don\n",
            "4\n",
            "5\n",
            "9\n",
            " one row don\n",
            "5\n",
            "9\n",
            "8\n",
            " one row don\n"
          ]
        }
      ]
    },
    {
      "cell_type": "code",
      "source": [
        "# Searching Two D array\n",
        "def search(array,value):\n",
        "  for i in range(len(array)):\n",
        "    for j in range(len(array[0])):\n",
        "      if array[i][j]==value:\n",
        "        return print(f'value find at index {i} {j}')\n",
        "\n",
        "  return 'no value '\n"
      ],
      "metadata": {
        "id": "u-58UtOuFc5i"
      },
      "execution_count": 53,
      "outputs": []
    },
    {
      "cell_type": "code",
      "source": [
        "towD2 = np.array([[1,2,6],[4,50,9],[5,9,8]])\n",
        "search(towD2,50)"
      ],
      "metadata": {
        "colab": {
          "base_uri": "https://localhost:8080/"
        },
        "id": "YR4qUCctGTHz",
        "outputId": "7e99b8d3-a562-45a5-8ceb-16e27f7e23c7"
      },
      "execution_count": 54,
      "outputs": [
        {
          "output_type": "stream",
          "name": "stdout",
          "text": [
            "value find at index 1 1\n"
          ]
        }
      ]
    }
  ]
}