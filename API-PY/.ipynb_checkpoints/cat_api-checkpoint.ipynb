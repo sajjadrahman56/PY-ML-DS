{
 "cells": [
  {
   "cell_type": "code",
   "execution_count": 21,
   "id": "ac27523c-cfd9-4d11-a45f-cc990a218523",
   "metadata": {},
   "outputs": [
    {
     "name": "stdout",
     "output_type": "stream",
     "text": [
      "Requirement already satisfied: requests in f:\\python3\\lib\\site-packages (2.28.1)\n",
      "Requirement already satisfied: urllib3<1.27,>=1.21.1 in f:\\python3\\lib\\site-packages (from requests) (1.26.11)\n",
      "Requirement already satisfied: charset-normalizer<3,>=2 in f:\\python3\\lib\\site-packages (from requests) (2.0.4)\n",
      "Requirement already satisfied: idna<4,>=2.5 in f:\\python3\\lib\\site-packages (from requests) (3.3)\n",
      "Requirement already satisfied: certifi>=2017.4.17 in f:\\python3\\lib\\site-packages (from requests) (2022.9.14)\n",
      "Note: you may need to restart the kernel to use updated packages.\n"
     ]
    }
   ],
   "source": [
    "pip install requests\n"
   ]
  },
  {
   "cell_type": "code",
   "execution_count": 22,
   "id": "ef2309d7-65ff-4162-8bc5-6438104eab9a",
   "metadata": {},
   "outputs": [],
   "source": [
    "import requests as rq"
   ]
  },
  {
   "cell_type": "code",
   "execution_count": 31,
   "id": "de45626a-c3ff-4e2c-bbe2-05a810f6d995",
   "metadata": {},
   "outputs": [],
   "source": [
    "# API endpoint URL\n",
    "url = \"http://api.openweathermap.org/data/2.5/weather\"\n",
    "\n",
    "# Query parameters (e.g., city name and API key)\n",
    "params = {\n",
    "    \"q\": \"London, UK\",\n",
    "    \"appid\": \"74e7c3a1e8f06f40b24cc4a81b032d3a***********************************\"\n",
    "}\n",
    "\n",
    "\n"
   ]
  },
  {
   "cell_type": "code",
   "execution_count": 32,
   "id": "b4d8216e-5d63-47b2-be63-4faae484df08",
   "metadata": {},
   "outputs": [],
   "source": [
    "# Send GET request to the API\n",
    "response = requests.get(url, params=params)\n",
    "\n"
   ]
  },
  {
   "cell_type": "code",
   "execution_count": 33,
   "id": "9eb71c18-8da4-4ca8-8eb4-72bb14798cee",
   "metadata": {},
   "outputs": [
    {
     "data": {
      "text/plain": [
       "'{\"coord\":{\"lon\":-0.1257,\"lat\":51.5085},\"weather\":[{\"id\":804,\"main\":\"Clouds\",\"description\":\"overcast clouds\",\"icon\":\"04d\"}],\"base\":\"stations\",\"main\":{\"temp\":289.5,\"feels_like\":288.5,\"temp_min\":286.96,\"temp_max\":290.47,\"pressure\":1027,\"humidity\":50},\"visibility\":10000,\"wind\":{\"speed\":5.14,\"deg\":50},\"clouds\":{\"all\":96},\"dt\":1685382067,\"sys\":{\"type\":2,\"id\":268730,\"country\":\"GB\",\"sunrise\":1685332327,\"sunset\":1685390637},\"timezone\":3600,\"id\":2643743,\"name\":\"London\",\"cod\":200}'"
      ]
     },
     "execution_count": 33,
     "metadata": {},
     "output_type": "execute_result"
    }
   ],
   "source": [
    " response.text"
   ]
  },
  {
   "cell_type": "code",
   "execution_count": null,
   "id": "e41db74e-2314-4620-882e-19b817da326d",
   "metadata": {},
   "outputs": [],
   "source": [
    " "
   ]
  },
  {
   "cell_type": "code",
   "execution_count": 34,
   "id": "9fe62ad6-39ac-460d-bc62-2f9b47e921ea",
   "metadata": {},
   "outputs": [
    {
     "name": "stdout",
     "output_type": "stream",
     "text": [
      "The current temperature is: 289.5 Kelvin\n"
     ]
    }
   ],
   "source": [
    "# Check if the request was successful (status code 200 indicates success)\n",
    "if response.status_code == 200:\n",
    "    # Get the response data in JSON format\n",
    "    data = response.json()\n",
    "    \n",
    "    # Process the data as needed\n",
    "    # Example: Print the current temperature\n",
    "    temperature = data[\"main\"][\"temp\"]\n",
    "    print(f\"The current temperature is: {temperature} Kelvin\")\n",
    "else:\n",
    "    print(\"Error: API request was unsuccessful.\")"
   ]
  },
  {
   "cell_type": "code",
   "execution_count": null,
   "id": "11369335-35d3-4a7a-9321-add3649191c2",
   "metadata": {},
   "outputs": [],
   "source": []
  }
 ],
 "metadata": {
  "kernelspec": {
   "display_name": "Python 3 (ipykernel)",
   "language": "python",
   "name": "python3"
  },
  "language_info": {
   "codemirror_mode": {
    "name": "ipython",
    "version": 3
   },
   "file_extension": ".py",
   "mimetype": "text/x-python",
   "name": "python",
   "nbconvert_exporter": "python",
   "pygments_lexer": "ipython3",
   "version": "3.9.13"
  }
 },
 "nbformat": 4,
 "nbformat_minor": 5
}
