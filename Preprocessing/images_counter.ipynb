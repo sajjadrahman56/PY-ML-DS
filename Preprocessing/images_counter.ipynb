{
 "cells": [
  {
   "cell_type": "code",
   "execution_count": 5,
   "id": "72bbc02e-dc78-4c0b-bfe1-304ee7c85361",
   "metadata": {},
   "outputs": [],
   "source": [
    "import cv2\n",
    "import numpy as np\n",
    "\n",
    "# Read the image\n",
    "image = cv2.imread('12.png')\n",
    "\n",
    "# Display the result\n",
    "cv2.imshow('White Portion', image)\n",
    "cv2.waitKey(0)\n",
    "cv2.destroyAllWindows()\n"
   ]
  },
  {
   "cell_type": "code",
   "execution_count": 29,
   "id": "fe3ba403-c320-404f-be92-bc308ca648eb",
   "metadata": {},
   "outputs": [
    {
     "name": "stdout",
     "output_type": "stream",
     "text": [
      "100.0\n",
      "[[0 0 0 ... 0 0 0]\n",
      " [0 0 0 ... 0 0 0]\n",
      " [0 0 0 ... 0 0 0]\n",
      " ...\n",
      " [0 0 0 ... 0 0 0]\n",
      " [0 0 0 ... 0 0 0]\n",
      " [0 0 0 ... 0 0 0]]\n"
     ]
    }
   ],
   "source": [
    "\n"
   ]
  },
  {
   "cell_type": "markdown",
   "id": "897c95bf-899f-408c-9b97-6bf587239798",
   "metadata": {
    "jp-MarkdownHeadingCollapsed": true,
    "tags": []
   },
   "source": [
    "# without  set extra width and height "
   ]
  },
  {
   "cell_type": "code",
   "execution_count": 36,
   "id": "b65b5714-316f-4d56-894a-2f138c9273dd",
   "metadata": {},
   "outputs": [],
   "source": [
    "import cv2\n",
    "\n",
    "# Read the image\n",
    "image = cv2.imread('12.png')\n",
    "\n",
    "# Convert the image to grayscale\n",
    "gray = cv2.cvtColor(image, cv2.COLOR_BGR2GRAY)\n",
    "\n",
    "# Threshold the image to create a binary image\n",
    "_, thresholded = cv2.threshold(gray, 100, 255, cv2.THRESH_BINARY)\n",
    "\n",
    "# Find contours in the binary image\n",
    "contours, _ = cv2.findContours(thresholded, cv2.RETR_EXTERNAL, cv2.CHAIN_APPROX_SIMPLE)\n",
    "\n",
    "# Find the largest contour\n",
    "largest_contour = max(contours, key=cv2.contourArea)\n",
    "\n",
    "# Get the bounding box of the largest contour\n",
    "x, y, w, h = cv2.boundingRect(largest_contour)\n",
    "\n",
    "# Crop the marked portion from the original image\n",
    "cropped_image = image[y:y+h, x:x+w]\n",
    "\n",
    "# Save the cropped image\n",
    "cv2.imwrite('crop_1.png', cropped_image)\n",
    "\n",
    "# Display the cropped image\n",
    "cv2.imshow('Cropped Image', cropped_image)\n",
    "cv2.waitKey(0)\n",
    "cv2.destroyAllWindows()\n"
   ]
  },
  {
   "cell_type": "markdown",
   "id": "c1ea6c78-34b8-47e6-8630-b544c8765fd5",
   "metadata": {
    "jp-MarkdownHeadingCollapsed": true,
    "tags": []
   },
   "source": [
    "# set extra width and height "
   ]
  },
  {
   "cell_type": "code",
   "execution_count": 35,
   "id": "d7fafe6b-80ff-4a73-9727-cf15b2698ece",
   "metadata": {},
   "outputs": [],
   "source": [
    "# set new hight and width , added up extra\n",
    "import cv2\n",
    "\n",
    "# Read the image\n",
    "image = cv2.imread('12.png')\n",
    "\n",
    "# Convert the image to grayscale\n",
    "gray = cv2.cvtColor(image, cv2.COLOR_BGR2GRAY)\n",
    "\n",
    "# Threshold the image to create a binary image\n",
    "_, thresholded = cv2.threshold(gray, 100, 255, cv2.THRESH_BINARY)\n",
    "\n",
    "# Find contours in the binary image\n",
    "contours, _ = cv2.findContours(thresholded, cv2.RETR_EXTERNAL, cv2.CHAIN_APPROX_SIMPLE)\n",
    "\n",
    "# Find the largest contour\n",
    "largest_contour = max(contours, key=cv2.contourArea)\n",
    "\n",
    "# Get the bounding box of the largest contour\n",
    "x, y, w, h = cv2.boundingRect(largest_contour)\n",
    "\n",
    "# Increase the size of the bounding rectangle by 1% of width and height\n",
    "padding_percentage = 1.01\n",
    "new_x = int(x - w * (padding_percentage - 1) / 2)\n",
    "new_y = int(y - h * (padding_percentage - 1) / 2)\n",
    "new_w = int(w * padding_percentage)\n",
    "new_h = int(h * padding_percentage)\n",
    "\n",
    "# Ensure the new coordinates and dimensions are within the image boundaries\n",
    "new_x = max(0, new_x)\n",
    "new_y = max(0, new_y)\n",
    "new_w = min(image.shape[1] - new_x, new_w)\n",
    "new_h = min(image.shape[0] - new_y, new_h)\n",
    "\n",
    "# Crop the marked portion from the original image\n",
    "cropped_image = image[new_y:new_y+new_h, new_x:new_x+new_w]\n",
    "\n",
    "# Save the cropped image\n",
    "cv2.imwrite('cr12.png', cropped_image)\n",
    "\n",
    "# Display the cropped image\n",
    "cv2.imshow('Cropped Image', cropped_image)\n",
    "cv2.waitKey(0)\n",
    "cv2.destroyAllWindows()\n"
   ]
  },
  {
   "cell_type": "markdown",
   "id": "fa65d474-9819-492d-be34-3081ec5feb2f",
   "metadata": {
    "jp-MarkdownHeadingCollapsed": true,
    "tags": []
   },
   "source": [
    "# Multiple images - test baki "
   ]
  },
  {
   "cell_type": "code",
   "execution_count": null,
   "id": "5d0459d1-d687-4560-8782-3002690d5fc7",
   "metadata": {},
   "outputs": [],
   "source": [
    "import cv2\n",
    "import os\n",
    "\n",
    "def process_image(input_path):\n",
    "    # Read the image\n",
    "    image = cv2.imread(input_path)\n",
    "    \n",
    "    # Convert the image to grayscale\n",
    "    gray = cv2.cvtColor(image, cv2.COLOR_BGR2GRAY)\n",
    "    \n",
    "    # Threshold the image to create a binary image\n",
    "    _, thresholded = cv2.threshold(gray, 100, 255, cv2.THRESH_BINARY)\n",
    "    \n",
    "    # Find contours in the binary image\n",
    "    contours, _ = cv2.findContours(thresholded, cv2.RETR_EXTERNAL, cv2.CHAIN_APPROX_SIMPLE)\n",
    "    \n",
    "    # Find the largest contour\n",
    "    largest_contour = max(contours, key=cv2.contourArea)\n",
    "    \n",
    "    # Get the bounding box of the largest contour\n",
    "    x, y, w, h = cv2.boundingRect(largest_contour)\n",
    "    \n",
    "    # Increase the size of the bounding rectangle by 1% of width and height\n",
    "    padding_percentage = 1.01\n",
    "    new_x = int(x - w * (padding_percentage - 1) / 2)\n",
    "    new_y = int(y - h * (padding_percentage - 1) / 2)\n",
    "    new_w = int(w * padding_percentage)\n",
    "    new_h = int(h * padding_percentage)\n",
    "    \n",
    "    # Ensure the new coordinates and dimensions are within the image boundaries\n",
    "    new_x = max(0, new_x)\n",
    "    new_y = max(0, new_y)\n",
    "    new_w = min(image.shape[1] - new_x, new_w)\n",
    "    new_h = min(image.shape[0] - new_y, new_h)\n",
    "    \n",
    "    # Crop the marked portion from the original image\n",
    "    cropped_image = image[new_y:new_y+new_h, new_x:new_x+new_w]\n",
    "    \n",
    "    return cropped_image\n",
    "\n",
    "# Path to the directory containing your images\n",
    "input_directory = 'path/to/your/images'\n",
    "\n",
    "# List to store processed images\n",
    "processed_images = []\n",
    "\n",
    "# Loop through each image in the input directory and process it\n",
    "for filename in os.listdir(input_directory):\n",
    "    if filename.endswith('.png') or filename.endswith('.jpg'):\n",
    "        input_path = os.path.join(input_directory, filename)\n",
    "        processed_image = process_image(input_path)\n",
    "        processed_images.append(processed_image)\n",
    "\n",
    "print('Processing completed.')\n",
    "\n",
    "# Now, processed_images list contains all the reshaped images\n",
    "# You can save these images or use them as needed.\n"
   ]
  }
 ],
 "metadata": {
  "kernelspec": {
   "display_name": "Python 3 (ipykernel)",
   "language": "python",
   "name": "python3"
  },
  "language_info": {
   "codemirror_mode": {
    "name": "ipython",
    "version": 3
   },
   "file_extension": ".py",
   "mimetype": "text/x-python",
   "name": "python",
   "nbconvert_exporter": "python",
   "pygments_lexer": "ipython3",
   "version": "3.9.13"
  }
 },
 "nbformat": 4,
 "nbformat_minor": 5
}
