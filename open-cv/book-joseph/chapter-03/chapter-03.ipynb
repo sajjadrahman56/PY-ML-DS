{
 "cells": [
  {
   "cell_type": "markdown",
   "id": "d4ee5da0-b06d-4467-ab13-6e1a92bd1780",
   "metadata": {},
   "source": [
    "# HPFs and LPFs"
   ]
  },
  {
   "cell_type": "code",
   "execution_count": 4,
   "id": "ba28410d-e7d9-4da8-8bb8-7ad0bb535492",
   "metadata": {},
   "outputs": [],
   "source": [
    "import cv2 as cv\n",
    "import numpy as np\n",
    "from scipy import ndimage"
   ]
  },
  {
   "cell_type": "code",
   "execution_count": 10,
   "id": "906259be-f8a9-45ce-91a9-c3c0dfc2f831",
   "metadata": {},
   "outputs": [],
   "source": [
    "kernel_3x3 = np.array([\n",
    "       [-1, -1, -1],\n",
    "       [-1,  8, -1],\n",
    "       [-1, -1, -1]])\n",
    " "
   ]
  },
  {
   "cell_type": "code",
   "execution_count": 11,
   "id": "41ea50d4-945a-43e5-8db6-7b45ac1c1fe8",
   "metadata": {},
   "outputs": [
    {
     "data": {
      "text/plain": [
       "array([[-1, -1, -1],\n",
       "       [-1,  8, -1],\n",
       "       [-1, -1, -1]])"
      ]
     },
     "execution_count": 11,
     "metadata": {},
     "output_type": "execute_result"
    }
   ],
   "source": [
    "kernel_3x3\n"
   ]
  },
  {
   "cell_type": "code",
   "execution_count": 12,
   "id": "8281c49d-3715-4445-9c8c-2e4abed9d86b",
   "metadata": {},
   "outputs": [],
   "source": [
    "kernel_5x5  = np.array([\n",
    "       [-1, -1, -1, -1, -1],\n",
    "       [-1,  1,  2,  1, -1],\n",
    "       [-1,  2,  4,  2, -1],\n",
    "       [-1,  1,  2,  1, -1],\n",
    "       [-1, -1, -1, -1, -1]])"
   ]
  },
  {
   "cell_type": "code",
   "execution_count": 13,
   "id": "73b29954-d6dc-481f-9f23-3000939fafb7",
   "metadata": {},
   "outputs": [
    {
     "data": {
      "text/plain": [
       "array([[-1, -1, -1, -1, -1],\n",
       "       [-1,  1,  2,  1, -1],\n",
       "       [-1,  2,  4,  2, -1],\n",
       "       [-1,  1,  2,  1, -1],\n",
       "       [-1, -1, -1, -1, -1]])"
      ]
     },
     "execution_count": 13,
     "metadata": {},
     "output_type": "execute_result"
    }
   ],
   "source": [
    "kernel_5x5"
   ]
  },
  {
   "cell_type": "code",
   "execution_count": 14,
   "id": "4dce66f8-a617-4035-9be2-d17cc71e2919",
   "metadata": {},
   "outputs": [],
   "source": [
    "img = cv.imread('statue_small.jpg',0)"
   ]
  },
  {
   "cell_type": "code",
   "execution_count": 17,
   "id": "bbcac424-d901-4c19-a5ea-1b35c6aee3c6",
   "metadata": {},
   "outputs": [],
   "source": [
    " k3 = ndimage.convolve(img,kernel_3x3)"
   ]
  },
  {
   "cell_type": "code",
   "execution_count": 18,
   "id": "08c1a897-d8da-4f6b-9f5f-82d31e1b7751",
   "metadata": {},
   "outputs": [],
   "source": [
    " k5 = ndimage.convolve(img,kernel_5x5)"
   ]
  },
  {
   "cell_type": "code",
   "execution_count": 19,
   "id": "1217eb4a-0fea-4198-92d5-0902cb82c1cb",
   "metadata": {},
   "outputs": [],
   "source": [
    "blurred = cv.GaussianBlur(img,(17,17),0)"
   ]
  },
  {
   "cell_type": "code",
   "execution_count": 20,
   "id": "845fb69f-857c-47f4-9251-60d93dafe1ac",
   "metadata": {},
   "outputs": [],
   "source": [
    "g_hpf = img - blurred"
   ]
  },
  {
   "cell_type": "code",
   "execution_count": 30,
   "id": "45ea11a8-3181-417d-ba8f-4efb5a8e502f",
   "metadata": {},
   "outputs": [],
   "source": [
    "cv.imshow(\"img\",img)\n",
    "cv.imshow(\"3x3\",k3)\n",
    "cv.imshow(\"5x5\",k5)\n",
    "\n",
    "cv.imshow(\"blurred\",blurred)\n",
    "cv.imshow(\"g_hpf\",g_hpf)\n",
    "cv.waitKey()\n",
    "cv.destroyAllWindows()"
   ]
  },
  {
   "cell_type": "code",
   "execution_count": 26,
   "id": "3fa00671-de17-416d-a220-802e72ad5d87",
   "metadata": {},
   "outputs": [
    {
     "data": {
      "text/plain": [
       "-1"
      ]
     },
     "execution_count": 26,
     "metadata": {},
     "output_type": "execute_result"
    }
   ],
   "source": []
  },
  {
   "cell_type": "code",
   "execution_count": 27,
   "id": "5497954b-e185-408e-84be-8a98973f1af3",
   "metadata": {},
   "outputs": [],
   "source": []
  },
  {
   "cell_type": "markdown",
   "id": "96c35907-da2c-4585-9770-c308e8e0a626",
   "metadata": {},
   "source": [
    "# Edge Detection with canny"
   ]
  },
  {
   "cell_type": "code",
   "execution_count": 31,
   "id": "144c6ed3-de66-4d33-bbee-4ab090e9e633",
   "metadata": {},
   "outputs": [],
   "source": [
    "import cv2 as cv\n",
    "import numpy as np"
   ]
  },
  {
   "cell_type": "code",
   "execution_count": 40,
   "id": "e8293902-43db-4993-b86b-4315413c312b",
   "metadata": {},
   "outputs": [],
   "source": [
    "img = cv.imread('22.jpeg',0)\n",
    "cv.imwrite('canny2.jpg',cv.Canny(img,100,200))\n",
    "cv.imshow(\"canny\",cv.imread('canny2.jpg'))\n",
    "cv.waitKey()\n",
    "cv.destroyAllWindows()"
   ]
  },
  {
   "cell_type": "markdown",
   "id": "b53466da-9aaa-4eb6-b3ae-522d5c97a34c",
   "metadata": {},
   "source": [
    "### how cv.Canny() works : \n",
    "\n",
    "- Denoise the image with a Gaussian filter.1.\n",
    "\n",
    "- Calculate the gradients.2.\n",
    "\n",
    "- Apply non-maximum suppression (NMS) on the edges. Basically, this means3.\n",
    "that the algorithm selects the best edges from a set of overlapping edges. We'll\n",
    "discuss the concept of NMS in detail in Chapter 7, Building Custom Object\n",
    "Detectors.\n",
    "\n",
    "- Apply a double threshold to all the detected edges to eliminate any false4.\n",
    "positives.\n",
    "\n",
    "- Analyze all the edges and their connection to each other to keep the real edges5.\n",
    "and discard the weak ones."
   ]
  },
  {
   "cell_type": "code",
   "execution_count": null,
   "id": "46541889-90e7-4699-8f82-5b8562f7598a",
   "metadata": {},
   "outputs": [],
   "source": []
  },
  {
   "cell_type": "markdown",
   "id": "2b16d2ae-4449-4d8c-bcb0-878ef972b9b7",
   "metadata": {},
   "source": [
    "# Counter Detection "
   ]
  },
  {
   "cell_type": "code",
   "execution_count": 30,
   "id": "06e6b096-43cb-4d3b-96e7-2515907b7314",
   "metadata": {},
   "outputs": [],
   "source": [
    "import cv2 as cv\n",
    "import numpy as np"
   ]
  },
  {
   "cell_type": "code",
   "execution_count": 31,
   "id": "c3fd4db6-1cfa-4926-a57f-a5fccaf89e90",
   "metadata": {},
   "outputs": [],
   "source": [
    "img = np.zeros((200,200),dtype=np.uint8)"
   ]
  },
  {
   "cell_type": "code",
   "execution_count": 32,
   "id": "06c19142-ac84-4060-92b9-ea7d474f3450",
   "metadata": {},
   "outputs": [
    {
     "data": {
      "text/plain": [
       "array([[0, 0, 0, ..., 0, 0, 0],\n",
       "       [0, 0, 0, ..., 0, 0, 0],\n",
       "       [0, 0, 0, ..., 0, 0, 0],\n",
       "       ...,\n",
       "       [0, 0, 0, ..., 0, 0, 0],\n",
       "       [0, 0, 0, ..., 0, 0, 0],\n",
       "       [0, 0, 0, ..., 0, 0, 0]], dtype=uint8)"
      ]
     },
     "execution_count": 32,
     "metadata": {},
     "output_type": "execute_result"
    }
   ],
   "source": [
    "img"
   ]
  },
  {
   "cell_type": "code",
   "execution_count": 33,
   "id": "5478fcd9-a9d5-4ba4-a319-6058c6b4c928",
   "metadata": {},
   "outputs": [],
   "source": [
    "img[50:150,50:150] = 255"
   ]
  },
  {
   "cell_type": "code",
   "execution_count": 34,
   "id": "5076d6a4-ebad-41bd-904b-29b37430b38b",
   "metadata": {},
   "outputs": [],
   "source": [
    "ret,thres=cv.threshold(img,127,255,0)"
   ]
  },
  {
   "cell_type": "code",
   "execution_count": 35,
   "id": "a3c6798f-cb7a-4597-bb4e-19c5995ea07e",
   "metadata": {},
   "outputs": [],
   "source": [
    "contours,heirarchy = cv.findContours(thres,cv.RETR_TREE,cv.CHAIN_APPROX_SIMPLE)"
   ]
  },
  {
   "cell_type": "markdown",
   "id": "a7dfb80d-a707-4c12-bcbe-96395599a227",
   "metadata": {},
   "source": [
    "- heirarchy\n",
    "# findContours function. \n",
    "` This function has three parameters: the input image, the hierarchy type, and the contour approximation method `"
   ]
  },
  {
   "cell_type": "code",
   "execution_count": 36,
   "id": "2c587a79-5d5b-4b27-ae7d-10f8e4e7f619",
   "metadata": {},
   "outputs": [],
   "source": [
    "color = cv.cvtColor(img,cv.COLOR_GRAY2BGR)"
   ]
  },
  {
   "cell_type": "code",
   "execution_count": 37,
   "id": "731e3612-aa91-418c-a702-e7749f6e878b",
   "metadata": {},
   "outputs": [],
   "source": [
    "img = cv.drawContours(color,contours,-1,(0,255,0),2)"
   ]
  },
  {
   "cell_type": "code",
   "execution_count": 38,
   "id": "03f5fa0a-018c-4869-8694-ce487a8a6725",
   "metadata": {},
   "outputs": [],
   "source": [
    "cv.imshow('contours',color)\n",
    "cv.waitKey()\n",
    "cv.destroyAllWindows()"
   ]
  },
  {
   "cell_type": "code",
   "execution_count": null,
   "id": "3ce6ec6c-5106-4405-bb4b-da2995b7e302",
   "metadata": {},
   "outputs": [],
   "source": []
  },
  {
   "cell_type": "markdown",
   "id": "c3b79ae2-5034-490c-9909-c53b1878347f",
   "metadata": {},
   "source": [
    "# Bounding box, minimum area rectangle, and minimum enclosing circle"
   ]
  },
  {
   "cell_type": "code",
   "execution_count": 58,
   "id": "b66fc2a4-dffc-4e4c-b3f8-266eb9595367",
   "metadata": {},
   "outputs": [],
   "source": [
    "import cv2 as cv \n",
    "import numpy as np"
   ]
  },
  {
   "cell_type": "code",
   "execution_count": 73,
   "id": "7a9bd263-44ad-41e5-a2ce-be0895946f04",
   "metadata": {},
   "outputs": [],
   "source": [
    "# img = cv.pyrDown(cv.imread('enclose.png',cv.IMREAD_UNCHANGED))\n",
    "img = cv.pyrDown(cv.imread('statue_small.jpg',cv.IMREAD_UNCHANGED))\n"
   ]
  },
  {
   "cell_type": "code",
   "execution_count": 74,
   "id": "a5922ab6-e1df-4134-a271-d0ca36958565",
   "metadata": {},
   "outputs": [],
   "source": [
    "# img"
   ]
  },
  {
   "cell_type": "code",
   "execution_count": 75,
   "id": "3e77ba9e-0323-4745-b006-fbddc4ca0249",
   "metadata": {},
   "outputs": [],
   "source": [
    "ret,thresh = cv.threshold(cv.cvtColor(img,cv.COLOR_BGR2GRAY),127,255,cv.THRESH_BINARY)"
   ]
  },
  {
   "cell_type": "code",
   "execution_count": 76,
   "id": "6f436d47-2ea5-4873-a58a-b461845cc126",
   "metadata": {},
   "outputs": [],
   "source": [
    "contours,hier = cv.findContours(thresh,cv.RETR_EXTERNAL,cv.CHAIN_APPROX_SIMPLE)"
   ]
  },
  {
   "cell_type": "code",
   "execution_count": 77,
   "id": "ec6d6484-0392-4bff-b680-f83cb67702c2",
   "metadata": {},
   "outputs": [],
   "source": [
    "# contours"
   ]
  },
  {
   "cell_type": "code",
   "execution_count": 81,
   "id": "f9f4591d-d0d2-49a5-8786-764e9f1a4b80",
   "metadata": {},
   "outputs": [],
   "source": [
    "for c in contours:\n",
    "    # find bounding box coordinates\n",
    "    x,y,w,h = cv.boundingRect(c)\n",
    "    cv.rectangle(img,(x,y),(x+w,y+h),(0,255,0),2)\n",
    "    \n",
    "    # find minimum area \n",
    "    rect = cv.minAreaRect(c)\n",
    "    \n",
    "    # calculate coordinate of the minimum area rectangle \n",
    "    box = cv.boxPoints(rect)\n",
    "    \n",
    "    # normalize coordinate to inegers\n",
    "    box = np.int0(box)\n",
    "    \n",
    "    # draw contours \n",
    "    cv.drawContours(img,[box],0,(0,0,255),3)\n",
    "    \n",
    "    # calculate center and radius of minimum enclosing circle \n",
    "    \n",
    "    (x,y) , radius = cv.minEnclosingCircle(c)\n",
    "    \n",
    "    # cast to integers \n",
    "    center = (int(x),int(y))\n",
    "    radius = int ( radius)\n",
    "    \n",
    "    # draw the circle \n",
    "    img = cv.circle(img,center,radius,(0,255,0),2)\n",
    "    \n",
    "    \n",
    "#     cv.drawContours(img,contours,-1,(255,0,0),1)\n",
    "#     cv.imshow(\"contours\",img)\n",
    "    \n",
    "#     cv.waitKey()\n",
    "#     cv.destroyAllWindows()\n",
    "    \n"
   ]
  },
  {
   "cell_type": "code",
   "execution_count": null,
   "id": "b68fe760-c46b-4377-8e03-919213f9c69c",
   "metadata": {},
   "outputs": [],
   "source": []
  },
  {
   "cell_type": "code",
   "execution_count": 79,
   "id": "4e83394a-75c5-4432-95fe-b358edf8d5da",
   "metadata": {},
   "outputs": [],
   "source": [
    "cv.drawContours(img,contours,-1,(255,0,0),1)\n",
    "cv.imshow(\"contours\",img)\n",
    "    \n",
    "cv.waitKey()\n",
    "cv.destroyAllWindows()"
   ]
  },
  {
   "cell_type": "code",
   "execution_count": null,
   "id": "424099ea-5821-49eb-a3be-5931498f0db2",
   "metadata": {},
   "outputs": [],
   "source": []
  },
  {
   "cell_type": "markdown",
   "id": "a02c4b8d-64f4-40da-982e-d46031d44213",
   "metadata": {},
   "source": [
    " # Convex contours and the Douglas-Peucker algorithm"
   ]
  },
  {
   "cell_type": "code",
   "execution_count": 70,
   "id": "7ada4e70-cf3f-4671-a6de-0e7ec605d60f",
   "metadata": {},
   "outputs": [],
   "source": [
    " "
   ]
  },
  {
   "cell_type": "code",
   "execution_count": null,
   "id": "b3f16eb2-0f1e-4eb8-bfe1-62b9ade1aa23",
   "metadata": {},
   "outputs": [],
   "source": []
  }
 ],
 "metadata": {
  "kernelspec": {
   "display_name": "Python 3 (ipykernel)",
   "language": "python",
   "name": "python3"
  },
  "language_info": {
   "codemirror_mode": {
    "name": "ipython",
    "version": 3
   },
   "file_extension": ".py",
   "mimetype": "text/x-python",
   "name": "python",
   "nbconvert_exporter": "python",
   "pygments_lexer": "ipython3",
   "version": "3.9.13"
  }
 },
 "nbformat": 4,
 "nbformat_minor": 5
}
