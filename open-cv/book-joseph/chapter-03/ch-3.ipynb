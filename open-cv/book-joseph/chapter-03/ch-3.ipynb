{
 "cells": [
  {
   "cell_type": "markdown",
   "id": "2e6df708-2e95-4ac7-ac89-022f596f9c6b",
   "metadata": {},
   "source": [
    "### Line , edge and shape detection are based on Fourier Transformation"
   ]
  },
  {
   "cell_type": "code",
   "execution_count": 1,
   "id": "a366c679-2d62-4295-889d-d8ad43b0f343",
   "metadata": {},
   "outputs": [],
   "source": [
    "import cv2 as cv\n",
    "import numpy as np\n",
    "from scipy import ndimage"
   ]
  },
  {
   "cell_type": "code",
   "execution_count": 2,
   "id": "2d5afec6-bb10-4dc4-b01f-6356f81ab5a8",
   "metadata": {},
   "outputs": [],
   "source": [
    "kernel_3x3 = np.array([\n",
    "    [-1,-1,-1],\n",
    "    [-1,8,-1],\n",
    "    [-1,-1,-1]\n",
    "])"
   ]
  },
  {
   "cell_type": "code",
   "execution_count": 3,
   "id": "0c36c9f5-266a-4eaa-8e6a-e196382bcdfd",
   "metadata": {},
   "outputs": [],
   "source": [
    "kernel_5x5 = np.array([\n",
    "    [-1,-1,-1,-1,-1],\n",
    "    [-1,1,2,1,-1],\n",
    "    [-1,2,4,2,-1],\n",
    "    [-1,1,2,1,-1],\n",
    "    [-1,-1,-1,-1,-1]])"
   ]
  },
  {
   "cell_type": "code",
   "execution_count": 7,
   "id": "7adb77c5-7d23-432c-a2c6-84dfddf41ba6",
   "metadata": {},
   "outputs": [],
   "source": [
    "img = cv.imread('statue_liberty.jpeg',0)"
   ]
  },
  {
   "cell_type": "markdown",
   "id": "97e728ad-4391-43d5-9636-32ae503b7458",
   "metadata": {
    "tags": []
   },
   "source": [
    "###  resize the image \n",
    "- img = cv.imread('sas.jpg',0)\n",
    "- new_size = (250, 250) # new_size=(width, height)\n",
    "- print(f\"New height and width: {new_size[1]}, {new_size[0]}\" )\n",
    "- resize_img = cv.resize(img, new_size)"
   ]
  },
  {
   "cell_type": "code",
   "execution_count": 8,
   "id": "d4a4e2ee-f46a-434c-9a14-7e43e75733db",
   "metadata": {},
   "outputs": [],
   "source": [
    "k3 = ndimage.convolve(img,kernel_3x3)\n",
    "k5 = ndimage.convolve(img,kernel_5x5)"
   ]
  },
  {
   "cell_type": "code",
   "execution_count": null,
   "id": "d68e55e2-afce-48ff-bf99-6b7f4b3c5a62",
   "metadata": {},
   "outputs": [],
   "source": [
    "blurred = cv.GaussianBlur(img,(17,17),0)\n",
    "g_hpf = img - blurred"
   ]
  },
  {
   "cell_type": "code",
   "execution_count": null,
   "id": "40a5caee-1a4f-4a98-81e8-5bfccfc2fa72",
   "metadata": {},
   "outputs": [],
   "source": [
    "cv.imshow('3x3',k3)\n",
    "cv.imshow('5x5',k5)\n",
    "cv.imshow('blurred',blurred)\n",
    "cv.imshow('g_hpf',g_hpf)\n",
    "cv.waitKey()\n",
    "cv.destroyAllWindows()\n"
   ]
  },
  {
   "cell_type": "code",
   "execution_count": null,
   "id": "bed3f246-8099-4482-846d-27c03a900893",
   "metadata": {},
   "outputs": [],
   "source": []
  },
  {
   "cell_type": "markdown",
   "id": "a554e4eb-9306-4c28-9356-07fdf35fb9c8",
   "metadata": {},
   "source": [
    "## CUSTOM Kernels - "
   ]
  },
  {
   "cell_type": "code",
   "execution_count": null,
   "id": "70ed4619-4fab-49b5-87aa-5c900731f240",
   "metadata": {},
   "outputs": [],
   "source": [
    "class VConVolutionFilter(object):\n",
    "    \"\"\" a convolution used for all BGR \"\"\"\n",
    "    def __init__(self,kernel):\n",
    "        self._kernel = kernel\n",
    "    def apply(self,src,dst):\n",
    "        \"\"\" apply filter a BGR/Gray to source / Destinaton \"\"\"\n",
    "        cv.filter2D(src,-1,self._kernel,dst)"
   ]
  },
  {
   "cell_type": "code",
   "execution_count": null,
   "id": "510c8c78-4b30-4ef2-9ec2-510dfe97bc56",
   "metadata": {},
   "outputs": [],
   "source": [
    "class SharpenFilter(VConVolutionFilter):\n",
    "    def __init__(self):\n",
    "        kernel = np.array([\n",
    "                [-1,-1,-1],\n",
    "                [-1,9,-1],\n",
    "                [-1,-1,-1]\n",
    "                ])\n",
    "        VConVolutionFilter.__init__(self,kernel)"
   ]
  },
  {
   "cell_type": "code",
   "execution_count": null,
   "id": "b7907d6f-7620-41d7-b968-4b4293484b1d",
   "metadata": {},
   "outputs": [],
   "source": [
    "class FindEdgesFilter(VConVolutionFilter):\n",
    "    def __init__(self):\n",
    "        kernel = np.array([\n",
    "                [-1,-1,-1],\n",
    "                [-1,8,-1],\n",
    "                [-1,-1,-1]\n",
    "                ])\n",
    "        VConVolutionFilter.__init__(self,kernel)"
   ]
  },
  {
   "cell_type": "code",
   "execution_count": null,
   "id": "ffbe0de9-9d2d-47c1-991f-df9bf1846f6e",
   "metadata": {},
   "outputs": [],
   "source": [
    "class BlurFilter(VConVolutionFilter):\n",
    "    def __init__(self):\n",
    "        kernel = np.array([\n",
    "            [0.04,0.04,.04,.04,.04],\n",
    "              [0.04,0.04,.04,.04,.04],\n",
    "              [0.04,0.04,.04,.04,.04],\n",
    "              [0.04,0.04,.04,.04,.04],\n",
    "              [0.04,0.04,.04,.04,.04]])\n",
    "        VConVolutionFilter.__init__(self,kernel)\n",
    "        \n",
    "            \n",
    "            "
   ]
  },
  {
   "cell_type": "code",
   "execution_count": null,
   "id": "ba2c3e8a-ba81-440d-a1fd-5f9e29e7016e",
   "metadata": {},
   "outputs": [],
   "source": [
    "class EmbossFilter(VConVolutionFilter):\n",
    "    def __init__(self):\n",
    "        kernel = np.array([\n",
    "            [-2,-1,0],\n",
    "            [-1,1,1],\n",
    "            [0,1,2]])\n",
    "        VConVolutionFilter.__init__(self,kernel)"
   ]
  },
  {
   "cell_type": "code",
   "execution_count": null,
   "id": "b936da22-65eb-47ac-ac7c-1e734c757509",
   "metadata": {},
   "outputs": [],
   "source": [
    " "
   ]
  },
  {
   "cell_type": "markdown",
   "id": "225b3180-b425-40a6-a900-d263d405a48b",
   "metadata": {},
   "source": [
    "## Edge detection with Canny"
   ]
  },
  {
   "cell_type": "code",
   "execution_count": null,
   "id": "c687e663-4f1b-4499-8fdf-52b27944933d",
   "metadata": {},
   "outputs": [],
   "source": [
    "import cv2 as cv \n",
    "import numpy as np\n",
    "\n",
    "img = cv.imread('statue_liberty.jpeg',0)\n",
    "cv.imwrite('canny.jpg',cv.Canny(img,200,300))\n",
    "cv.imshow('statue liber',img)\n",
    "cv.imshow('canny statue',cv.imread('canny.jpg'))\n",
    "cv.waitKey()\n",
    "cv.destroyAllWindows()"
   ]
  },
  {
   "cell_type": "code",
   "execution_count": null,
   "id": "c031f3b5-ce45-49c1-a904-d170b716093b",
   "metadata": {},
   "outputs": [],
   "source": []
  },
  {
   "cell_type": "markdown",
   "id": "b9b2695e-1138-40d5-92ee-8bc436d5c068",
   "metadata": {},
   "source": [
    "# Countour Detection\n",
    "- a black image create 200x200 and then the edge detection by red colour \n",
    "- cv.RETR_TREE retrive the entire hierarchy of external and internal contours"
   ]
  },
  {
   "cell_type": "code",
   "execution_count": 56,
   "id": "539bb855-6d29-4220-b372-b16627708f6e",
   "metadata": {},
   "outputs": [],
   "source": [
    "import cv2 as cv \n",
    "import numpy as np\n"
   ]
  },
  {
   "cell_type": "code",
   "execution_count": 57,
   "id": "ff536681-3365-4815-acb5-3a963f5ceee9",
   "metadata": {},
   "outputs": [],
   "source": [
    "img = np.zeros((200,200),dtype=np.uint8)\n",
    "img[50:150,50:150]=255"
   ]
  },
  {
   "cell_type": "code",
   "execution_count": 58,
   "id": "2a1a3519-16d8-439e-b995-652c5619838d",
   "metadata": {},
   "outputs": [],
   "source": [
    "ret,thresh = cv.threshold(img,127,255,0)\n",
    "contours,hirerar = cv.findContours(thresh,cv.RETR_TREE,cv.CHAIN_APPROX_SIMPLE)"
   ]
  },
  {
   "cell_type": "code",
   "execution_count": 59,
   "id": "a723b7b0-227f-4c00-9cf8-72b1b1897e5d",
   "metadata": {},
   "outputs": [],
   "source": [
    "color = cv.cvtColor(img,cv.COLOR_GRAY2BGR)\n",
    "img = cv.drawContours(color,contours,-1,(0,0,255),2)"
   ]
  },
  {
   "cell_type": "code",
   "execution_count": 54,
   "id": "dfd81f1d-5382-429c-89de-169aa27af841",
   "metadata": {},
   "outputs": [],
   "source": [
    "cv.imshow('contours',color)\n",
    "cv.waitKey()\n",
    "cv.destroyAllWindows()"
   ]
  },
  {
   "cell_type": "code",
   "execution_count": null,
   "id": "a67fb69e-817b-4cfb-a51d-cb1d0c16938f",
   "metadata": {},
   "outputs": [],
   "source": []
  },
  {
   "cell_type": "markdown",
   "id": "e11c5a57-3f83-4d78-8a03-9364afbaca6b",
   "metadata": {},
   "source": [
    "# convex contours and the Douglas Peucker Algorithm\n",
    "- Contours can be explained simply as a curve joining all the continuous points (along the boundary), having same color or intensity."
   ]
  },
  {
   "cell_type": "code",
   "execution_count": 15,
   "id": "df1b8b94-e9ff-4e7c-bcbe-a7613d90e3ee",
   "metadata": {},
   "outputs": [],
   "source": [
    "import cv2 as cv\n",
    "import numpy as np\n"
   ]
  },
  {
   "cell_type": "code",
   "execution_count": 16,
   "id": "480e187a-2bc2-42ee-a4af-3685e1f57956",
   "metadata": {},
   "outputs": [],
   "source": [
    "# test - 01 \n",
    "# img = cv.pyrDown(cv.imread(\"enclose.PNG\",cv.IMREAD_UNCHANGED))\n",
    "# test - 02\n",
    "img = cv.pyrDown(cv.imread(\"statue_liberty.jpeg\",cv.IMREAD_UNCHANGED))\n"
   ]
  },
  {
   "cell_type": "code",
   "execution_count": 17,
   "id": "d4b66508-3e9b-464e-b9e1-190e0748e587",
   "metadata": {},
   "outputs": [],
   "source": [
    "# img\n",
    "ret , thresh = cv.threshold(cv.cvtColor(img,cv.COLOR_BGR2GRAY),127,255,cv.THRESH_BINARY)"
   ]
  },
  {
   "cell_type": "code",
   "execution_count": 18,
   "id": "645a9d69-ef52-4dfa-9559-8fa151426a87",
   "metadata": {},
   "outputs": [],
   "source": [
    "contours,hier =  cv.findContours(thresh,cv.RETR_EXTERNAL,cv.CHAIN_APPROX_SIMPLE)"
   ]
  },
  {
   "cell_type": "code",
   "execution_count": 19,
   "id": "f0f3420e-753f-474a-bc6b-ac98621b38a7",
   "metadata": {},
   "outputs": [],
   "source": [
    "black = np.zeros_like(img)"
   ]
  },
  {
   "cell_type": "code",
   "execution_count": 20,
   "id": "68fd3d31-1847-4b93-bab8-92b60efca345",
   "metadata": {},
   "outputs": [],
   "source": [
    " for cnt in contours:\n",
    "        epsilon = 0.01 * cv.arcLength(cnt,True)\n",
    "        approx = cv.approxPolyDP(cnt,epsilon,True)\n",
    "        hull = cv.convexHull(cnt)\n",
    "        \n",
    "        cv.drawContours(black,[cnt],-1,(0,255,0),2)\n",
    "        cv.drawContours(black,[approx],-1,(255,255,0),2)\n",
    "        cv.drawContours(black,[hull],-1,(0,0,255),2)\n",
    "        \n",
    "\n",
    "cv.imshow(\"hull\",black)\n",
    "cv.waitKey()\n",
    "cv.destroyAllWindows()"
   ]
  },
  {
   "cell_type": "code",
   "execution_count": null,
   "id": "daafdb5e-ddf1-41eb-b31e-9bdca7aa4eb1",
   "metadata": {},
   "outputs": [],
   "source": []
  },
  {
   "cell_type": "markdown",
   "id": "1a734c7d-4979-44a3-8de9-8c9c1b313dfe",
   "metadata": {},
   "source": [
    "# Detecting Lines "
   ]
  },
  {
   "cell_type": "code",
   "execution_count": null,
   "id": "e97570d7-e4a1-466d-ad7e-0f9dc181d3a2",
   "metadata": {},
   "outputs": [],
   "source": [
    "img = cv.imread('line.png')\n",
    "gray = cv.cvtColor(img,cv.COLOR_BGR2GRAY)\n",
    "edges = cv.Canny(gray,50,120)\n",
    "minLength = 20\n",
    "maxLineGap = 5\n",
    "\n",
    "lines = cv.HoughLinesP(edges,1,np.pi/180.0,20,minLength,maxLineGap)\n",
    "\n",
    "for x1,y1,x2,y2 in lines[0]:\n",
    "    cv.line(img,(x1,y1),(x2,y2),(0,255,0),2)\n",
    "\n",
    "cv.imshow('edges',edges)\n",
    "cv.imshow('lines',img)\n",
    "cv.waitKey()\n",
    "cv.destroyAllWindows()"
   ]
  },
  {
   "cell_type": "code",
   "execution_count": null,
   "id": "60152a9b-374d-4f93-96c2-4c3b8395a093",
   "metadata": {},
   "outputs": [],
   "source": []
  },
  {
   "cell_type": "markdown",
   "id": "26609629-728f-46e4-94fc-48a1b423fced",
   "metadata": {},
   "source": [
    "# Detecing Circles "
   ]
  },
  {
   "cell_type": "code",
   "execution_count": 36,
   "id": "de2b8002-6b5f-4d42-85aa-860661593485",
   "metadata": {},
   "outputs": [],
   "source": [
    "import cv2 as cv\n",
    "import numpy as np\n"
   ]
  },
  {
   "cell_type": "code",
   "execution_count": 37,
   "id": "0790a340-c2ed-42da-a8f7-6624ed68de2d",
   "metadata": {},
   "outputs": [],
   "source": [
    "planet = cv.imread('planet.PNG')\n",
    "gray_image = cv.cvtColor(planet,cv.COLOR_BGR2GRAY)\n",
    "gray_image = cv.medianBlur(gray_image,5)"
   ]
  },
  {
   "cell_type": "code",
   "execution_count": 38,
   "id": "a024c4b9-49b5-4d26-92f1-76e3bd3b03da",
   "metadata": {},
   "outputs": [],
   "source": [
    "circles = cv.HoughCircles(gray_image,cv.HOUGH_GRADIENT,1,120,param1=100,param2=30,minRadius=0,maxRadius=0)"
   ]
  },
  {
   "cell_type": "code",
   "execution_count": 39,
   "id": "60fdc403-6c43-4706-b673-777c0a16b776",
   "metadata": {},
   "outputs": [],
   "source": [
    "circles = np.uint16(np.around(circles))"
   ]
  },
  {
   "cell_type": "code",
   "execution_count": 43,
   "id": "9cf5a7dc-d9fd-4625-a337-b9fe3bbe3559",
   "metadata": {},
   "outputs": [],
   "source": [
    "for i in circles[0,:]:\n",
    "    # draw the output circle \n",
    "    cv.circle(planet,(i[0],i[1]),i[2],(0,255,0),2)\n",
    "    # draw the center of the circle \n",
    "    cv.circle(planet,(i[0],i[1]),2,(0,0,255),3)\n",
    "\n",
    "cv.imwrite('planets_circle.jpg',planet)\n",
    "cv.imshow('hough circle',planet)\n",
    "cv.waitKey()\n",
    "cv.destroyAllWindows()"
   ]
  },
  {
   "cell_type": "code",
   "execution_count": null,
   "id": "a4125c44-d22c-4ccb-a851-e3d316911ae7",
   "metadata": {},
   "outputs": [],
   "source": []
  },
  {
   "cell_type": "code",
   "execution_count": null,
   "id": "2dc14b64-0642-43e7-b2ac-a8bbd0bebf68",
   "metadata": {},
   "outputs": [],
   "source": []
  }
 ],
 "metadata": {
  "kernelspec": {
   "display_name": "Python 3 (ipykernel)",
   "language": "python",
   "name": "python3"
  },
  "language_info": {
   "codemirror_mode": {
    "name": "ipython",
    "version": 3
   },
   "file_extension": ".py",
   "mimetype": "text/x-python",
   "name": "python",
   "nbconvert_exporter": "python",
   "pygments_lexer": "ipython3",
   "version": "3.9.13"
  }
 },
 "nbformat": 4,
 "nbformat_minor": 5
}
