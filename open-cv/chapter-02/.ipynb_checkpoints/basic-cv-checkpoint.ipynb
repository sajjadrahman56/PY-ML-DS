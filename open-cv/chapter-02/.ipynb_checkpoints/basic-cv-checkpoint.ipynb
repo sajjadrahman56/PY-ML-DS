{
 "cells": [
  {
   "cell_type": "code",
   "execution_count": 3,
   "id": "f36915d2",
   "metadata": {},
   "outputs": [],
   "source": [
    "import cv2 as cv\n",
    "import numpy as np"
   ]
  },
  {
   "cell_type": "code",
   "execution_count": 4,
   "id": "78287907",
   "metadata": {},
   "outputs": [
    {
     "data": {
      "text/plain": [
       "'4.7.0'"
      ]
     },
     "execution_count": 4,
     "metadata": {},
     "output_type": "execute_result"
    }
   ],
   "source": [
    "cv.__version__"
   ]
  },
  {
   "cell_type": "markdown",
   "id": "b745afc0",
   "metadata": {},
   "source": [
    "# Read and Write image File\n",
    "- imread() for read a image\n",
    "    - imread() return BGR formet even it is Grayscale image . BGR = RGB\n",
    "- imwrite() for write a image "
   ]
  },
  {
   "cell_type": "code",
   "execution_count": 8,
   "id": "aa4be89a",
   "metadata": {},
   "outputs": [],
   "source": [
    "img = np.zeros((3,3),dtype=np.uint8)"
   ]
  },
  {
   "cell_type": "code",
   "execution_count": 9,
   "id": "1a94d8d1",
   "metadata": {},
   "outputs": [
    {
     "data": {
      "text/plain": [
       "array([[0, 0, 0],\n",
       "       [0, 0, 0],\n",
       "       [0, 0, 0]], dtype=uint8)"
      ]
     },
     "execution_count": 9,
     "metadata": {},
     "output_type": "execute_result"
    }
   ],
   "source": [
    "img"
   ]
  },
  {
   "cell_type": "markdown",
   "id": "3533cb5a",
   "metadata": {},
   "source": [
    "###  image change"
   ]
  },
  {
   "cell_type": "code",
   "execution_count": 11,
   "id": "417e7b6e",
   "metadata": {},
   "outputs": [],
   "source": [
    "img = cv.cvtColor(img,cv.COLOR_GRAY2BGR)"
   ]
  },
  {
   "cell_type": "code",
   "execution_count": 12,
   "id": "512846b7",
   "metadata": {},
   "outputs": [
    {
     "data": {
      "text/plain": [
       "array([[[0, 0, 0],\n",
       "        [0, 0, 0],\n",
       "        [0, 0, 0]],\n",
       "\n",
       "       [[0, 0, 0],\n",
       "        [0, 0, 0],\n",
       "        [0, 0, 0]],\n",
       "\n",
       "       [[0, 0, 0],\n",
       "        [0, 0, 0],\n",
       "        [0, 0, 0]]], dtype=uint8)"
      ]
     },
     "execution_count": 12,
     "metadata": {},
     "output_type": "execute_result"
    }
   ],
   "source": [
    "img"
   ]
  },
  {
   "cell_type": "code",
   "execution_count": 63,
   "id": "68b43d4a",
   "metadata": {},
   "outputs": [],
   "source": [
    "img2 = np.ones((7,8),dtype=np.uint8)"
   ]
  },
  {
   "cell_type": "code",
   "execution_count": 64,
   "id": "329b8f06",
   "metadata": {},
   "outputs": [
    {
     "data": {
      "text/plain": [
       "array([[1, 1, 1, 1, 1, 1, 1, 1],\n",
       "       [1, 1, 1, 1, 1, 1, 1, 1],\n",
       "       [1, 1, 1, 1, 1, 1, 1, 1],\n",
       "       [1, 1, 1, 1, 1, 1, 1, 1],\n",
       "       [1, 1, 1, 1, 1, 1, 1, 1],\n",
       "       [1, 1, 1, 1, 1, 1, 1, 1],\n",
       "       [1, 1, 1, 1, 1, 1, 1, 1]], dtype=uint8)"
      ]
     },
     "execution_count": 64,
     "metadata": {},
     "output_type": "execute_result"
    }
   ],
   "source": [
    "img2"
   ]
  },
  {
   "cell_type": "code",
   "execution_count": 65,
   "id": "252fdb6d",
   "metadata": {},
   "outputs": [],
   "source": [
    "img2 = cv.cvtColor(img2,cv.COLOR_GRAY2BGR)"
   ]
  },
  {
   "cell_type": "code",
   "execution_count": 66,
   "id": "862b6768",
   "metadata": {},
   "outputs": [
    {
     "data": {
      "text/plain": [
       "array([[[1, 1, 1],\n",
       "        [1, 1, 1],\n",
       "        [1, 1, 1],\n",
       "        [1, 1, 1],\n",
       "        [1, 1, 1],\n",
       "        [1, 1, 1],\n",
       "        [1, 1, 1],\n",
       "        [1, 1, 1]],\n",
       "\n",
       "       [[1, 1, 1],\n",
       "        [1, 1, 1],\n",
       "        [1, 1, 1],\n",
       "        [1, 1, 1],\n",
       "        [1, 1, 1],\n",
       "        [1, 1, 1],\n",
       "        [1, 1, 1],\n",
       "        [1, 1, 1]],\n",
       "\n",
       "       [[1, 1, 1],\n",
       "        [1, 1, 1],\n",
       "        [1, 1, 1],\n",
       "        [1, 1, 1],\n",
       "        [1, 1, 1],\n",
       "        [1, 1, 1],\n",
       "        [1, 1, 1],\n",
       "        [1, 1, 1]],\n",
       "\n",
       "       [[1, 1, 1],\n",
       "        [1, 1, 1],\n",
       "        [1, 1, 1],\n",
       "        [1, 1, 1],\n",
       "        [1, 1, 1],\n",
       "        [1, 1, 1],\n",
       "        [1, 1, 1],\n",
       "        [1, 1, 1]],\n",
       "\n",
       "       [[1, 1, 1],\n",
       "        [1, 1, 1],\n",
       "        [1, 1, 1],\n",
       "        [1, 1, 1],\n",
       "        [1, 1, 1],\n",
       "        [1, 1, 1],\n",
       "        [1, 1, 1],\n",
       "        [1, 1, 1]],\n",
       "\n",
       "       [[1, 1, 1],\n",
       "        [1, 1, 1],\n",
       "        [1, 1, 1],\n",
       "        [1, 1, 1],\n",
       "        [1, 1, 1],\n",
       "        [1, 1, 1],\n",
       "        [1, 1, 1],\n",
       "        [1, 1, 1]],\n",
       "\n",
       "       [[1, 1, 1],\n",
       "        [1, 1, 1],\n",
       "        [1, 1, 1],\n",
       "        [1, 1, 1],\n",
       "        [1, 1, 1],\n",
       "        [1, 1, 1],\n",
       "        [1, 1, 1],\n",
       "        [1, 1, 1]]], dtype=uint8)"
      ]
     },
     "execution_count": 66,
     "metadata": {},
     "output_type": "execute_result"
    }
   ],
   "source": [
    "img2"
   ]
  },
  {
   "cell_type": "code",
   "execution_count": 19,
   "id": "521283d9",
   "metadata": {},
   "outputs": [
    {
     "data": {
      "text/plain": [
       "(5, 4, 3)"
      ]
     },
     "execution_count": 19,
     "metadata": {},
     "output_type": "execute_result"
    }
   ],
   "source": [
    "img2.shape"
   ]
  },
  {
   "cell_type": "code",
   "execution_count": 24,
   "id": "e424eeac",
   "metadata": {},
   "outputs": [],
   "source": [
    "# conver image FORMAT"
   ]
  },
  {
   "cell_type": "code",
   "execution_count": 30,
   "id": "ef206e77",
   "metadata": {},
   "outputs": [],
   "source": [
    "image = cv.imread('sr.jpg')"
   ]
  },
  {
   "cell_type": "code",
   "execution_count": 31,
   "id": "424986f2",
   "metadata": {},
   "outputs": [
    {
     "data": {
      "text/plain": [
       "True"
      ]
     },
     "execution_count": 31,
     "metadata": {},
     "output_type": "execute_result"
    }
   ],
   "source": [
    "cv.imwrite('sre.png',image)"
   ]
  },
  {
   "cell_type": "code",
   "execution_count": 33,
   "id": "10ac9a26",
   "metadata": {},
   "outputs": [
    {
     "data": {
      "text/plain": [
       "(3532, 4036, 3)"
      ]
     },
     "execution_count": 33,
     "metadata": {},
     "output_type": "execute_result"
    }
   ],
   "source": [
    "image.shape"
   ]
  },
  {
   "cell_type": "markdown",
   "id": "f18523dc",
   "metadata": {},
   "source": [
    "## Raw bytes convert to Image \n",
    "[0,0] or [0,0,0] \n",
    "- where first is represent Y axis , '0' being the top\n",
    "- 2nd one is represent X axis , '0' being the leftmost "
   ]
  },
  {
   "cell_type": "code",
   "execution_count": 40,
   "id": "66af1426",
   "metadata": {},
   "outputs": [],
   "source": [
    "byteArray = bytearray(image)"
   ]
  },
  {
   "cell_type": "code",
   "execution_count": 42,
   "id": "43b85e04",
   "metadata": {},
   "outputs": [],
   "source": [
    "# byteArray"
   ]
  },
  {
   "cell_type": "code",
   "execution_count": 44,
   "id": "078901be",
   "metadata": {},
   "outputs": [],
   "source": [
    "import os"
   ]
  },
  {
   "cell_type": "code",
   "execution_count": 49,
   "id": "08b9fd1b",
   "metadata": {},
   "outputs": [],
   "source": [
    "# make an array of 1,20,000 bytes array \n",
    "randomByteArray = bytearray(os.urandom(120000))"
   ]
  },
  {
   "cell_type": "code",
   "execution_count": 46,
   "id": "a0863c7d",
   "metadata": {},
   "outputs": [],
   "source": [
    "flatNumpyArray = np.array(randomByteArray)"
   ]
  },
  {
   "cell_type": "code",
   "execution_count": 52,
   "id": "f885cfc7",
   "metadata": {},
   "outputs": [],
   "source": [
    "#------------------------ Run this -------\n",
    "# radnomByteArray\n",
    "# flatNumpyArray"
   ]
  },
  {
   "cell_type": "code",
   "execution_count": 55,
   "id": "d67344ab",
   "metadata": {},
   "outputs": [
    {
     "data": {
      "text/plain": [
       "True"
      ]
     },
     "execution_count": 55,
     "metadata": {},
     "output_type": "execute_result"
    }
   ],
   "source": [
    "# now assign the shape 400 * 300 \n",
    "grayImage = flatNumpyArray.reshape(300,400)\n",
    "\n",
    "cv.imwrite('randomGrayImage.png',grayImage)"
   ]
  },
  {
   "cell_type": "code",
   "execution_count": 61,
   "id": "22dc7a8e",
   "metadata": {},
   "outputs": [
    {
     "data": {
      "text/plain": [
       "True"
      ]
     },
     "execution_count": 61,
     "metadata": {},
     "output_type": "execute_result"
    }
   ],
   "source": [
    "# bgr image \n",
    "\n",
    "bgrImage = flatNumpyArray.reshape(200,200,3)\n",
    "cv.imwrite('RandomColor.png',bgrImage)"
   ]
  },
  {
   "cell_type": "code",
   "execution_count": 67,
   "id": "4bb9102a",
   "metadata": {},
   "outputs": [],
   "source": [
    "## Image data 'ACCESS' with Numpy.array"
   ]
  },
  {
   "cell_type": "code",
   "execution_count": 78,
   "id": "817f5521",
   "metadata": {},
   "outputs": [],
   "source": [
    "image2 = cv.imread('sr.jpg')"
   ]
  },
  {
   "cell_type": "code",
   "execution_count": 80,
   "id": "204c699c",
   "metadata": {},
   "outputs": [],
   "source": [
    "image2[0,0] = [255,255,255]"
   ]
  },
  {
   "cell_type": "code",
   "execution_count": 82,
   "id": "249ff8ef",
   "metadata": {},
   "outputs": [
    {
     "data": {
      "text/plain": [
       "(3532, 4036, 3)"
      ]
     },
     "execution_count": 82,
     "metadata": {},
     "output_type": "execute_result"
    }
   ],
   "source": [
    "image2.shape"
   ]
  },
  {
   "cell_type": "code",
   "execution_count": null,
   "id": "5841392f",
   "metadata": {},
   "outputs": [],
   "source": []
  },
  {
   "cell_type": "markdown",
   "id": "e5725fb2",
   "metadata": {},
   "source": [
    "## setting all value ( B | G | R ) = 0"
   ]
  },
  {
   "cell_type": "code",
   "execution_count": 83,
   "id": "10ac61db",
   "metadata": {},
   "outputs": [],
   "source": [
    "image2 = cv.imread('sr.jpg')"
   ]
  },
  {
   "cell_type": "code",
   "execution_count": 95,
   "id": "dd387f28",
   "metadata": {},
   "outputs": [],
   "source": [
    "# sample - 01 \n",
    "image = cv.imread('sr.jpg')\n",
    "image[: , : , 1] = 0"
   ]
  },
  {
   "cell_type": "code",
   "execution_count": 96,
   "id": "a35c7466",
   "metadata": {},
   "outputs": [
    {
     "data": {
      "text/plain": [
       "array([[[65,  0, 66],\n",
       "        [65,  0, 66],\n",
       "        [65,  0, 66],\n",
       "        ...,\n",
       "        [31,  0, 35],\n",
       "        [30,  0, 34],\n",
       "        [30,  0, 34]],\n",
       "\n",
       "       [[66,  0, 67],\n",
       "        [65,  0, 66],\n",
       "        [65,  0, 66],\n",
       "        ...,\n",
       "        [31,  0, 35],\n",
       "        [31,  0, 35],\n",
       "        [30,  0, 34]],\n",
       "\n",
       "       [[64,  0, 67],\n",
       "        [63,  0, 66],\n",
       "        [65,  0, 66],\n",
       "        ...,\n",
       "        [32,  0, 36],\n",
       "        [31,  0, 35],\n",
       "        [31,  0, 35]],\n",
       "\n",
       "       ...,\n",
       "\n",
       "       [[37,  0, 59],\n",
       "        [37,  0, 59],\n",
       "        [37,  0, 59],\n",
       "        ...,\n",
       "        [24,  0, 31],\n",
       "        [24,  0, 31],\n",
       "        [24,  0, 31]],\n",
       "\n",
       "       [[38,  0, 58],\n",
       "        [38,  0, 58],\n",
       "        [38,  0, 58],\n",
       "        ...,\n",
       "        [24,  0, 31],\n",
       "        [24,  0, 31],\n",
       "        [24,  0, 31]],\n",
       "\n",
       "       [[38,  0, 58],\n",
       "        [38,  0, 58],\n",
       "        [37,  0, 57],\n",
       "        ...,\n",
       "        [24,  0, 31],\n",
       "        [24,  0, 31],\n",
       "        [24,  0, 31]]], dtype=uint8)"
      ]
     },
     "execution_count": 96,
     "metadata": {},
     "output_type": "execute_result"
    }
   ],
   "source": [
    "image"
   ]
  },
  {
   "cell_type": "code",
   "execution_count": null,
   "id": "880dedd9",
   "metadata": {},
   "outputs": [],
   "source": [
    " "
   ]
  },
  {
   "cell_type": "code",
   "execution_count": 106,
   "id": "77ac0ae1",
   "metadata": {},
   "outputs": [],
   "source": [
    "img2 = cv.imread('cn.png')"
   ]
  },
  {
   "cell_type": "code",
   "execution_count": 110,
   "id": "a1f0106e",
   "metadata": {},
   "outputs": [],
   "source": [
    "img2[:,:,1] = 0\n",
    "#img2"
   ]
  },
  {
   "cell_type": "code",
   "execution_count": null,
   "id": "575fe8f3",
   "metadata": {},
   "outputs": [],
   "source": [
    " "
   ]
  },
  {
   "cell_type": "markdown",
   "id": "ae8e5ad9",
   "metadata": {},
   "source": [
    "# ROI ( Regions of Interest)\n",
    "- a particular regions move to other place "
   ]
  },
  {
   "cell_type": "code",
   "execution_count": 114,
   "id": "adb6f562",
   "metadata": {},
   "outputs": [],
   "source": [
    "img = cv.imread('sr.jpg')"
   ]
  },
  {
   "cell_type": "code",
   "execution_count": 115,
   "id": "a957137d",
   "metadata": {},
   "outputs": [],
   "source": [
    "my_roi = img[0:200,0:200]"
   ]
  },
  {
   "cell_type": "code",
   "execution_count": 116,
   "id": "cb0765dd",
   "metadata": {},
   "outputs": [],
   "source": [
    "img[250:450, 250:450] = my_roi"
   ]
  },
  {
   "cell_type": "code",
   "execution_count": 117,
   "id": "ecbb4ffc",
   "metadata": {},
   "outputs": [
    {
     "name": "stdout",
     "output_type": "stream",
     "text": [
      "(3532, 4036, 3)\n",
      "42765456\n",
      "uint8\n"
     ]
    }
   ],
   "source": [
    "print(img.shape) # Gray scale image len = 2 , Color Image = 3\n",
    "print(img.size) \n",
    "print(img.dtype)"
   ]
  },
  {
   "cell_type": "code",
   "execution_count": null,
   "id": "e74ed5f0",
   "metadata": {},
   "outputs": [],
   "source": []
  },
  {
   "cell_type": "markdown",
   "id": "a217cb6f",
   "metadata": {},
   "source": [
    "# R/W a video file "
   ]
  },
  {
   "cell_type": "code",
   "execution_count": 119,
   "id": "01864112",
   "metadata": {},
   "outputs": [],
   "source": [
    "import cv2 as cv"
   ]
  },
  {
   "cell_type": "code",
   "execution_count": 131,
   "id": "10ae0e13",
   "metadata": {},
   "outputs": [],
   "source": [
    "videoCapture = cv.VideoCapture('MyInputVid.avi')\n",
    "fps = videoCapture.get(cv.CAP_PROP_FPS)\n",
    "\n",
    "size = (int(videoCapture.get(cv.CAP_PROP_FRAME_WIDTH)),int(videoCapture.get(cv.CAP_PROP_FRAME_HEIGHT)))\n",
    "\n",
    "videoWriter = cv.VideoWriter('MyOutput.avi',cv.VideoWriter_fourcc('I','4','2','0'),fps,size)\n",
    "\n",
    "\n",
    "success , frame = videoCapture.read()\n",
    "\n",
    "while success:\n",
    "    videoWrite.write(frame)\n",
    "    success,frame = videoCapture.read()"
   ]
  },
  {
   "cell_type": "code",
   "execution_count": null,
   "id": "0a20ae9c",
   "metadata": {},
   "outputs": [],
   "source": []
  },
  {
   "cell_type": "markdown",
   "id": "aa5876be",
   "metadata": {},
   "source": [
    "# Capture Camera"
   ]
  },
  {
   "cell_type": "code",
   "execution_count": 143,
   "id": "b56705a5",
   "metadata": {},
   "outputs": [],
   "source": [
    "cameraCapture = cv.VideoCapture(0)\n",
    "\n",
    "fps = 30 \n",
    "\n",
    "size = (int(cameraCapture.get(cv.CAP_PROP_FRAME_WIDTH)),int(cameraCapture.get(cv.CAP_PROP_FRAME_HEIGHT)))\n",
    "\n",
    "videoWriter = cv.VideoWriter('MyOutputVid.avi',cv.VideoWriter_fourcc('I','4','2','0'),fps,size)\n",
    "\n",
    "\n",
    "success , frame = cameraCapture.read()\n",
    "\n",
    "control_loop = 10 * fps - 1 \n",
    "\n",
    "while success and control_loop > 0:\n",
    "    videoWriter.write(frame)\n",
    "    success,frame = cameraCapture.read()\n",
    "    control_loop -= 1"
   ]
  },
  {
   "cell_type": "code",
   "execution_count": null,
   "id": "a0163759",
   "metadata": {},
   "outputs": [],
   "source": []
  },
  {
   "cell_type": "markdown",
   "id": "73405225-ff6a-449b-800d-cbbce1d2aae4",
   "metadata": {},
   "source": [
    " \n",
    "# Display Image "
   ]
  },
  {
   "cell_type": "code",
   "execution_count": 3,
   "id": "dcc36b45",
   "metadata": {},
   "outputs": [],
   "source": [
    " import cv2 as cv \n",
    "    \n",
    "ima = cv.imread('sr.png')\n",
    "cv.imshow('my image',ima)\n",
    "cv.waitKey()\n",
    "cv.destroyAllWindows()"
   ]
  },
  {
   "cell_type": "code",
   "execution_count": 4,
   "id": "5bef7f46",
   "metadata": {},
   "outputs": [
    {
     "name": "stdout",
     "output_type": "stream",
     "text": [
      "Original Dimensions ( shape )  :  (3532, 4036, 3)\n",
      "Resized Dimensions :  (353, 403, 3)\n"
     ]
    }
   ],
   "source": [
    "# the image is too large so reshape the size of the IMAGE\n",
    "# the The Original Dimensions :  (3532, 4036, 3)\n",
    "\n",
    "img = cv.imread('sr.png', cv.IMREAD_UNCHANGED)\n",
    " \n",
    "print('Original Dimensions ( shape )  : ',img.shape)\n",
    " \n",
    "scale_percent = 10 # percent of original size\n",
    "\n",
    "width = int(img.shape[1] * scale_percent / 100)\n",
    "\n",
    "height = int(img.shape[0] * scale_percent / 100)\n",
    "\n",
    "dim = (width, height)\n",
    "  \n",
    "# resize image\n",
    "resized = cv.resize(img, dim, interpolation = cv.INTER_AREA)\n",
    "\n",
    "# save resized image \n",
    "\n",
    "cv.imwrite('resajjad.png',resized)\n",
    "\n",
    "print('Resized Dimensions : ',resized.shape)\n",
    " \n",
    "cv.imshow(\"Resized image\", resized)\n",
    "cv.waitKey(0)\n",
    "cv.destroyAllWindows()"
   ]
  },
  {
   "cell_type": "code",
   "execution_count": null,
   "id": "1a206875-548d-4acd-b198-6a56745ada48",
   "metadata": {},
   "outputs": [],
   "source": []
  },
  {
   "cell_type": "markdown",
   "id": "cf1eda5b-3ee0-45ef-a526-be739a6208af",
   "metadata": {},
   "source": [
    "# Display Camera Frames in Window"
   ]
  },
  {
   "cell_type": "code",
   "execution_count": 7,
   "id": "b5a1b5c4-cf11-4cd8-b1c0-8dbe3add067d",
   "metadata": {},
   "outputs": [
    {
     "name": "stdout",
     "output_type": "stream",
     "text": [
      "window or any key to stop \n"
     ]
    }
   ],
   "source": [
    "clicked = False\n",
    "\n",
    "def onMouse(event,x,y,flags,param):\n",
    "    global clicked\n",
    "    if event == cv.EVENT_LBUTTONUP:\n",
    "        clicked = True\n",
    "\n",
    "cameraCapture = cv.VideoCapture(0)\n",
    "cv.namedWindow('my window')\n",
    "cv.setMouseCallback('my window',onMouse)\n",
    "\n",
    "print('window or any key to stop ')\n",
    "\n",
    "success , frame = cameraCapture.read()\n",
    "\n",
    "while success and cv.waitKey(1)==-1 and not clicked:\n",
    "    cv.imshow('my window',frame)\n",
    "    success,frame = cameraCapture.read()\n",
    "    \n",
    "cv.destroyAllWindows()\n",
    "cameraCapture.release()"
   ]
  },
  {
   "cell_type": "code",
   "execution_count": null,
   "id": "a7e028b0-f3e7-4214-abeb-8bb6172804f5",
   "metadata": {},
   "outputs": [],
   "source": []
  },
  {
   "cell_type": "code",
   "execution_count": null,
   "id": "e5ceb661-fc67-4469-91c5-575b294e4fa9",
   "metadata": {},
   "outputs": [],
   "source": []
  },
  {
   "cell_type": "markdown",
   "id": "fa3d55d7-2179-47ae-8977-afb21d824c0c",
   "metadata": {},
   "source": [
    "# Project Cameo "
   ]
  },
  {
   "cell_type": "code",
   "execution_count": 8,
   "id": "1847a817-8059-4cea-9261-973f08e5aea7",
   "metadata": {},
   "outputs": [],
   "source": [
    "import cv2 as cv\n",
    "import numpy as np\n",
    "import time "
   ]
  },
  {
   "cell_type": "code",
   "execution_count": 9,
   "id": "8e736057-bdb5-4173-bea5-c0747d7d3c6b",
   "metadata": {},
   "outputs": [],
   "source": [
    "\n",
    "        "
   ]
  },
  {
   "cell_type": "code",
   "execution_count": 13,
   "id": "8ede980a-a9bf-4892-a9a4-4793ea2399b6",
   "metadata": {},
   "outputs": [],
   "source": [
    "class CaptureManager(object):\n",
    "    def __init__(self,capture,previewWindow = None , shouldMirrorPreview=False):\n",
    "        self.previewWindowManager = previewManager\n",
    "        self.shouldMirrorPreview = shouldMirrorPreview\n",
    "        self._capture = capture\n",
    "        self._channel=0\n",
    "        self._enteredFrame = False\n",
    "        self._frame = None\n",
    "        self._imageFilename = None\n",
    "        self._videoFilename = None\n",
    "        self._videoEncoding = None\n",
    "        self._videoWriter = None\n",
    "        self._startTime = None\n",
    "        self._framesElapsed = 0\n",
    "        self._fpsEstimate = None\n",
    "        \n",
    "@property \n",
    "def channel(self):\n",
    "    return self._channel\n",
    "@channel.setter\n",
    "def channel(self,value):\n",
    "    if self._channel != value:\n",
    "        self._channel = value\n",
    "        self._frame = None\n",
    "\n",
    "@property\n",
    "def frame(self):\n",
    "    if self._enteredFrame and self._frame is None:\n",
    "        _,self._frame = self._captture.retrive(self._frame , self.channel)\n",
    "    return self._frame \n",
    "@property\n",
    "\n",
    "def isWritingImage(self):\n",
    "    return self._imageFilename is not None\n",
    "@property\n",
    "def isWritingVideo(self):\n",
    "    return sefl._videoFilename is not None \n",
    "\n",
    "def enterFrame(self):\n",
    "    \"\"\" capture the next frame if any\"\"\"\n",
    "    assert not self._entertedFrame,\\\n",
    "        'previous enterFrame() had no matching exitFrame()'\n",
    "    if self._capture is not None:\n",
    "        self._enteredFrame = self._capture.grab()\n",
    "\n",
    "def exitFrame(self):\n",
    "    \n",
    "    if sefl.frame is None:\n",
    "        self._enteredFrame = False\n",
    "        return \n",
    "    # update the fps estimate time and related variables \n",
    "    \n",
    "    if self._frameElapsed == 0:\n",
    "        self._startTime = time.time()\n",
    "    else:\n",
    "        timeElapsed = time.time()\n",
    "        self._fpsEstimate = self._frameElapsed/ timeElpased\n",
    "    self._frameElpased += 1\n",
    "    \n",
    "    # draw to the window if any \n",
    "    \n",
    "    if self.previewWindowManager is not None:\n",
    "        if self.shouldMirrorPreview:\n",
    "            mirroredFrame = numpy.fliplr(self._frame)\n",
    "            self.previewWindowManager.show(mirroredFrame)\n",
    "        else:\n",
    "            self.previewWindowManger.show(self._frame)\n",
    "    \n",
    "    # write to the image file \n",
    "    if self.isWritingImage:\n",
    "        cv.imwrite(self._imageFilename,self._frame)\n",
    "        self._imageFilename = None\n",
    "        \n",
    "    self._writeVideoFrame()\n",
    "    \n",
    "    # Relase the frame:\n",
    "    self._frame = None\n",
    "    self._enteredFrame = False\n",
    "    \n",
    "    \n",
    "    def writeImage (self,filename):\n",
    "        self._imageFilename = filename\n",
    "    \n",
    "    def startWritingVideo(self, filename,encoding = cv2.VideoWriter_fourcc('M','J','P','G')):\n",
    "        \"\"\"Start writing exited frames to a video file.\"\"\"\n",
    "        self._videoFilename = filename\n",
    "        self._videoEncoding = encoding\n",
    "    \n",
    "    def stopWritingVideo(self):\n",
    "        \"\"\"Stop writing exited frames to a video file.\"\"\"\n",
    "        self._videoFilename = None\n",
    "        self._videoEncoding = None\n",
    "        self._videoWriter = None\n",
    "        \n",
    "    def _writeVideoFrame(self):\n",
    "        if not self.isWritingVideo:\n",
    "            return\n",
    "        if self._videoWriter is None:\n",
    "            fps = self._capture.get(cv2.CAP_PROP_FPS)\n",
    "            if fps <= 0.0:\n",
    "                # The capture's FPS is unknown so use an estimate.\n",
    "                if self._framesElapsed < 20:\n",
    "                    # Wait until more frames elapse so that the\n",
    "                    # estimate is more stable.\n",
    "                    return\n",
    "                else:\n",
    "                    fps = self._fpsEstimate\n",
    "            size = (int(self._capture.get(cv2.CAP_PROP_FRAME_WIDTH)),int(self._capture.get(cv2.CAP_PROP_FRAME_HEIGHT)))\n",
    "            \n",
    "            self._videoWriter = cv2.VideoWriter(self._videoFilename, self._videoEncoding,fps, size)\n",
    "            \n",
    "        self._videoWriter.write(self._frame)\n",
    "                    \n",
    "                                                                    \n",
    "                                                                         \n",
    "                                                           "
   ]
  },
  {
   "cell_type": "code",
   "execution_count": null,
   "id": "fb576340-306a-4664-a32d-d9febab8cb77",
   "metadata": {},
   "outputs": [],
   "source": [
    "class WindowManager(object):\n",
    "    # page 61 "
   ]
  }
 ],
 "metadata": {
  "kernelspec": {
   "display_name": "Python 3 (ipykernel)",
   "language": "python",
   "name": "python3"
  },
  "language_info": {
   "codemirror_mode": {
    "name": "ipython",
    "version": 3
   },
   "file_extension": ".py",
   "mimetype": "text/x-python",
   "name": "python",
   "nbconvert_exporter": "python",
   "pygments_lexer": "ipython3",
   "version": "3.9.13"
  }
 },
 "nbformat": 4,
 "nbformat_minor": 5
}
