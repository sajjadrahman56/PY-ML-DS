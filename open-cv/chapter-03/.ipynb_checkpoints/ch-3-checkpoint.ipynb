{
 "cells": [
  {
   "cell_type": "markdown",
   "id": "2e6df708-2e95-4ac7-ac89-022f596f9c6b",
   "metadata": {},
   "source": [
    "### Line , edge and shape detection are based on Fourier Transformation"
   ]
  },
  {
   "cell_type": "code",
   "execution_count": 2,
   "id": "a366c679-2d62-4295-889d-d8ad43b0f343",
   "metadata": {},
   "outputs": [],
   "source": [
    "import cv2 as cv\n",
    "import numpy as np\n",
    "from scipy import ndimage"
   ]
  },
  {
   "cell_type": "code",
   "execution_count": 3,
   "id": "2d5afec6-bb10-4dc4-b01f-6356f81ab5a8",
   "metadata": {},
   "outputs": [],
   "source": [
    "kernel_3x3 = np.array([\n",
    "    [-1,-1,-1],\n",
    "    [-1,8,-1],\n",
    "    [-1,-1,-1]\n",
    "])"
   ]
  },
  {
   "cell_type": "code",
   "execution_count": 4,
   "id": "0c36c9f5-266a-4eaa-8e6a-e196382bcdfd",
   "metadata": {},
   "outputs": [],
   "source": [
    "kernel_5x5 = np.array([\n",
    "    [-1,-1,-1,-1,-1],\n",
    "    [-1,1,2,1,-1],\n",
    "    [-1,2,4,2,-1],\n",
    "    [-1,1,2,1,-1],\n",
    "    [-1,-1,-1,-1,-1]])"
   ]
  },
  {
   "cell_type": "code",
   "execution_count": 5,
   "id": "7adb77c5-7d23-432c-a2c6-84dfddf41ba6",
   "metadata": {},
   "outputs": [],
   "source": [
    "img = cv.imread('satue_liberty.jpeg',0)"
   ]
  },
  {
   "cell_type": "markdown",
   "id": "97e728ad-4391-43d5-9636-32ae503b7458",
   "metadata": {
    "tags": []
   },
   "source": [
    "###  resize the image \n",
    "- img = cv.imread('sas.jpg',0)\n",
    "- new_size = (250, 250) # new_size=(width, height)\n",
    "- print(f\"New height and width: {new_size[1]}, {new_size[0]}\" )\n",
    "- resize_img = cv.resize(img, new_size)"
   ]
  },
  {
   "cell_type": "code",
   "execution_count": 6,
   "id": "d4a4e2ee-f46a-434c-9a14-7e43e75733db",
   "metadata": {},
   "outputs": [],
   "source": [
    "k3 = ndimage.convolve(img,kernel_3x3)\n",
    "k5 = ndimage.convolve(img,kernel_5x5)"
   ]
  },
  {
   "cell_type": "code",
   "execution_count": 8,
   "id": "d68e55e2-afce-48ff-bf99-6b7f4b3c5a62",
   "metadata": {},
   "outputs": [],
   "source": [
    "blurred = cv.GaussianBlur(img,(17,17),0)\n",
    "g_hpf = img - blurred"
   ]
  },
  {
   "cell_type": "code",
   "execution_count": 9,
   "id": "40a5caee-1a4f-4a98-81e8-5bfccfc2fa72",
   "metadata": {},
   "outputs": [],
   "source": [
    "cv.imshow('3x3',k3)\n",
    "cv.imshow('5x5',k5)\n",
    "cv.imshow('blurred',blurred)\n",
    "cv.imshow('g_hpf',g_hpf)\n",
    "cv.waitKey()\n",
    "cv.destroyAllWindows()\n"
   ]
  },
  {
   "cell_type": "code",
   "execution_count": null,
   "id": "bed3f246-8099-4482-846d-27c03a900893",
   "metadata": {},
   "outputs": [],
   "source": []
  }
 ],
 "metadata": {
  "kernelspec": {
   "display_name": "Python 3 (ipykernel)",
   "language": "python",
   "name": "python3"
  },
  "language_info": {
   "codemirror_mode": {
    "name": "ipython",
    "version": 3
   },
   "file_extension": ".py",
   "mimetype": "text/x-python",
   "name": "python",
   "nbconvert_exporter": "python",
   "pygments_lexer": "ipython3",
   "version": "3.9.13"
  }
 },
 "nbformat": 4,
 "nbformat_minor": 5
}
