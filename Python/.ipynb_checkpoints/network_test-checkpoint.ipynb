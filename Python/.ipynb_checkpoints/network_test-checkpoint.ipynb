{
 "cells": [
  {
   "cell_type": "markdown",
   "id": "b2513981-71ee-476b-8a42-c6093f56dd53",
   "metadata": {},
   "source": [
    "## Dictonary in MAP"
   ]
  },
  {
   "cell_type": "code",
   "execution_count": 1,
   "id": "000b3b43",
   "metadata": {},
   "outputs": [],
   "source": [
    "d = \"aaaabbcaaca\"\n"
   ]
  },
  {
   "cell_type": "code",
   "execution_count": 2,
   "id": "bb7b524f-a12a-41ea-8b20-509705ee83b5",
   "metadata": {},
   "outputs": [],
   "source": [
    "count_dic = {}"
   ]
  },
  {
   "cell_type": "code",
   "execution_count": 3,
   "id": "5a9a893a-a8de-4c7e-a9be-7da4c77d31ff",
   "metadata": {},
   "outputs": [],
   "source": [
    "for a in d:\n",
    "    if a in count_dic:\n",
    "        count_dic[a] +=1\n",
    "    else:\n",
    "        count_dic[a] = 1"
   ]
  },
  {
   "cell_type": "code",
   "execution_count": 4,
   "id": "be6a8dd4-e3e2-4a03-a3bb-5fc6d5ec2550",
   "metadata": {},
   "outputs": [
    {
     "data": {
      "text/plain": [
       "'aaaabbcaaca'"
      ]
     },
     "execution_count": 4,
     "metadata": {},
     "output_type": "execute_result"
    }
   ],
   "source": [
    "d"
   ]
  },
  {
   "cell_type": "code",
   "execution_count": 5,
   "id": "47596583-8282-4dbc-be2f-b64fbd5138fa",
   "metadata": {},
   "outputs": [
    {
     "data": {
      "text/plain": [
       "{'a': 7, 'b': 2, 'c': 2}"
      ]
     },
     "execution_count": 5,
     "metadata": {},
     "output_type": "execute_result"
    }
   ],
   "source": [
    "count_dic"
   ]
  },
  {
   "cell_type": "code",
   "execution_count": null,
   "id": "6935767c-43d3-41ce-848d-f16b5a176bf2",
   "metadata": {},
   "outputs": [],
   "source": []
  },
  {
   "cell_type": "code",
   "execution_count": 9,
   "id": "c8a4a78a-e7ea-47e7-b206-41e5c4c2238c",
   "metadata": {},
   "outputs": [],
   "source": [
    "# collections that has built in \n",
    "\n",
    "from collections import Counter"
   ]
  },
  {
   "cell_type": "code",
   "execution_count": 10,
   "id": "980bb28d-3b62-4b87-b353-f00ac57e01ec",
   "metadata": {},
   "outputs": [],
   "source": [
    "d2 = Counter(d)"
   ]
  },
  {
   "cell_type": "code",
   "execution_count": 11,
   "id": "9d1aa9cb-21b0-4bcd-a59f-14b3137c6f2f",
   "metadata": {},
   "outputs": [
    {
     "data": {
      "text/plain": [
       "Counter({'a': 7, 'b': 2, 'c': 2})"
      ]
     },
     "execution_count": 11,
     "metadata": {},
     "output_type": "execute_result"
    }
   ],
   "source": [
    "d2"
   ]
  },
  {
   "cell_type": "code",
   "execution_count": null,
   "id": "4a901ac7-d2e7-4533-8c3c-ffdaa93f1575",
   "metadata": {},
   "outputs": [],
   "source": [
    " "
   ]
  }
 ],
 "metadata": {
  "kernelspec": {
   "display_name": "Python 3 (ipykernel)",
   "language": "python",
   "name": "python3"
  },
  "language_info": {
   "codemirror_mode": {
    "name": "ipython",
    "version": 3
   },
   "file_extension": ".py",
   "mimetype": "text/x-python",
   "name": "python",
   "nbconvert_exporter": "python",
   "pygments_lexer": "ipython3",
   "version": "3.9.13"
  }
 },
 "nbformat": 4,
 "nbformat_minor": 5
}
