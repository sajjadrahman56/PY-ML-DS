{
 "cells": [
  {
   "cell_type": "markdown",
   "id": "7164aba4",
   "metadata": {},
   "source": [
    "# List of Python"
   ]
  },
  {
   "cell_type": "code",
   "execution_count": 1,
   "id": "e2b9a56e",
   "metadata": {},
   "outputs": [
    {
     "data": {
      "text/plain": [
       "[1, 3, 4, 6, 70]"
      ]
     },
     "execution_count": 1,
     "metadata": {},
     "output_type": "execute_result"
    }
   ],
   "source": [
    "a = [1,3,4,6,70]\n",
    "a"
   ]
  },
  {
   "cell_type": "code",
   "execution_count": 2,
   "id": "a25bf688",
   "metadata": {},
   "outputs": [],
   "source": [
    "a.insert?"
   ]
  },
  {
   "cell_type": "code",
   "execution_count": 10,
   "id": "c06af382",
   "metadata": {},
   "outputs": [
    {
     "data": {
      "text/plain": [
       "[1, 3, 49, 49, 49, 4, 6, 70]"
      ]
     },
     "execution_count": 10,
     "metadata": {},
     "output_type": "execute_result"
    }
   ],
   "source": [
    "a.insert(2,49)\n",
    "a"
   ]
  },
  {
   "cell_type": "code",
   "execution_count": 11,
   "id": "463e2f90",
   "metadata": {},
   "outputs": [
    {
     "data": {
      "text/plain": [
       "[1, 3, 49, 49, 4, 6, 70]"
      ]
     },
     "execution_count": 11,
     "metadata": {},
     "output_type": "execute_result"
    }
   ],
   "source": [
    "a.remove(49)\n",
    "a"
   ]
  },
  {
   "cell_type": "code",
   "execution_count": 12,
   "id": "249b5e9d",
   "metadata": {},
   "outputs": [],
   "source": [
    "a.reverse()"
   ]
  },
  {
   "cell_type": "code",
   "execution_count": 13,
   "id": "c4986825",
   "metadata": {},
   "outputs": [
    {
     "data": {
      "text/plain": [
       "[70, 6, 4, 49, 49, 3, 1]"
      ]
     },
     "execution_count": 13,
     "metadata": {},
     "output_type": "execute_result"
    }
   ],
   "source": [
    "a"
   ]
  },
  {
   "cell_type": "code",
   "execution_count": 15,
   "id": "edb5647b",
   "metadata": {},
   "outputs": [],
   "source": [
    "a.sort()"
   ]
  },
  {
   "cell_type": "code",
   "execution_count": 16,
   "id": "f67cde06",
   "metadata": {},
   "outputs": [
    {
     "data": {
      "text/plain": [
       "[1, 3, 4, 6, 49, 49, 70]"
      ]
     },
     "execution_count": 16,
     "metadata": {},
     "output_type": "execute_result"
    }
   ],
   "source": [
    "a"
   ]
  },
  {
   "cell_type": "markdown",
   "id": "0886ecfb",
   "metadata": {},
   "source": [
    "## input taken "
   ]
  },
  {
   "cell_type": "code",
   "execution_count": 21,
   "id": "ea7de2c0",
   "metadata": {},
   "outputs": [
    {
     "name": "stdout",
     "output_type": "stream",
     "text": [
      "34\n"
     ]
    }
   ],
   "source": [
    "num1 = input()"
   ]
  },
  {
   "cell_type": "code",
   "execution_count": 22,
   "id": "6a9fb9cf",
   "metadata": {},
   "outputs": [
    {
     "name": "stdout",
     "output_type": "stream",
     "text": [
      "34\n"
     ]
    }
   ],
   "source": [
    "num2 = input()"
   ]
  },
  {
   "cell_type": "code",
   "execution_count": 23,
   "id": "33a3b0a3",
   "metadata": {},
   "outputs": [
    {
     "data": {
      "text/plain": [
       "'3434'"
      ]
     },
     "execution_count": 23,
     "metadata": {},
     "output_type": "execute_result"
    }
   ],
   "source": [
    "num1+num2"
   ]
  },
  {
   "cell_type": "markdown",
   "id": "f1c77dc1",
   "metadata": {},
   "source": [
    "# casting"
   ]
  },
  {
   "cell_type": "code",
   "execution_count": 24,
   "id": "b7cc7d92",
   "metadata": {},
   "outputs": [],
   "source": [
    "int?"
   ]
  },
  {
   "cell_type": "code",
   "execution_count": 26,
   "id": "3bb794bf",
   "metadata": {},
   "outputs": [
    {
     "data": {
      "text/plain": [
       "68"
      ]
     },
     "execution_count": 26,
     "metadata": {},
     "output_type": "execute_result"
    }
   ],
   "source": [
    "num1 = int(num1)\n",
    "num2 = int(num2)\n",
    "num1+num2"
   ]
  },
  {
   "cell_type": "code",
   "execution_count": 27,
   "id": "9e660776",
   "metadata": {},
   "outputs": [
    {
     "data": {
      "text/plain": [
       "[2, 3, 6]"
      ]
     },
     "execution_count": 27,
     "metadata": {},
     "output_type": "execute_result"
    }
   ],
   "source": [
    "list((2,3,6))"
   ]
  },
  {
   "cell_type": "code",
   "execution_count": null,
   "id": "4a40cc80",
   "metadata": {},
   "outputs": [],
   "source": []
  },
  {
   "cell_type": "code",
   "execution_count": 31,
   "id": "6f1b29be",
   "metadata": {},
   "outputs": [],
   "source": [
    "#display message"
   ]
  },
  {
   "cell_type": "code",
   "execution_count": 32,
   "id": "70dcfedd",
   "metadata": {},
   "outputs": [
    {
     "name": "stdout",
     "output_type": "stream",
     "text": [
      "Enter first number : 23\n",
      "Enter 2nd number : 32\n"
     ]
    }
   ],
   "source": [
    "aa = int(input(\"Enter first number : \"))\n",
    "bb = int(input(\"Enter 2nd number : \"))\n",
    "cc = aa + bb"
   ]
  },
  {
   "cell_type": "code",
   "execution_count": 33,
   "id": "9ee786ed",
   "metadata": {},
   "outputs": [
    {
     "data": {
      "text/plain": [
       "55"
      ]
     },
     "execution_count": 33,
     "metadata": {},
     "output_type": "execute_result"
    }
   ],
   "source": [
    "cc"
   ]
  },
  {
   "cell_type": "code",
   "execution_count": null,
   "id": "2eaaa44e",
   "metadata": {},
   "outputs": [],
   "source": []
  },
  {
   "cell_type": "markdown",
   "id": "c51a6773",
   "metadata": {},
   "source": [
    "# split Strip and join method \n"
   ]
  },
  {
   "cell_type": "code",
   "execution_count": 34,
   "id": "2e6fa7b7",
   "metadata": {},
   "outputs": [
    {
     "data": {
      "text/plain": [
       "'2 3 1     7     9    0'"
      ]
     },
     "execution_count": 34,
     "metadata": {},
     "output_type": "execute_result"
    }
   ],
   "source": [
    " a =  \"  2 3 1     7     9    0    \"\n",
    "# now I want to remove the space from the a String \n",
    "a.strip()"
   ]
  },
  {
   "cell_type": "code",
   "execution_count": 44,
   "id": "325876c9",
   "metadata": {},
   "outputs": [
    {
     "data": {
      "text/plain": [
       "'2 3 1     7     9    0'"
      ]
     },
     "execution_count": 44,
     "metadata": {},
     "output_type": "execute_result"
    }
   ],
   "source": [
    "a.strip(None)"
   ]
  },
  {
   "cell_type": "code",
   "execution_count": 47,
   "id": "a5bc9f5d",
   "metadata": {},
   "outputs": [
    {
     "data": {
      "text/plain": [
       "['2', '3', '1', '7', '9', '0']"
      ]
     },
     "execution_count": 47,
     "metadata": {},
     "output_type": "execute_result"
    }
   ],
   "source": [
    "li = a.split( )\n",
    "li"
   ]
  },
  {
   "cell_type": "code",
   "execution_count": 41,
   "id": "6e752bfa",
   "metadata": {},
   "outputs": [],
   "source": [
    "a.split?"
   ]
  },
  {
   "cell_type": "code",
   "execution_count": 45,
   "id": "b951c8a5",
   "metadata": {},
   "outputs": [],
   "source": [
    "a.strip?"
   ]
  },
  {
   "cell_type": "code",
   "execution_count": 48,
   "id": "c0c219ff",
   "metadata": {},
   "outputs": [
    {
     "data": {
      "text/plain": [
       "list"
      ]
     },
     "execution_count": 48,
     "metadata": {},
     "output_type": "execute_result"
    }
   ],
   "source": [
    "# the Li is an String type of the list I want to convert into the int er lisst \n",
    "newList = list(map(int,li))\n",
    "newList\n",
    "type(newList)"
   ]
  },
  {
   "cell_type": "code",
   "execution_count": 49,
   "id": "2eea3f5b",
   "metadata": {},
   "outputs": [
    {
     "data": {
      "text/plain": [
       "[2, 3, 1, 7, 9, 0]"
      ]
     },
     "execution_count": 49,
     "metadata": {},
     "output_type": "execute_result"
    }
   ],
   "source": [
    "newList"
   ]
  },
  {
   "cell_type": "code",
   "execution_count": 51,
   "id": "68759223",
   "metadata": {},
   "outputs": [
    {
     "data": {
      "text/plain": [
       "22"
      ]
     },
     "execution_count": 51,
     "metadata": {},
     "output_type": "execute_result"
    }
   ],
   "source": [
    "sum(newList)"
   ]
  },
  {
   "cell_type": "code",
   "execution_count": 52,
   "id": "962c624e",
   "metadata": {},
   "outputs": [],
   "source": [
    "# why do we care "
   ]
  },
  {
   "cell_type": "markdown",
   "id": "9d502072",
   "metadata": {},
   "source": [
    "# i want to make an list of input how do i care it "
   ]
  },
  {
   "cell_type": "code",
   "execution_count": null,
   "id": "5b5d4feb",
   "metadata": {},
   "outputs": [],
   "source": [
    " a\n"
   ]
  },
  {
   "cell_type": "code",
   "execution_count": null,
   "id": "916c969f",
   "metadata": {},
   "outputs": [],
   "source": [
    "2+3"
   ]
  },
  {
   "cell_type": "code",
   "execution_count": null,
   "id": "8fa7df99",
   "metadata": {},
   "outputs": [],
   "source": [
    " "
   ]
  },
  {
   "cell_type": "code",
   "execution_count": null,
   "id": "a897a665",
   "metadata": {},
   "outputs": [],
   "source": [
    "dataList"
   ]
  },
  {
   "cell_type": "code",
   "execution_count": null,
   "id": "32e3ed17",
   "metadata": {},
   "outputs": [],
   "source": []
  }
 ],
 "metadata": {
  "kernelspec": {
   "display_name": "Python 3 (ipykernel)",
   "language": "python",
   "name": "python3"
  },
  "language_info": {
   "codemirror_mode": {
    "name": "ipython",
    "version": 3
   },
   "file_extension": ".py",
   "mimetype": "text/x-python",
   "name": "python",
   "nbconvert_exporter": "python",
   "pygments_lexer": "ipython3",
   "version": "3.9.13"
  }
 },
 "nbformat": 4,
 "nbformat_minor": 5
}
