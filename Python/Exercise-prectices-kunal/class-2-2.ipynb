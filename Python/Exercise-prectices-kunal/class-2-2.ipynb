{
 "cells": [
  {
   "cell_type": "markdown",
   "id": "78541316",
   "metadata": {},
   "source": [
    "#  list or input convert into the int list \n"
   ]
  },
  {
   "cell_type": "code",
   "execution_count": 9,
   "id": "3f855528",
   "metadata": {},
   "outputs": [],
   "source": [
    "li = '1','4','7'\n"
   ]
  },
  {
   "cell_type": "code",
   "execution_count": 10,
   "id": "8dc9df3f",
   "metadata": {},
   "outputs": [
    {
     "data": {
      "text/plain": [
       "('1', '4', '7')"
      ]
     },
     "execution_count": 10,
     "metadata": {},
     "output_type": "execute_result"
    }
   ],
   "source": [
    "li"
   ]
  },
  {
   "cell_type": "code",
   "execution_count": 11,
   "id": "24ac5704",
   "metadata": {},
   "outputs": [],
   "source": [
    "li = list(map(int,li))"
   ]
  },
  {
   "cell_type": "code",
   "execution_count": 12,
   "id": "4991d51d",
   "metadata": {},
   "outputs": [
    {
     "data": {
      "text/plain": [
       "[1, 4, 7]"
      ]
     },
     "execution_count": 12,
     "metadata": {},
     "output_type": "execute_result"
    }
   ],
   "source": [
    "li"
   ]
  },
  {
   "cell_type": "code",
   "execution_count": 13,
   "id": "6cffc0e8",
   "metadata": {},
   "outputs": [
    {
     "data": {
      "text/plain": [
       "12"
      ]
     },
     "execution_count": 13,
     "metadata": {},
     "output_type": "execute_result"
    }
   ],
   "source": [
    "sum(li)"
   ]
  },
  {
   "cell_type": "code",
   "execution_count": 14,
   "id": "2938a9b0",
   "metadata": {},
   "outputs": [
    {
     "data": {
      "text/plain": [
       "7"
      ]
     },
     "execution_count": 14,
     "metadata": {},
     "output_type": "execute_result"
    }
   ],
   "source": [
    "max(li)"
   ]
  },
  {
   "cell_type": "code",
   "execution_count": 15,
   "id": "d9fb76ab",
   "metadata": {},
   "outputs": [
    {
     "data": {
      "text/plain": [
       "1"
      ]
     },
     "execution_count": 15,
     "metadata": {},
     "output_type": "execute_result"
    }
   ],
   "source": [
    "min(li)"
   ]
  },
  {
   "cell_type": "code",
   "execution_count": 18,
   "id": "993ecf9a",
   "metadata": {},
   "outputs": [
    {
     "data": {
      "text/plain": [
       "8"
      ]
     },
     "execution_count": 18,
     "metadata": {},
     "output_type": "execute_result"
    }
   ],
   "source": [
    "min(li)+max(li)"
   ]
  },
  {
   "cell_type": "markdown",
   "id": "a238c35e",
   "metadata": {},
   "source": [
    "# Now I want to make it Set as it is the Map "
   ]
  },
  {
   "cell_type": "code",
   "execution_count": 24,
   "id": "379e9a2c",
   "metadata": {},
   "outputs": [],
   "source": [
    "setA = set(map(int,li))"
   ]
  },
  {
   "cell_type": "code",
   "execution_count": 25,
   "id": "26462850",
   "metadata": {},
   "outputs": [
    {
     "data": {
      "text/plain": [
       "{1, 4, 7}"
      ]
     },
     "execution_count": 25,
     "metadata": {},
     "output_type": "execute_result"
    }
   ],
   "source": [
    "setA"
   ]
  },
  {
   "cell_type": "code",
   "execution_count": 26,
   "id": "a61e8ee6",
   "metadata": {},
   "outputs": [],
   "source": [
    "setA.add(9)"
   ]
  },
  {
   "cell_type": "code",
   "execution_count": 27,
   "id": "fbb08929",
   "metadata": {},
   "outputs": [
    {
     "data": {
      "text/plain": [
       "{1, 4, 7, 9}"
      ]
     },
     "execution_count": 27,
     "metadata": {},
     "output_type": "execute_result"
    }
   ],
   "source": [
    "setA"
   ]
  },
  {
   "cell_type": "code",
   "execution_count": 28,
   "id": "aac4c58b",
   "metadata": {},
   "outputs": [],
   "source": [
    "setA.add(9)"
   ]
  },
  {
   "cell_type": "code",
   "execution_count": 29,
   "id": "5ae3c42c",
   "metadata": {},
   "outputs": [
    {
     "data": {
      "text/plain": [
       "{1, 4, 7, 9}"
      ]
     },
     "execution_count": 29,
     "metadata": {},
     "output_type": "execute_result"
    }
   ],
   "source": [
    "setA"
   ]
  },
  {
   "cell_type": "code",
   "execution_count": null,
   "id": "1467750e",
   "metadata": {},
   "outputs": [],
   "source": []
  },
  {
   "cell_type": "markdown",
   "id": "68a217a7",
   "metadata": {},
   "source": [
    "# I want to take multiple variable together how let see "
   ]
  },
  {
   "cell_type": "code",
   "execution_count": 30,
   "id": "731037f4",
   "metadata": {},
   "outputs": [],
   "source": [
    "num1,num2 = [2,3]"
   ]
  },
  {
   "cell_type": "code",
   "execution_count": 31,
   "id": "4f5ab368",
   "metadata": {},
   "outputs": [
    {
     "data": {
      "text/plain": [
       "2"
      ]
     },
     "execution_count": 31,
     "metadata": {},
     "output_type": "execute_result"
    }
   ],
   "source": [
    "num1"
   ]
  },
  {
   "cell_type": "code",
   "execution_count": 32,
   "id": "134770ca",
   "metadata": {},
   "outputs": [
    {
     "data": {
      "text/plain": [
       "3"
      ]
     },
     "execution_count": 32,
     "metadata": {},
     "output_type": "execute_result"
    }
   ],
   "source": [
    "num2"
   ]
  },
  {
   "cell_type": "code",
   "execution_count": 33,
   "id": "310adb90",
   "metadata": {},
   "outputs": [
    {
     "name": "stdout",
     "output_type": "stream",
     "text": [
      "5 6\n"
     ]
    }
   ],
   "source": [
    "nums = input()"
   ]
  },
  {
   "cell_type": "code",
   "execution_count": 34,
   "id": "f22b63ee",
   "metadata": {},
   "outputs": [],
   "source": [
    "a,b = map(int,nums.split(' '))"
   ]
  },
  {
   "cell_type": "code",
   "execution_count": 35,
   "id": "8d7e1e3b",
   "metadata": {
    "scrolled": true
   },
   "outputs": [
    {
     "data": {
      "text/plain": [
       "5"
      ]
     },
     "execution_count": 35,
     "metadata": {},
     "output_type": "execute_result"
    }
   ],
   "source": [
    "a"
   ]
  },
  {
   "cell_type": "code",
   "execution_count": 36,
   "id": "6139bbe3",
   "metadata": {},
   "outputs": [
    {
     "data": {
      "text/plain": [
       "6"
      ]
     },
     "execution_count": 36,
     "metadata": {},
     "output_type": "execute_result"
    }
   ],
   "source": [
    "b"
   ]
  },
  {
   "cell_type": "code",
   "execution_count": null,
   "id": "3bcc397f",
   "metadata": {},
   "outputs": [],
   "source": []
  },
  {
   "cell_type": "markdown",
   "id": "8b9788d7",
   "metadata": {},
   "source": [
    "# Print Method K moja dekne ho "
   ]
  },
  {
   "cell_type": "code",
   "execution_count": 37,
   "id": "10ff4201",
   "metadata": {},
   "outputs": [
    {
     "name": "stdout",
     "output_type": "stream",
     "text": [
      "32 56\n"
     ]
    }
   ],
   "source": [
    "print(32,56)"
   ]
  },
  {
   "cell_type": "code",
   "execution_count": 38,
   "id": "aa83fc68",
   "metadata": {},
   "outputs": [
    {
     "name": "stdout",
     "output_type": "stream",
     "text": [
      "32^56\n"
     ]
    }
   ],
   "source": [
    "print(32,56,sep='^')"
   ]
  },
  {
   "cell_type": "markdown",
   "id": "48f0cef0",
   "metadata": {},
   "source": [
    "# string formating"
   ]
  },
  {
   "cell_type": "code",
   "execution_count": 40,
   "id": "2a4a563e",
   "metadata": {},
   "outputs": [],
   "source": [
    "a = 3 \n",
    "b = 7"
   ]
  },
  {
   "cell_type": "code",
   "execution_count": 41,
   "id": "09963790",
   "metadata": {},
   "outputs": [
    {
     "name": "stdout",
     "output_type": "stream",
     "text": [
      "the two nums are  3 and 7\n"
     ]
    }
   ],
   "source": [
    "print(\"the two nums are \",a,\"and\",b)"
   ]
  },
  {
   "cell_type": "markdown",
   "id": "0503dad1",
   "metadata": {},
   "source": [
    "### another way "
   ]
  },
  {
   "cell_type": "code",
   "execution_count": 44,
   "id": "ba4c726d",
   "metadata": {},
   "outputs": [
    {
     "name": "stdout",
     "output_type": "stream",
     "text": [
      "the two nums are 3 and 7\n"
     ]
    }
   ],
   "source": [
    "print(\"the two nums are {} and {}\".format(a,b))"
   ]
  },
  {
   "cell_type": "markdown",
   "id": "0334df5c",
   "metadata": {},
   "source": [
    "        ### the best way   ' f  strings '"
   ]
  },
  {
   "cell_type": "code",
   "execution_count": 45,
   "id": "7bd3e17e",
   "metadata": {},
   "outputs": [
    {
     "name": "stdout",
     "output_type": "stream",
     "text": [
      "the two nums are 3 and 7 and last call 100 is = 100\n"
     ]
    }
   ],
   "source": [
    "print(f\"the two nums are {a} and {b} and last call 100 is = {100}\")"
   ]
  },
  {
   "cell_type": "code",
   "execution_count": null,
   "id": "6b010edf",
   "metadata": {},
   "outputs": [],
   "source": []
  }
 ],
 "metadata": {
  "kernelspec": {
   "display_name": "Python 3 (ipykernel)",
   "language": "python",
   "name": "python3"
  },
  "language_info": {
   "codemirror_mode": {
    "name": "ipython",
    "version": 3
   },
   "file_extension": ".py",
   "mimetype": "text/x-python",
   "name": "python",
   "nbconvert_exporter": "python",
   "pygments_lexer": "ipython3",
   "version": "3.9.13"
  }
 },
 "nbformat": 4,
 "nbformat_minor": 5
}
