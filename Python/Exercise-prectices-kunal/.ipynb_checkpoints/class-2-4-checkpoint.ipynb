{
 "cells": [
  {
   "cell_type": "code",
   "execution_count": 2,
   "id": "9fa5624f",
   "metadata": {},
   "outputs": [],
   "source": [
    "class Human:  \n",
    "    population = 0\n",
    "    def __init__(self,name,age):\n",
    "        self.name = name \n",
    "        self.age = age\n",
    "        Human.population += 1\n",
    "    @staticmethod  \n",
    "    def met():\n",
    "        print(Human.population)\n",
    "    def getName(self):\n",
    "        print(self.name)\n",
    "    \n",
    "    @classmethod\n",
    "    def atomBomb(cls):\n",
    "        cls.population=0"
   ]
  },
  {
   "cell_type": "code",
   "execution_count": 3,
   "id": "a6e94662",
   "metadata": {},
   "outputs": [
    {
     "data": {
      "text/plain": [
       "0"
      ]
     },
     "execution_count": 3,
     "metadata": {},
     "output_type": "execute_result"
    }
   ],
   "source": [
    "Human.population"
   ]
  },
  {
   "cell_type": "code",
   "execution_count": 4,
   "id": "ef312eb5",
   "metadata": {},
   "outputs": [],
   "source": [
    "sajjad = Human(\"sajjad\",67)"
   ]
  },
  {
   "cell_type": "code",
   "execution_count": 5,
   "id": "7f20f151",
   "metadata": {},
   "outputs": [],
   "source": [
    "sakib = Human(\"sakib\",75)"
   ]
  },
  {
   "cell_type": "code",
   "execution_count": 6,
   "id": "73fe34b8",
   "metadata": {},
   "outputs": [
    {
     "data": {
      "text/plain": [
       "2"
      ]
     },
     "execution_count": 6,
     "metadata": {},
     "output_type": "execute_result"
    }
   ],
   "source": [
    "Human.population"
   ]
  },
  {
   "cell_type": "code",
   "execution_count": 7,
   "id": "0aaaa748",
   "metadata": {},
   "outputs": [
    {
     "name": "stdout",
     "output_type": "stream",
     "text": [
      "sajjad\n"
     ]
    }
   ],
   "source": [
    "sajjad.getName()"
   ]
  },
  {
   "cell_type": "code",
   "execution_count": 8,
   "id": "3425577a",
   "metadata": {},
   "outputs": [],
   "source": [
    "sajjad.atomBomb()"
   ]
  },
  {
   "cell_type": "code",
   "execution_count": 9,
   "id": "0cebdc4d",
   "metadata": {},
   "outputs": [
    {
     "data": {
      "text/plain": [
       "0"
      ]
     },
     "execution_count": 9,
     "metadata": {},
     "output_type": "execute_result"
    }
   ],
   "source": [
    "Human.population"
   ]
  },
  {
   "cell_type": "code",
   "execution_count": 10,
   "id": "f5850272",
   "metadata": {},
   "outputs": [
    {
     "data": {
      "text/plain": [
       "0"
      ]
     },
     "execution_count": 10,
     "metadata": {},
     "output_type": "execute_result"
    }
   ],
   "source": [
    "sajjad.population"
   ]
  },
  {
   "cell_type": "markdown",
   "id": "69150b30",
   "metadata": {},
   "source": [
    "After call atomBomb make all the values are 0 .\n",
    "The impact of the all object in the class method \n",
    "\n",
    " "
   ]
  },
  {
   "cell_type": "markdown",
   "id": "64953cc5",
   "metadata": {},
   "source": []
  },
  {
   "cell_type": "code",
   "execution_count": 11,
   "id": "9d58d707",
   "metadata": {},
   "outputs": [],
   "source": [
    "class Human:  \n",
    "    population = 0\n",
    "    def __init__(self,name,age):\n",
    "        self.name = name \n",
    "        self.age = age\n",
    "        Human.population += 1\n",
    "    @staticmethod  \n",
    "    def met():\n",
    "        print(Human.population)\n",
    "    def getName(self):\n",
    "        print(self.name)\n",
    "    \n",
    "    @classmethod\n",
    "    def atomBomb(cls):\n",
    "        cls.population=0\n",
    "    @classmethod\n",
    "    def fromString(clas,string,age):\n",
    "        return clas(string,age)"
   ]
  },
  {
   "cell_type": "code",
   "execution_count": 12,
   "id": "4292deab",
   "metadata": {},
   "outputs": [],
   "source": [
    "akil = Human(\"Akil\",89)"
   ]
  },
  {
   "cell_type": "code",
   "execution_count": 13,
   "id": "e056d2b4",
   "metadata": {},
   "outputs": [],
   "source": [
    "apoorv = Human.fromString(\"khadiza\",99)"
   ]
  },
  {
   "cell_type": "code",
   "execution_count": 14,
   "id": "30293fd9",
   "metadata": {},
   "outputs": [
    {
     "data": {
      "text/plain": [
       "2"
      ]
     },
     "execution_count": 14,
     "metadata": {},
     "output_type": "execute_result"
    }
   ],
   "source": [
    "apoorv.population"
   ]
  },
  {
   "cell_type": "code",
   "execution_count": null,
   "id": "062a1ed1",
   "metadata": {},
   "outputs": [],
   "source": []
  },
  {
   "cell_type": "markdown",
   "id": "57340921",
   "metadata": {},
   "source": [
    "# inheritance "
   ]
  },
  {
   "cell_type": "code",
   "execution_count": 15,
   "id": "e8a4453f",
   "metadata": {},
   "outputs": [],
   "source": [
    "class Parent:\n",
    "    f = 80\n",
    "    name = 'sajjad'\n",
    "    def __init__(self,value):\n",
    "        self.value = value"
   ]
  },
  {
   "cell_type": "code",
   "execution_count": 16,
   "id": "2403e092",
   "metadata": {},
   "outputs": [],
   "source": [
    "class Child(Parent):\n",
    "    def __init__(self,value):\n",
    "        super().__init__(value)"
   ]
  },
  {
   "cell_type": "code",
   "execution_count": 17,
   "id": "ccd3bbe8",
   "metadata": {},
   "outputs": [],
   "source": [
    "obj = Child(99)"
   ]
  },
  {
   "cell_type": "code",
   "execution_count": 18,
   "id": "0f8541cd",
   "metadata": {},
   "outputs": [
    {
     "data": {
      "text/plain": [
       "(99, 80, 'sajjad')"
      ]
     },
     "execution_count": 18,
     "metadata": {},
     "output_type": "execute_result"
    }
   ],
   "source": [
    "obj.value , obj.f , obj.name"
   ]
  },
  {
   "cell_type": "code",
   "execution_count": 19,
   "id": "43ffc9ff",
   "metadata": {},
   "outputs": [],
   "source": [
    "obj2 = Parent(98)"
   ]
  },
  {
   "cell_type": "code",
   "execution_count": 20,
   "id": "9f98dc68",
   "metadata": {},
   "outputs": [
    {
     "data": {
      "text/plain": [
       "98"
      ]
     },
     "execution_count": 20,
     "metadata": {},
     "output_type": "execute_result"
    }
   ],
   "source": [
    "obj2.value"
   ]
  },
  {
   "cell_type": "code",
   "execution_count": 21,
   "id": "cfc8e819",
   "metadata": {},
   "outputs": [
    {
     "data": {
      "text/plain": [
       "80"
      ]
     },
     "execution_count": 21,
     "metadata": {},
     "output_type": "execute_result"
    }
   ],
   "source": [
    "obj.f"
   ]
  },
  {
   "cell_type": "code",
   "execution_count": null,
   "id": "1711882b",
   "metadata": {},
   "outputs": [],
   "source": [
    "  "
   ]
  },
  {
   "cell_type": "code",
   "execution_count": 22,
   "id": "2e06bf4f",
   "metadata": {},
   "outputs": [],
   "source": [
    " def area_trapezium(a, b, h):\n",
    "        area = 0.5 * (a + b) * h\n",
    "        print(f\"Area of a Trapezium is {area}\")\n",
    "def main():\n",
    "     area_trapezium(10, 15, 20)\n"
   ]
  },
  {
   "cell_type": "code",
   "execution_count": 23,
   "id": "ec131b4c",
   "metadata": {},
   "outputs": [
    {
     "name": "stdout",
     "output_type": "stream",
     "text": [
      "Area of a Trapezium is 250.0\n"
     ]
    }
   ],
   "source": [
    "if __name__ == \"__main__\": \n",
    "    main()"
   ]
  },
  {
   "cell_type": "code",
   "execution_count": null,
   "id": "92345d99",
   "metadata": {},
   "outputs": [],
   "source": [
    " "
   ]
  },
  {
   "cell_type": "markdown",
   "id": "3c0570a7",
   "metadata": {},
   "source": []
  },
  {
   "cell_type": "code",
   "execution_count": null,
   "id": "47864ae1",
   "metadata": {},
   "outputs": [],
   "source": []
  }
 ],
 "metadata": {
  "kernelspec": {
   "display_name": "Python 3 (ipykernel)",
   "language": "python",
   "name": "python3"
  },
  "language_info": {
   "codemirror_mode": {
    "name": "ipython",
    "version": 3
   },
   "file_extension": ".py",
   "mimetype": "text/x-python",
   "name": "python",
   "nbconvert_exporter": "python",
   "pygments_lexer": "ipython3",
   "version": "3.9.13"
  }
 },
 "nbformat": 4,
 "nbformat_minor": 5
}
