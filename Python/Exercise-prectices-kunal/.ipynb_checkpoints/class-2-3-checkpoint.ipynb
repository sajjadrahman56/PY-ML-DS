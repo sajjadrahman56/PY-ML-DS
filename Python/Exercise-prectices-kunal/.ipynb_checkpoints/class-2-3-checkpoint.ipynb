{
 "cells": [
  {
   "cell_type": "markdown",
   "id": "5cdbee79",
   "metadata": {},
   "source": [
    "# OOP"
   ]
  },
  {
   "cell_type": "markdown",
   "id": "7a8efe8a",
   "metadata": {},
   "source": [
    "Class : Name group of Properties and Functions \n",
    "\n",
    "    class Name :\n",
    "                age\n",
    "                name\n",
    "                getIncome();\n"
   ]
  },
  {
   "cell_type": "markdown",
   "id": "9abf0502",
   "metadata": {},
   "source": [
    " Abstraction : Encapsulation : Polymor : Inheritance \n",
    " \n",
    " Absraction providing Functions() , its hide the things\n",
    " \n",
    " *_*_ Abstraction is design level and perform by functions \n",
    " \n",
    " \n",
    " *Encapsulation : Bundile of data in a single of file /data \n",
    " \n",
    " all data is bundle means \n",
    " *_implementation level \n",
    " ->  <- "
   ]
  },
  {
   "cell_type": "markdown",
   "id": "2e357caa",
   "metadata": {},
   "source": [
    " pythone no overloading here overiding is code "
   ]
  },
  {
   "cell_type": "markdown",
   "id": "e252c1f6",
   "metadata": {},
   "source": [
    " "
   ]
  },
  {
   "cell_type": "code",
   "execution_count": 1,
   "id": "64a2db00",
   "metadata": {},
   "outputs": [],
   "source": [
    "# class\n",
    "class Person:\n",
    "    age = 0\n",
    "    name = 'zummun'"
   ]
  },
  {
   "cell_type": "code",
   "execution_count": 10,
   "id": "01800b51",
   "metadata": {},
   "outputs": [],
   "source": [
    "kunal = Person()\n",
    "# whenever you create an object , a constructor is called \n",
    "#\n",
    "#\n",
    "# here kunal is in the Stack and where Heap is object or reference variable "
   ]
  },
  {
   "cell_type": "code",
   "execution_count": 11,
   "id": "011c4499",
   "metadata": {},
   "outputs": [
    {
     "data": {
      "text/plain": [
       "0"
      ]
     },
     "execution_count": 11,
     "metadata": {},
     "output_type": "execute_result"
    }
   ],
   "source": [
    "kunal.age\n"
   ]
  },
  {
   "cell_type": "code",
   "execution_count": 12,
   "id": "157bc124",
   "metadata": {},
   "outputs": [
    {
     "data": {
      "text/plain": [
       "'zummun'"
      ]
     },
     "execution_count": 12,
     "metadata": {},
     "output_type": "execute_result"
    }
   ],
   "source": [
    "kunal.name"
   ]
  },
  {
   "cell_type": "code",
   "execution_count": 14,
   "id": "0a957643",
   "metadata": {},
   "outputs": [],
   "source": [
    "class A:\n",
    "    pass"
   ]
  },
  {
   "cell_type": "code",
   "execution_count": 15,
   "id": "a5063e7a",
   "metadata": {},
   "outputs": [
    {
     "ename": "SyntaxError",
     "evalue": "invalid syntax (1144441973.py, line 1)",
     "output_type": "error",
     "traceback": [
      "\u001b[1;36m  File \u001b[1;32m\"C:\\Users\\user\\AppData\\Local\\Temp\\ipykernel_8724\\1144441973.py\"\u001b[1;36m, line \u001b[1;32m1\u001b[0m\n\u001b[1;33m    class B extends Person:\u001b[0m\n\u001b[1;37m            ^\u001b[0m\n\u001b[1;31mSyntaxError\u001b[0m\u001b[1;31m:\u001b[0m invalid syntax\n"
     ]
    }
   ],
   "source": [
    " class B extends Person:\n",
    "        pass"
   ]
  },
  {
   "cell_type": "code",
   "execution_count": 16,
   "id": "ab734457",
   "metadata": {},
   "outputs": [],
   "source": [
    "kunal.salary = 300"
   ]
  },
  {
   "cell_type": "code",
   "execution_count": 17,
   "id": "d72fd613",
   "metadata": {},
   "outputs": [
    {
     "data": {
      "text/plain": [
       "300"
      ]
     },
     "execution_count": 17,
     "metadata": {},
     "output_type": "execute_result"
    }
   ],
   "source": [
    "kunal.salary"
   ]
  },
  {
   "cell_type": "code",
   "execution_count": 18,
   "id": "e8a2d15c",
   "metadata": {},
   "outputs": [],
   "source": [
    "sasa = Person()"
   ]
  },
  {
   "cell_type": "code",
   "execution_count": 19,
   "id": "1326bbdc",
   "metadata": {},
   "outputs": [
    {
     "ename": "AttributeError",
     "evalue": "'Person' object has no attribute 'salary'",
     "output_type": "error",
     "traceback": [
      "\u001b[1;31m--------------------------------------------------------------------\u001b[0m",
      "\u001b[1;31mAttributeError\u001b[0m                     Traceback (most recent call last)",
      "\u001b[1;32m~\\AppData\\Local\\Temp\\ipykernel_8724\\2310140751.py\u001b[0m in \u001b[0;36m<module>\u001b[1;34m\u001b[0m\n\u001b[1;32m----> 1\u001b[1;33m \u001b[0msasa\u001b[0m\u001b[1;33m.\u001b[0m\u001b[0msalary\u001b[0m\u001b[1;33m\u001b[0m\u001b[1;33m\u001b[0m\u001b[0m\n\u001b[0m",
      "\u001b[1;31mAttributeError\u001b[0m: 'Person' object has no attribute 'salary'"
     ]
    }
   ],
   "source": [
    "sasa.salary"
   ]
  },
  {
   "cell_type": "code",
   "execution_count": 28,
   "id": "f0c9c7d8",
   "metadata": {},
   "outputs": [],
   "source": [
    "class Test:\n",
    "    def fun():\n",
    "        print('I am a method')"
   ]
  },
  {
   "cell_type": "code",
   "execution_count": 29,
   "id": "d9c35dd1",
   "metadata": {},
   "outputs": [],
   "source": [
    "demoTest = Test()"
   ]
  },
  {
   "cell_type": "code",
   "execution_count": 30,
   "id": "3d7c89b2",
   "metadata": {},
   "outputs": [
    {
     "ename": "TypeError",
     "evalue": "fun() takes 0 positional arguments but 1 was given",
     "output_type": "error",
     "traceback": [
      "\u001b[1;31m--------------------------------------------------------------------\u001b[0m",
      "\u001b[1;31mTypeError\u001b[0m                          Traceback (most recent call last)",
      "\u001b[1;32m~\\AppData\\Local\\Temp\\ipykernel_8724\\1466704925.py\u001b[0m in \u001b[0;36m<module>\u001b[1;34m\u001b[0m\n\u001b[1;32m----> 1\u001b[1;33m \u001b[0mdemoTest\u001b[0m\u001b[1;33m.\u001b[0m\u001b[0mfun\u001b[0m\u001b[1;33m(\u001b[0m\u001b[1;33m)\u001b[0m\u001b[1;33m\u001b[0m\u001b[1;33m\u001b[0m\u001b[0m\n\u001b[0m",
      "\u001b[1;31mTypeError\u001b[0m: fun() takes 0 positional arguments but 1 was given"
     ]
    }
   ],
   "source": [
    "demoTest.fun()"
   ]
  },
  {
   "cell_type": "code",
   "execution_count": 31,
   "id": "50d9b7cb",
   "metadata": {},
   "outputs": [],
   "source": [
    "class Test:\n",
    "    def fun(something):\n",
    "        print('I am a method')"
   ]
  },
  {
   "cell_type": "code",
   "execution_count": 32,
   "id": "f53d5754",
   "metadata": {},
   "outputs": [
    {
     "name": "stdout",
     "output_type": "stream",
     "text": [
      "I am a method\n"
     ]
    }
   ],
   "source": [
    "demoTest1 = Test()\n",
    "demoTest1.fun()"
   ]
  },
  {
   "cell_type": "markdown",
   "id": "7cb1b1ad",
   "metadata": {},
   "source": [
    "Lests watch the difference between abobe the methods "
   ]
  },
  {
   "cell_type": "code",
   "execution_count": null,
   "id": "3ddeea65",
   "metadata": {},
   "outputs": [],
   "source": []
  },
  {
   "cell_type": "code",
   "execution_count": null,
   "id": "a8aa65f7",
   "metadata": {},
   "outputs": [],
   "source": []
  },
  {
   "cell_type": "code",
   "execution_count": 1,
   "id": "8b7991d9",
   "metadata": {},
   "outputs": [],
   "source": [
    "class Human:\n",
    "    age=45\n",
    "    def fun(self):\n",
    "        #print(self)\n",
    "        print(self.age)"
   ]
  },
  {
   "cell_type": "code",
   "execution_count": 2,
   "id": "772e4431",
   "metadata": {},
   "outputs": [],
   "source": [
    "sajjad = Human()"
   ]
  },
  {
   "cell_type": "code",
   "execution_count": 3,
   "id": "d972f2b5",
   "metadata": {},
   "outputs": [],
   "source": [
    "sajjad.age = 99"
   ]
  },
  {
   "cell_type": "code",
   "execution_count": 4,
   "id": "b8eae414",
   "metadata": {},
   "outputs": [
    {
     "name": "stdout",
     "output_type": "stream",
     "text": [
      "99\n"
     ]
    }
   ],
   "source": [
    "sajjad.fun()"
   ]
  },
  {
   "cell_type": "code",
   "execution_count": 5,
   "id": "5041ec87",
   "metadata": {},
   "outputs": [
    {
     "name": "stdout",
     "output_type": "stream",
     "text": [
      "99\n"
     ]
    }
   ],
   "source": [
    "Human.fun(sajjad)"
   ]
  },
  {
   "cell_type": "code",
   "execution_count": 6,
   "id": "75904a28",
   "metadata": {},
   "outputs": [],
   "source": [
    " class Human:\n",
    "        def __init__(self,name,age):\n",
    "            self.age = age\n",
    "            self.name = name"
   ]
  },
  {
   "cell_type": "code",
   "execution_count": null,
   "id": "138d3d15",
   "metadata": {},
   "outputs": [],
   "source": [
    " "
   ]
  },
  {
   "cell_type": "code",
   "execution_count": null,
   "id": "ec494eb9",
   "metadata": {},
   "outputs": [],
   "source": []
  },
  {
   "cell_type": "code",
   "execution_count": null,
   "id": "93f8c293",
   "metadata": {},
   "outputs": [],
   "source": []
  },
  {
   "cell_type": "code",
   "execution_count": null,
   "id": "c1a83e0e",
   "metadata": {},
   "outputs": [],
   "source": []
  },
  {
   "cell_type": "code",
   "execution_count": null,
   "id": "032e9f13",
   "metadata": {},
   "outputs": [],
   "source": []
  },
  {
   "cell_type": "code",
   "execution_count": null,
   "id": "a775ccef",
   "metadata": {},
   "outputs": [],
   "source": []
  },
  {
   "cell_type": "markdown",
   "id": "0bf29ec0",
   "metadata": {},
   "source": [
    "# For Loop"
   ]
  },
  {
   "cell_type": "code",
   "execution_count": 49,
   "id": "93175a62",
   "metadata": {},
   "outputs": [
    {
     "name": "stdout",
     "output_type": "stream",
     "text": [
      "cats\n",
      "dogs\n",
      "rabbits\n",
      "hamsters\n"
     ]
    }
   ],
   "source": [
    "pets = ['cats', 'dogs', 'rabbits', 'hamsters']\n",
    "\n",
    "for myPets in pets:\n",
    "    print (myPets)"
   ]
  },
  {
   "cell_type": "code",
   "execution_count": null,
   "id": "b43ca1f1",
   "metadata": {},
   "outputs": [],
   "source": []
  },
  {
   "cell_type": "code",
   "execution_count": 51,
   "id": "49ad4c93",
   "metadata": {},
   "outputs": [
    {
     "name": "stdout",
     "output_type": "stream",
     "text": [
      "0 cats\n",
      "1 dogs\n",
      "2 rabbits\n",
      "3 hamsters\n"
     ]
    }
   ],
   "source": [
    "for index, myPets in enumerate(pets):\n",
    "    print (index, myPets)"
   ]
  },
  {
   "cell_type": "code",
   "execution_count": 54,
   "id": "81dd938b",
   "metadata": {},
   "outputs": [
    {
     "name": "stdout",
     "output_type": "stream",
     "text": [
      "  0   2\n",
      "  1   3\n",
      "  2   4\n",
      "  3   5\n",
      "  4   6\n",
      "  5   7\n",
      "  6   8\n",
      "  7   9\n",
      "  8   10\n"
     ]
    }
   ],
   "source": [
    "for i in range(9):\n",
    "    print(' ',i,' ',i+2)"
   ]
  },
  {
   "cell_type": "code",
   "execution_count": 55,
   "id": "15dcd18c",
   "metadata": {},
   "outputs": [],
   "source": [
    "range?"
   ]
  },
  {
   "cell_type": "code",
   "execution_count": 69,
   "id": "c474057d",
   "metadata": {},
   "outputs": [
    {
     "name": "stdout",
     "output_type": "stream",
     "text": [
      "i =  0  j =  2\n",
      "i am over by 6\n",
      "i =  1  j =  4\n",
      "i am over by 6\n",
      "i =  2  j =  6\n",
      "i =  3  j =  8\n",
      "i am over by 6\n",
      "i =  4  j =  10\n",
      "i am over by 6\n"
     ]
    }
   ],
   "source": [
    " j = 0\n",
    "for i in range(5):\n",
    "    j = j + 2\n",
    "    print ('i = ', i, ' j = ', j)\n",
    "    if j == 6:\n",
    "        continue\n",
    "    print('i am over by 6')"
   ]
  },
  {
   "cell_type": "code",
   "execution_count": null,
   "id": "c27f2928",
   "metadata": {},
   "outputs": [],
   "source": []
  }
 ],
 "metadata": {
  "kernelspec": {
   "display_name": "Python 3 (ipykernel)",
   "language": "python",
   "name": "python3"
  },
  "language_info": {
   "codemirror_mode": {
    "name": "ipython",
    "version": 3
   },
   "file_extension": ".py",
   "mimetype": "text/x-python",
   "name": "python",
   "nbconvert_exporter": "python",
   "pygments_lexer": "ipython3",
   "version": "3.9.13"
  }
 },
 "nbformat": 4,
 "nbformat_minor": 5
}
