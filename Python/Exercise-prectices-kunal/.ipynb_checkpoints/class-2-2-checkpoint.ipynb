{
 "cells": [
  {
   "cell_type": "markdown",
   "id": "49e75c5a",
   "metadata": {},
   "source": [
    "#  list or input convert into the int list \n"
   ]
  },
  {
   "cell_type": "code",
   "execution_count": 9,
   "id": "eb74d0bf",
   "metadata": {},
   "outputs": [],
   "source": [
    "li = '1','4','7'\n"
   ]
  },
  {
   "cell_type": "code",
   "execution_count": 10,
   "id": "aa3650ec",
   "metadata": {},
   "outputs": [
    {
     "data": {
      "text/plain": [
       "('1', '4', '7')"
      ]
     },
     "execution_count": 10,
     "metadata": {},
     "output_type": "execute_result"
    }
   ],
   "source": [
    "li"
   ]
  },
  {
   "cell_type": "code",
   "execution_count": 11,
   "id": "be1d53d8",
   "metadata": {},
   "outputs": [],
   "source": [
    "li = list(map(int,li))"
   ]
  },
  {
   "cell_type": "code",
   "execution_count": 12,
   "id": "b2ff7fee",
   "metadata": {},
   "outputs": [
    {
     "data": {
      "text/plain": [
       "[1, 4, 7]"
      ]
     },
     "execution_count": 12,
     "metadata": {},
     "output_type": "execute_result"
    }
   ],
   "source": [
    "li"
   ]
  },
  {
   "cell_type": "code",
   "execution_count": 13,
   "id": "15842e5b",
   "metadata": {},
   "outputs": [
    {
     "data": {
      "text/plain": [
       "12"
      ]
     },
     "execution_count": 13,
     "metadata": {},
     "output_type": "execute_result"
    }
   ],
   "source": [
    "sum(li)"
   ]
  },
  {
   "cell_type": "code",
   "execution_count": 14,
   "id": "260a1493",
   "metadata": {},
   "outputs": [
    {
     "data": {
      "text/plain": [
       "7"
      ]
     },
     "execution_count": 14,
     "metadata": {},
     "output_type": "execute_result"
    }
   ],
   "source": [
    "max(li)"
   ]
  },
  {
   "cell_type": "code",
   "execution_count": 15,
   "id": "55ef8117",
   "metadata": {},
   "outputs": [
    {
     "data": {
      "text/plain": [
       "1"
      ]
     },
     "execution_count": 15,
     "metadata": {},
     "output_type": "execute_result"
    }
   ],
   "source": [
    "min(li)"
   ]
  },
  {
   "cell_type": "code",
   "execution_count": 18,
   "id": "19130be7",
   "metadata": {},
   "outputs": [
    {
     "data": {
      "text/plain": [
       "8"
      ]
     },
     "execution_count": 18,
     "metadata": {},
     "output_type": "execute_result"
    }
   ],
   "source": [
    "min(li)+max(li)"
   ]
  },
  {
   "cell_type": "markdown",
   "id": "78d8c94f",
   "metadata": {},
   "source": [
    "# Now I want to make it Set as it is the Map "
   ]
  },
  {
   "cell_type": "code",
   "execution_count": 24,
   "id": "62785d2a",
   "metadata": {},
   "outputs": [],
   "source": [
    "setA = set(map(int,li))"
   ]
  },
  {
   "cell_type": "code",
   "execution_count": 25,
   "id": "cc4de93b",
   "metadata": {},
   "outputs": [
    {
     "data": {
      "text/plain": [
       "{1, 4, 7}"
      ]
     },
     "execution_count": 25,
     "metadata": {},
     "output_type": "execute_result"
    }
   ],
   "source": [
    "setA"
   ]
  },
  {
   "cell_type": "code",
   "execution_count": 26,
   "id": "545221ff",
   "metadata": {},
   "outputs": [],
   "source": [
    "setA.add(9)"
   ]
  },
  {
   "cell_type": "code",
   "execution_count": 27,
   "id": "50251208",
   "metadata": {},
   "outputs": [
    {
     "data": {
      "text/plain": [
       "{1, 4, 7, 9}"
      ]
     },
     "execution_count": 27,
     "metadata": {},
     "output_type": "execute_result"
    }
   ],
   "source": [
    "setA"
   ]
  },
  {
   "cell_type": "code",
   "execution_count": 28,
   "id": "5b081551",
   "metadata": {},
   "outputs": [],
   "source": [
    "setA.add(9)"
   ]
  },
  {
   "cell_type": "code",
   "execution_count": 29,
   "id": "63a95883",
   "metadata": {},
   "outputs": [
    {
     "data": {
      "text/plain": [
       "{1, 4, 7, 9}"
      ]
     },
     "execution_count": 29,
     "metadata": {},
     "output_type": "execute_result"
    }
   ],
   "source": [
    "setA"
   ]
  },
  {
   "cell_type": "code",
   "execution_count": null,
   "id": "5222f377",
   "metadata": {},
   "outputs": [],
   "source": []
  },
  {
   "cell_type": "markdown",
   "id": "1bc24e69",
   "metadata": {},
   "source": [
    "# I want to take multiple variable together how let see "
   ]
  },
  {
   "cell_type": "code",
   "execution_count": 30,
   "id": "894b1d8b",
   "metadata": {},
   "outputs": [],
   "source": [
    "num1,num2 = [2,3]"
   ]
  },
  {
   "cell_type": "code",
   "execution_count": 31,
   "id": "59a60173",
   "metadata": {},
   "outputs": [
    {
     "data": {
      "text/plain": [
       "2"
      ]
     },
     "execution_count": 31,
     "metadata": {},
     "output_type": "execute_result"
    }
   ],
   "source": [
    "num1"
   ]
  },
  {
   "cell_type": "code",
   "execution_count": 32,
   "id": "c3a033c9",
   "metadata": {},
   "outputs": [
    {
     "data": {
      "text/plain": [
       "3"
      ]
     },
     "execution_count": 32,
     "metadata": {},
     "output_type": "execute_result"
    }
   ],
   "source": [
    "num2"
   ]
  },
  {
   "cell_type": "code",
   "execution_count": 33,
   "id": "1899100b",
   "metadata": {},
   "outputs": [
    {
     "name": "stdout",
     "output_type": "stream",
     "text": [
      "5 6\n"
     ]
    }
   ],
   "source": [
    "nums = input()"
   ]
  },
  {
   "cell_type": "code",
   "execution_count": 34,
   "id": "3d420b74",
   "metadata": {},
   "outputs": [],
   "source": [
    "a,b = map(int,nums.split(' '))"
   ]
  },
  {
   "cell_type": "code",
   "execution_count": 35,
   "id": "2e334b08",
   "metadata": {
    "scrolled": true
   },
   "outputs": [
    {
     "data": {
      "text/plain": [
       "5"
      ]
     },
     "execution_count": 35,
     "metadata": {},
     "output_type": "execute_result"
    }
   ],
   "source": [
    "a"
   ]
  },
  {
   "cell_type": "code",
   "execution_count": 36,
   "id": "4c370fb4",
   "metadata": {},
   "outputs": [
    {
     "data": {
      "text/plain": [
       "6"
      ]
     },
     "execution_count": 36,
     "metadata": {},
     "output_type": "execute_result"
    }
   ],
   "source": [
    "b"
   ]
  },
  {
   "cell_type": "code",
   "execution_count": null,
   "id": "4e8f45d7",
   "metadata": {},
   "outputs": [],
   "source": []
  }
 ],
 "metadata": {
  "kernelspec": {
   "display_name": "Python 3 (ipykernel)",
   "language": "python",
   "name": "python3"
  },
  "language_info": {
   "codemirror_mode": {
    "name": "ipython",
    "version": 3
   },
   "file_extension": ".py",
   "mimetype": "text/x-python",
   "name": "python",
   "nbconvert_exporter": "python",
   "pygments_lexer": "ipython3",
   "version": "3.9.13"
  }
 },
 "nbformat": 4,
 "nbformat_minor": 5
}
