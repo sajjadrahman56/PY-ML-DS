{
 "cells": [
  {
   "cell_type": "code",
   "execution_count": 1,
   "id": "e1fa4240-d6c0-4d69-a717-afb107503abc",
   "metadata": {},
   "outputs": [],
   "source": [
    "import os \n"
   ]
  },
  {
   "cell_type": "code",
   "execution_count": 2,
   "id": "fc7bfcf1-ec8e-449a-82ca-7efbb8acee7c",
   "metadata": {},
   "outputs": [
    {
     "data": {
      "text/plain": [
       "'E:\\\\anaconda\\\\lib\\\\os.py'"
      ]
     },
     "execution_count": 2,
     "metadata": {},
     "output_type": "execute_result"
    }
   ],
   "source": [
    "os.__file__\n"
   ]
  },
  {
   "cell_type": "code",
   "execution_count": 4,
   "id": "513a5c51-d43d-4199-9e32-e8ad8b2b524c",
   "metadata": {},
   "outputs": [
    {
     "data": {
      "text/plain": [
       "['.ipynb_checkpoints',\n",
       " 'class-2-01.md',\n",
       " 'class-2-02.ipynb',\n",
       " 'class-2-02.md',\n",
       " 'class-2-03.md',\n",
       " 'class-2-2.ipynb',\n",
       " 'class-2-3.ipynb',\n",
       " 'class-2-4.ipynb',\n",
       " 'Untitled.ipynb',\n",
       " 'Untitled1.ipynb']"
      ]
     },
     "execution_count": 4,
     "metadata": {},
     "output_type": "execute_result"
    }
   ],
   "source": [
    "os.listdir()"
   ]
  },
  {
   "cell_type": "code",
   "execution_count": 5,
   "id": "320187f2-b48a-4716-8f95-a030e67ef330",
   "metadata": {},
   "outputs": [
    {
     "data": {
      "text/plain": [
       "'E:\\\\a python kunal\\\\Exercise-prectices-kunal'"
      ]
     },
     "execution_count": 5,
     "metadata": {},
     "output_type": "execute_result"
    }
   ],
   "source": [
    "os.getcwd()"
   ]
  },
  {
   "cell_type": "code",
   "execution_count": 6,
   "id": "a955f9e6-ac38-48a1-8216-85e7013f81d1",
   "metadata": {},
   "outputs": [],
   "source": [
    "os.mkdir(\"demo\")"
   ]
  },
  {
   "cell_type": "code",
   "execution_count": null,
   "id": "699c5156-f5ae-477a-a9c8-cba053430928",
   "metadata": {},
   "outputs": [],
   "source": []
  },
  {
   "cell_type": "markdown",
   "id": "8e934637-6b73-4f8b-aeee-5bacf6fec856",
   "metadata": {},
   "source": [
    "  File Handelling "
   ]
  },
  {
   "cell_type": "code",
   "execution_count": 4,
   "id": "5a37b9af-6cc2-4f41-a23e-281b476f9f8c",
   "metadata": {},
   "outputs": [
    {
     "name": "stdout",
     "output_type": "stream",
     "text": [
      "My name is Sajjad Rahman \n"
     ]
    }
   ],
   "source": [
    "with open(\"saj.txt\",\"r\") as file:\n",
    "    print(file.read())"
   ]
  },
  {
   "cell_type": "code",
   "execution_count": 8,
   "id": "642fb9d3-cdc9-4f5c-af78-0178565fa254",
   "metadata": {},
   "outputs": [],
   "source": [
    "import requests"
   ]
  },
  {
   "cell_type": "code",
   "execution_count": 9,
   "id": "640e67b5-4b2d-4b1d-ba01-3d248adb12ee",
   "metadata": {},
   "outputs": [],
   "source": [
    "r = requests.get('http://www.google.com')"
   ]
  },
  {
   "cell_type": "code",
   "execution_count": 10,
   "id": "6805affa-af0c-4cee-985f-8250cbe32bb4",
   "metadata": {},
   "outputs": [
    {
     "data": {
      "text/plain": [
       "b'<!doctype html><html itemscope=\"\" itemtype=\"http://schema.org/WebPage\" lang=\"bn\"><head><meta content=\"text/html; charset=UTF-8\" http-equiv=\"Content-Type\"><meta content=\"/images/branding/googleg/1x/googleg_standard_color_128dp.png\" itemprop=\"image\"><title>Google</title><script nonce=\"NknSPinGEmpQAre_R6noog\">(function(){window.google={kEI:\\'FrI7ZNaIL6TY1sQPzeC4iAg\\',kEXPI:\\'0,1359409,6058,207,2415,2389,2316,383,246,5,1129120,1197749,652,380090,16114,19398,9286,22430,1362,12318,2816,14765,4998,13228,3847,38444,2872,2891,8348,3406,606,29842,826,30022,15756,3,576,20583,4,1528,2304,42125,11444,2216,4437,16786,5803,2554,4094,7596,1,39047,2,3105,2,39761,5679,1021,31121,4568,6253,23424,1249,5838,12141,2827,4332,5017,2467,445,2,2,1,24626,2006,8155,7381,15969,874,19633,7,1922,9779,21391,14763,6305,20199,6049,14087,14,82,20206,1622,1779,4976,8048,10940,252,299,3836,988,3030,427,847,4354,483,9705,1804,8229,1152,1091,493,1360,1031,422,9059,3571,5938,335,416,2171,3608,5179,44,2983,1252,383,1607,6341,1760,2711,1439,739,389,2469,5,671,3706,406,87,1191,99,1077,35,628,1336,3,956,408,804,884,88,3348,563,1308,602,279,477,18,409,1307,703,686,1051,380,535,123,685,256,123,2,215,512,773,442,746,514,288,140,841,825,254,161,450,605,1289,3,40,48,79,39,533,5,70,936,323,8,264,42,9,39,2,8,168,303,39,487,986,434,737,38,2,10,70,468,117,138,930,677,5206963,2,66,4,135,5994285,1206,2803217,3311,141,795,19735,1,1,346,4815,18,8,1,5,24,50,4,62,170,3,20725353,2920858,299114,4042142,1964,1008,15665,2893,6250,12561,3178,1326,385,480,287,1412579,146986,23612621,253,5,300,2628,530,13,80,2\\',kBL:\\'9TbH\\',kOPI:89978449};google.sn=\\'webhp\\';google.kHL=\\'bn\\';})();(function(){\\nvar e=this||self;var g,h=[];function k(a){for(var c;a&&(!a.getAttribute||!(c=a.getAttribute(\"eid\")));)a=a.parentNode;return c||g}function l(a){for(var c=null;a&&(!a.getAttribute||!(c=a.getAttribute(\"leid\")));)a=a.parentNode;return c}function m(a){/^http:/i.test(a)&&\"https:\"===window.location.protocol&&(google.ml&&google.ml(Error(\"a\"),!1,{src:a,glmm:1}),a=\"\");return a}\\nfunction p(a,c,b,f){var d=\"\";-1===c.search(\"&ei=\")&&(d=\"&ei=\"+k(b),-1===c.search(\"&lei=\")&&(b=l(b))&&(d+=\"&lei=\"+b));b=\"\";e._cshid&&-1===c.search(\"&cshid=\")&&\"slh\"!==a&&(b=\"&cshid=\"+e._cshid);return\"/\"+(f||\"gen_204\")+\"?atyp=i&ct=\"+String(a)+\"&cad=\"+(c+d)+\"&zx=\"+String(Date.now())+b};g=google.kEI;google.getEI=k;google.getLEI=l;google.ml=function(){return null};google.log=function(a,c,b,f,d){b||(b=p(a,c,f,d));if(b=m(b)){a=new Image;var n=h.length;h[n]=a;a.onerror=a.onload=a.onabort=function(){delete h[n]};a.src=b}};google.logUrl=function(a){return p(\"\",a)};}).call(this);(function(){google.y={};google.sy=[];google.x=function(a,b){if(a)var c=a.id;else{do c=Math.random();while(google.y[c])}google.y[c]=[a,b];return!1};google.sx=function(a){google.sy.push(a)};google.lm=[];google.plm=function(a){google.lm.push.apply(google.lm,a)};google.lq=[];google.load=function(a,b,c){google.lq.push([[a],b,c])};google.loadAll=function(a,b){google.lq.push([a,b])};google.bx=!1;google.lx=function(){};}).call(this);google.f={};(function(){\\ndocument.documentElement.addEventListener(\"submit\",function(b){var a;if(a=b.target){var c=a.getAttribute(\"data-submitfalse\");a=\"1\"===c||\"q\"===c&&!a.elements.q.value?!0:!1}else a=!1;a&&(b.preventDefault(),b.stopPropagation())},!0);document.documentElement.addEventListener(\"click\",function(b){var a;a:{for(a=b.target;a&&a!==document.documentElement;a=a.parentElement)if(\"A\"===a.tagName){a=\"1\"===a.getAttribute(\"data-nohref\");break a}a=!1}a&&b.preventDefault()},!0);}).call(this);</script><style>#gbar,#guser{font-size:13px;padding-top:1px !important;}#gbar{height:22px}#guser{padding-bottom:7px !important;text-align:right}.gbh,.gbd{border-top:1px solid #c9d7f1;font-size:1px}.gbh{height:0;position:absolute;top:24px;width:100%}@media all{.gb1{height:22px;margin-right:.5em;vertical-align:top}#gbar{float:left}}a.gb1,a.gb4{text-decoration:underline !important}a.gb1,a.gb4{color:#00c !important}.gbi .gb4{color:#dd8e27 !important}.gbf .gb4{color:#900 !important}\\n</style><style>body,td,a,p,.h{font-family:arial,sans-serif}body{margin:0;overflow-y:scroll}#gog{padding:3px 8px 0}td{line-height:.8em}.gac_m td{line-height:17px}form{margin-bottom:20px}.h{color:#1558d6}em{font-weight:bold;font-style:normal}.lst{height:25px;width:496px}.gsfi,.lst{font:18px arial,sans-serif}.gsfs{font:17px arial,sans-serif}.ds{display:inline-box;display:inline-block;margin:3px 0 4px;margin-left:4px}input{font-family:inherit}body{background:#fff;color:#000}a{color:#4b11a8;text-decoration:none}a:hover,a:active{text-decoration:underline}.fl a{color:#1558d6}a:visited{color:#4b11a8}.sblc{padding-top:5px}.sblc a{display:block;margin:2px 0;margin-left:13px;font-size:11px}.lsbb{background:#f8f9fa;border:solid 1px;border-color:#dadce0 #70757a #70757a #dadce0;height:30px}.lsbb{display:block}#WqQANb a{display:inline-block;margin:0 12px}.lsb{background:url(/images/nav_logo229.png) 0 -261px repeat-x;border:none;color:#000;cursor:pointer;height:30px;margin:0;outline:0;font:15px arial,sans-serif;vertical-align:top}.lsb:active{background:#dadce0}.lst:focus{outline:none}.Ucigb{width:458px}</style><script nonce=\"NknSPinGEmpQAre_R6noog\">(function(){window.google.erd={jsr:1,bv:1778,de:true};\\nvar h=this||self;var k,l=null!=(k=h.mei)?k:1,n,p=null!=(n=h.sdo)?n:!0,q=0,r,t=google.erd,v=t.jsr;google.ml=function(a,b,d,m,e){e=void 0===e?2:e;b&&(r=a&&a.message);if(google.dl)return google.dl(a,e,d),null;if(0>v){window.console&&console.error(a,d);if(-2===v)throw a;b=!1}else b=!a||!a.message||\"Error loading script\"===a.message||q>=l&&!m?!1:!0;if(!b)return null;q++;d=d||{};b=encodeURIComponent;var c=\"/gen_204?atyp=i&ei=\"+b(google.kEI);google.kEXPI&&(c+=\"&jexpid=\"+b(google.kEXPI));c+=\"&srcpg=\"+b(google.sn)+\"&jsr=\"+b(t.jsr)+\"&bver=\"+b(t.bv);var f=a.lineNumber;void 0!==f&&(c+=\"&line=\"+f);var g=\\na.fileName;g&&(0<g.indexOf(\"-extension:/\")&&(e=3),c+=\"&script=\"+b(g),f&&g===window.location.href&&(f=document.documentElement.outerHTML.split(\"\\\\n\")[f],c+=\"&cad=\"+b(f?f.substring(0,300):\"No script found.\")));c+=\"&jsel=\"+e;for(var u in d)c+=\"&\",c+=b(u),c+=\"=\",c+=b(d[u]);c=c+\"&emsg=\"+b(a.name+\": \"+a.message);c=c+\"&jsst=\"+b(a.stack||\"N/A\");12288<=c.length&&(c=c.substr(0,12288));a=c;m||google.log(0,\"\",a);return a};window.onerror=function(a,b,d,m,e){r!==a&&(a=e instanceof Error?e:Error(a),void 0===d||\"lineNumber\"in a||(a.lineNumber=d),void 0===b||\"fileName\"in a||(a.fileName=b),google.ml(a,!1,void 0,!1,\"SyntaxError\"===a.name||\"SyntaxError\"===a.message.substring(0,11)||-1!==a.message.indexOf(\"Script error\")?3:0));r=null;p&&q>=l&&(window.onerror=null)};})();</script></head><body bgcolor=\"#fff\"><script nonce=\"NknSPinGEmpQAre_R6noog\">(function(){var src=\\'/images/nav_logo229.png\\';var iesg=false;document.body.onload = function(){window.n && window.n();if (document.images){new Image().src=src;}\\nif (!iesg){document.f&&document.f.q.focus();document.gbqf&&document.gbqf.q.focus();}\\n}\\n})();</script><div id=\"mngb\"><div id=gbar><nobr><b class=gb1>Search</b> <a class=gb1 href=\"http://www.google.com.bd/imghp?hl=bn&tab=wi\">Images</a> <a class=gb1 href=\"http://maps.google.com.bd/maps?hl=bn&tab=wl\">Maps</a> <a class=gb1 href=\"https://play.google.com/?hl=bn&tab=w8\">Play</a> <a class=gb1 href=\"https://news.google.com/?tab=wn\">News</a> <a class=gb1 href=\"https://mail.google.com/mail/?tab=wm\">Gmail</a> <a class=gb1 href=\"https://drive.google.com/?tab=wo\">Drive</a> <a class=gb1 href=\"https://calendar.google.com/calendar?tab=wc\">Calendar</a> <a class=gb1 style=\"text-decoration:none\" href=\"https://www.google.com.bd/intl/bn/about/products?tab=wh\"><u>&#2438;&#2480;&#2451;</u> &raquo;</a></nobr></div><div id=guser width=100%><nobr><span id=gbn class=gbi></span><span id=gbf class=gbf></span><span id=gbe></span><a href=\"http://www.google.com.bd/history/optout?hl=bn\" class=gb4>&#2488;&#2494;&#2480;&#2509;&#2458;&#2503;&#2480; &#2439;&#2468;&#2495;&#2489;&#2494;&#2488;</a> | <a  href=\"/preferences?hl=bn\" class=gb4>&#2488;&#2503;&#2463;&#2495;&#2434;&#2488;</a> | <a target=_top id=gb_70 href=\"https://accounts.google.com/ServiceLogin?hl=bn&passive=true&continue=http://www.google.com/&ec=GAZAAQ\" class=gb4>&#2488;&#2494;&#2439;&#2472;-&#2439;&#2472; &#2453;&#2480;&#2497;&#2472;</a></nobr></div><div class=gbh style=left:0></div><div class=gbh style=right:0></div></div><center><br clear=\"all\" id=\"lgpd\"><div id=\"lga\"><img alt=\"Google\" height=\"92\" src=\"/images/branding/googlelogo/1x/googlelogo_white_background_color_272x92dp.png\" style=\"padding:28px 0 14px\" width=\"272\" id=\"hplogo\"><br><br></div><form action=\"/search\" name=\"f\"><table cellpadding=\"0\" cellspacing=\"0\"><tr valign=\"top\"><td width=\"25%\">&nbsp;</td><td align=\"center\" nowrap=\"\"><input name=\"ie\" value=\"ISO-8859-1\" type=\"hidden\"><input value=\"bn\" name=\"hl\" type=\"hidden\"><input name=\"source\" type=\"hidden\" value=\"hp\"><input name=\"biw\" type=\"hidden\"><input name=\"bih\" type=\"hidden\"><div class=\"ds\" style=\"height:32px;margin:4px 0\"><div style=\"position:relative;zoom:1\"><input class=\"lst Ucigb\" style=\"margin:0;padding:5px 8px 0 6px;vertical-align:top;color:#000;padding-right:38px\" autocomplete=\"off\" value=\"\" title=\"Google Search\" maxlength=\"2048\" name=\"q\" size=\"57\"><img src=\"/textinputassistant/tia.png\" style=\"position:absolute;cursor:pointer;right:5px;top:4px;z-index:300\" data-script-url=\"/textinputassistant/11/bn_tia.js\" id=\"tsuid_1\" alt=\"\" height=\"23\" width=\"27\"><script nonce=\"NknSPinGEmpQAre_R6noog\">(function(){var id=\\'tsuid_1\\';document.getElementById(id).onclick = function(){var s = document.createElement(\\'script\\');s.src = this.getAttribute(\\'data-script-url\\');(document.getElementById(\\'xjsc\\')||document.body).appendChild(s);};})();</script></div></div><br style=\"line-height:0\"><span class=\"ds\"><span class=\"lsbb\"><input class=\"lsb\" value=\"Google Search\" name=\"btnG\" type=\"submit\"></span></span><span class=\"ds\"><span class=\"lsbb\"><input class=\"lsb\" id=\"tsuid_2\" value=\"&#2477;&#2494;&#2455;&#2509;&#2479;&#2476;&#2494;&#2472; &#2437;&#2472;&#2497;&#2477;&#2476; &#2453;&#2480;&#2459;&#2495;\" name=\"btnI\" type=\"submit\"><script nonce=\"NknSPinGEmpQAre_R6noog\">(function(){var id=\\'tsuid_2\\';document.getElementById(id).onclick = function(){if (this.form.q.value){this.checked = 1;if (this.form.iflsig)this.form.iflsig.disabled = false;}\\nelse top.location=\\'/doodles/\\';};})();</script><input value=\"AOEireoAAAAAZDvAJuHjo7or2-KzQcBvWRg5BWN36tbP\" name=\"iflsig\" type=\"hidden\"></span></span></td><td class=\"fl sblc\" align=\"left\" nowrap=\"\" width=\"25%\"><a href=\"/advanced_search?hl=bn&amp;authuser=0\">&#2441;&#2472;&#2509;&#2472;&#2468; &#2488;&#2494;&#2480;&#2509;&#2458;</a></td></tr></table><input id=\"gbv\" name=\"gbv\" type=\"hidden\" value=\"1\"><script nonce=\"NknSPinGEmpQAre_R6noog\">(function(){var a,b=\"1\";if(document&&document.getElementById)if(\"undefined\"!=typeof XMLHttpRequest)b=\"2\";else if(\"undefined\"!=typeof ActiveXObject){var c,d,e=[\"MSXML2.XMLHTTP.6.0\",\"MSXML2.XMLHTTP.3.0\",\"MSXML2.XMLHTTP\",\"Microsoft.XMLHTTP\"];for(c=0;d=e[c++];)try{new ActiveXObject(d),b=\"2\"}catch(h){}}a=b;if(\"2\"==a&&-1==location.search.indexOf(\"&gbv=2\")){var f=google.gbvu,g=document.getElementById(\"gbv\");g&&(g.value=a);f&&window.setTimeout(function(){location.href=f},0)};}).call(this);</script></form><div id=\"gac_scont\"></div><div style=\"font-size:83%;min-height:3.5em\"><br><div id=\"gws-output-pages-elements-homepage_additional_languages__als\"><style>#gws-output-pages-elements-homepage_additional_languages__als{font-size:small;margin-bottom:24px}#SIvCob{color:#3c4043;display:inline-block;line-height:28px;}#SIvCob a{padding:0 3px;}.H6sW5{display:inline-block;margin:0 2px;white-space:nowrap}.z4hgWe{display:inline-block;margin:0 2px}</style><div id=\"SIvCob\">Google &#2447;&#2439; &#2477;&#2494;&#2487;&#2494;&#2527; &#2441;&#2474;&#2482;&#2476;&#2509;&#2471;:  <a href=\"http://www.google.com/setprefs?sig=0_FoKG5eAAv6B8hTCfradaBQUP59U%3D&amp;hl=en&amp;source=homepage&amp;sa=X&amp;ved=0ahUKEwjW66-R_q3-AhUkrJUCHU0wDoEQ2ZgBCAU\">English</a>  </div></div></div><span id=\"footer\"><div style=\"font-size:10pt\"><div style=\"margin:19px auto;text-align:center\" id=\"WqQANb\"><a href=\"/intl/bn/ads/\">&#2476;&#2495;&#2460;&#2509;&#2462;&#2494;&#2474;&#2472;</a><a href=\"/intl/bn/about.html\">Google &#2488;&#2480;&#2509;&#2478;&#2509;&#2474;&#2453;&#2503; &#2488;&#2476;&#2453;&#2495;&#2459;&#2497;</a><a href=\"http://www.google.com/setprefs?sig=0_FoKG5eAAv6B8hTCfradaBQUP59U%3D&amp;hl=en\" id=\"fehl\">Google.com in English</a></div></div><p style=\"font-size:8pt;color:#70757a\">&copy; 2023</p></span></center><script nonce=\"NknSPinGEmpQAre_R6noog\">(function(){window.google.cdo={height:757,width:1440};(function(){var a=window.innerWidth,b=window.innerHeight;if(!a||!b){var c=window.document,d=\"CSS1Compat\"==c.compatMode?c.documentElement:c.body;a=d.clientWidth;b=d.clientHeight}a&&b&&(a!=google.cdo.width||b!=google.cdo.height)&&google.log(\"\",\"\",\"/client_204?&atyp=i&biw=\"+a+\"&bih=\"+b+\"&ei=\"+google.kEI);}).call(this);})();</script> <script nonce=\"NknSPinGEmpQAre_R6noog\">(function(){google.xjs={ck:\\'xjs.hp.7OK0Zk1e1VY.L.X.O\\',cs:\\'ACT90oHsvRDssytBzZmLkVDwlard0g6uTQ\\',excm:[]};})();</script>  <script nonce=\"NknSPinGEmpQAre_R6noog\">(function(){var u=\\'/xjs/_/js/k\\\\x3dxjs.hp.en.UoQlo4Mj4FY.O/am\\\\x3dAgAAdAIAKACw/d\\\\x3d1/ed\\\\x3d1/rs\\\\x3dACT90oEw3X1__e_Uhluey8Tmx_FHS2Ek1Q/m\\\\x3dsb_he,d\\';var amd=0;\\nvar e=this||self,g=function(c){return c};var k;var n=function(c,f){this.g=f===l?c:\"\"};n.prototype.toString=function(){return this.g+\"\"};var l={};\\nfunction p(){var c=u,f=function(){};google.lx=google.stvsc?f:function(){google.timers&&google.timers.load&&google.tick&&google.tick(\"load\",\"xjsls\");var a=document;var b=\"SCRIPT\";\"application/xhtml+xml\"===a.contentType&&(b=b.toLowerCase());b=a.createElement(b);b.id=\"base-js\";a=null===c?\"null\":void 0===c?\"undefined\":c;if(void 0===k){var d=null;var m=e.trustedTypes;if(m&&m.createPolicy){try{d=m.createPolicy(\"goog#html\",{createHTML:g,createScript:g,createScriptURL:g})}catch(r){e.console&&e.console.error(r.message)}k=\\nd}else k=d}a=(d=k)?d.createScriptURL(a):a;a=new n(a,l);b.src=a instanceof n&&a.constructor===n?a.g:\"type_error:TrustedResourceUrl\";var h,q;(h=(a=null==(q=(h=(b.ownerDocument&&b.ownerDocument.defaultView||window).document).querySelector)?void 0:q.call(h,\"script[nonce]\"))?a.nonce||a.getAttribute(\"nonce\")||\"\":\"\")&&b.setAttribute(\"nonce\",h);document.body.appendChild(b);google.psa=!0;google.lx=f};google.bx||google.lx()};google.xjsu=u;setTimeout(function(){0<amd?google.caft(function(){return p()},amd):p()},0);})();window._ = window._ || {};window._DumpException = _._DumpException = function(e){throw e;};window._s = window._s || {};_s._DumpException = _._DumpException;window._qs = window._qs || {};_qs._DumpException = _._DumpException;function _F_installCss(c){}\\n(function(){google.jl={blt:\\'none\\',chnk:0,dw:false,dwu:true,emtn:0,end:0,ico:false,ikb:0,ine:false,injs:\\'none\\',injt:0,injth:0,injv2:false,lls:\\'default\\',pdt:0,rep:0,snet:true,strt:0,ubm:false,uwp:true};})();(function(){var pmc=\\'{\\\\x22d\\\\x22:{},\\\\x22sb_he\\\\x22:{\\\\x22agen\\\\x22:true,\\\\x22cgen\\\\x22:true,\\\\x22client\\\\x22:\\\\x22heirloom-hp\\\\x22,\\\\x22dh\\\\x22:true,\\\\x22ds\\\\x22:\\\\x22\\\\x22,\\\\x22fl\\\\x22:true,\\\\x22host\\\\x22:\\\\x22google.com\\\\x22,\\\\x22jsonp\\\\x22:true,\\\\x22msgs\\\\x22:{\\\\x22cibl\\\\x22:\\\\x22&#2488;&#2494;&#2480;&#2509;&#2458; &#2488;&#2494;&#2475; &#2453;&#2480;&#2497;&#2472;\\\\x22,\\\\x22dym\\\\x22:\\\\x22&#2438;&#2474;&#2472;&#2495; &#2453;&#2495; &#2476;&#2507;&#2461;&#2494;&#2468;&#2503; &#2458;&#2503;&#2527;&#2503;&#2459;&#2503;&#2472;:\\\\x22,\\\\x22lcky\\\\x22:\\\\x22&#2477;&#2494;&#2455;&#2509;&#2479;&#2476;&#2494;&#2472; &#2437;&#2472;&#2497;&#2477;&#2476; &#2453;&#2480;&#2459;&#2495;\\\\x22,\\\\x22lml\\\\x22:\\\\x22&#2438;&#2480;&#2451; &#2460;&#2494;&#2472;&#2497;&#2472;\\\\x22,\\\\x22psrc\\\\x22:\\\\x22&#2437;&#2472;&#2497;&#2488;&#2472;&#2509;&#2471;&#2494;&#2472;&#2463;&#2495; &#2438;&#2474;&#2472;&#2494;&#2480; \\\\\\\\u003Ca href\\\\x3d\\\\\\\\\\\\x22/history\\\\\\\\\\\\x22\\\\\\\\u003E&#2451;&#2527;&#2503;&#2476; &#2439;&#2468;&#2495;&#2489;&#2494;&#2488;\\\\\\\\u003C/a\\\\\\\\u003E &#2469;&#2503;&#2453;&#2503; &#2488;&#2480;&#2494;&#2472;&#2507; &#2459;&#2495;&#2482;\\\\x22,\\\\x22psrl\\\\x22:\\\\x22&#2488;&#2480;&#2494;&#2472;\\\\x22,\\\\x22sbit\\\\x22:\\\\x22&#2459;&#2476;&#2495; &#2470;&#2495;&#2527;&#2503; &#2488;&#2494;&#2480;&#2509;&#2458; &#2453;&#2480;&#2497;&#2472;\\\\x22,\\\\x22srch\\\\x22:\\\\x22Google Search\\\\x22},\\\\x22ovr\\\\x22:{},\\\\x22pq\\\\x22:\\\\x22\\\\x22,\\\\x22rfs\\\\x22:[],\\\\x22sbas\\\\x22:\\\\x220 3px 8px 0 rgba(0,0,0,0.2),0 0 0 1px rgba(0,0,0,0.08)\\\\x22,\\\\x22stok\\\\x22:\\\\x22aDq8axCbzilvkN1hrf6gbEuLaQo\\\\x22}}\\';google.pmc=JSON.parse(pmc);})();</script>       </body></html>'"
      ]
     },
     "execution_count": 10,
     "metadata": {},
     "output_type": "execute_result"
    }
   ],
   "source": [
    "r.content"
   ]
  },
  {
   "cell_type": "code",
   "execution_count": 11,
   "id": "d9e48a20-2672-4112-bd06-639d4fe71952",
   "metadata": {},
   "outputs": [
    {
     "data": {
      "text/plain": [
       "{'Date': 'Sun, 16 Apr 2023 08:30:14 GMT', 'Expires': '-1', 'Cache-Control': 'private, max-age=0', 'Content-Type': 'text/html; charset=ISO-8859-1', 'Content-Security-Policy-Report-Only': \"object-src 'none';base-uri 'self';script-src 'nonce-NknSPinGEmpQAre_R6noog' 'strict-dynamic' 'report-sample' 'unsafe-eval' 'unsafe-inline' https: http:;report-uri https://csp.withgoogle.com/csp/gws/other-hp\", 'P3P': 'CP=\"This is not a P3P policy! See g.co/p3phelp for more info.\"', 'Content-Encoding': 'gzip', 'Server': 'gws', 'Content-Length': '6823', 'X-XSS-Protection': '0', 'X-Frame-Options': 'SAMEORIGIN', 'Set-Cookie': '1P_JAR=2023-04-16-08; expires=Tue, 16-May-2023 08:30:14 GMT; path=/; domain=.google.com; Secure, AEC=AUEFqZdkmVW95L_anahux6Nc-xZGJCz_2vAdAObJzoCUuhhknRSXuhJzCy0; expires=Fri, 13-Oct-2023 08:30:14 GMT; path=/; domain=.google.com; Secure; HttpOnly; SameSite=lax, NID=511=Yj4XajNr5XzB2wadMqOsYHMydQUMbNdgHfWQpzxAdE5VSeVCs72w1wuU_dtkxkUH-loufoLQm3UMZzrYoQHsuap0YVPeWyWayJv_TfDzrgUqqeIYf5CHlfmo4Av0DoGfOQIRbWCsmuU1lA__GD9lFwBWuU2ne_VT8TcZydG54cU; expires=Mon, 16-Oct-2023 08:30:14 GMT; path=/; domain=.google.com; HttpOnly'}"
      ]
     },
     "execution_count": 11,
     "metadata": {},
     "output_type": "execute_result"
    }
   ],
   "source": [
    "r.headers"
   ]
  },
  {
   "cell_type": "code",
   "execution_count": 13,
   "id": "9570812a-2b42-4b25-b35d-6c82589cf62c",
   "metadata": {},
   "outputs": [
    {
     "data": {
      "text/plain": [
       "'6823'"
      ]
     },
     "execution_count": 13,
     "metadata": {},
     "output_type": "execute_result"
    }
   ],
   "source": [
    "r.headers['Content-Length']"
   ]
  },
  {
   "cell_type": "code",
   "execution_count": null,
   "id": "d9134100-f0ae-4b2d-959d-6de5f52e1a45",
   "metadata": {},
   "outputs": [],
   "source": []
  },
  {
   "cell_type": "code",
   "execution_count": 16,
   "id": "93fecc04-c2db-4bd5-97ee-3132d1920bea",
   "metadata": {},
   "outputs": [],
   "source": [
    "\n",
    "from tqdm import tqdm as tq\n",
    "import time "
   ]
  },
  {
   "cell_type": "code",
   "execution_count": 15,
   "id": "8bcb98db-6f59-4efd-852b-7f14d2941bb0",
   "metadata": {},
   "outputs": [],
   "source": [
    "a=[3,4,22,40]"
   ]
  },
  {
   "cell_type": "code",
   "execution_count": 20,
   "id": "4133a089-1d0f-4db3-9a33-40b9416f2f52",
   "metadata": {},
   "outputs": [
    {
     "name": "stderr",
     "output_type": "stream",
     "text": [
      "100%|████████████████████████████████████████████████████████████████████████████████████| 4/4 [00:04<00:00,  1.01s/it]\n"
     ]
    }
   ],
   "source": [
    "for i in tq(a):\n",
    "    time.sleep(1)\n",
    "    #print(i)"
   ]
  },
  {
   "cell_type": "code",
   "execution_count": null,
   "id": "1d12bf4d-6e29-4738-8354-6d1724a2a709",
   "metadata": {},
   "outputs": [],
   "source": []
  }
 ],
 "metadata": {
  "kernelspec": {
   "display_name": "Python 3 (ipykernel)",
   "language": "python",
   "name": "python3"
  },
  "language_info": {
   "codemirror_mode": {
    "name": "ipython",
    "version": 3
   },
   "file_extension": ".py",
   "mimetype": "text/x-python",
   "name": "python",
   "nbconvert_exporter": "python",
   "pygments_lexer": "ipython3",
   "version": "3.9.13"
  }
 },
 "nbformat": 4,
 "nbformat_minor": 5
}
