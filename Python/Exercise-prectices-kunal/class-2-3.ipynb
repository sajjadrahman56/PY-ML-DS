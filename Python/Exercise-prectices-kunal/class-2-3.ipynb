{
 "cells": [
  {
   "cell_type": "markdown",
   "id": "5cdbee79",
   "metadata": {},
   "source": [
    "# OOP"
   ]
  },
  {
   "cell_type": "markdown",
   "id": "7a8efe8a",
   "metadata": {},
   "source": [
    "Class : Name group of Properties and Functions \n",
    "\n",
    "    class Name :\n",
    "                age\n",
    "                name\n",
    "                getIncome();\n"
   ]
  },
  {
   "cell_type": "markdown",
   "id": "9abf0502",
   "metadata": {},
   "source": [
    " Abstraction : Encapsulation : Polymor : Inheritance \n",
    " \n",
    " Absraction providing Functions() , its hide the things\n",
    " \n",
    " *_*_ Abstraction is design level and perform by functions \n",
    " \n",
    " \n",
    " *Encapsulation : Bundile of data in a single of file /data \n",
    " \n",
    " all data is bundle means \n",
    " *_implementation level \n",
    " ->  <- "
   ]
  },
  {
   "cell_type": "markdown",
   "id": "2e357caa",
   "metadata": {},
   "source": [
    " pythone no overloading here overiding is code "
   ]
  },
  {
   "cell_type": "markdown",
   "id": "e252c1f6",
   "metadata": {},
   "source": [
    " "
   ]
  },
  {
   "cell_type": "code",
   "execution_count": 22,
   "id": "64a2db00",
   "metadata": {},
   "outputs": [],
   "source": [
    "# class\n",
    "class Person:\n",
    "    age = 0\n",
    "    name = 'zummun'"
   ]
  },
  {
   "cell_type": "code",
   "execution_count": 23,
   "id": "01800b51",
   "metadata": {},
   "outputs": [],
   "source": [
    "kunal = Person()\n",
    "# whenever you create an object , a constructor is called \n",
    "#\n",
    "#\n",
    "# here kunal is in the Stack and where Heap is object or reference variable "
   ]
  },
  {
   "cell_type": "code",
   "execution_count": 24,
   "id": "011c4499",
   "metadata": {},
   "outputs": [
    {
     "data": {
      "text/plain": [
       "0"
      ]
     },
     "execution_count": 24,
     "metadata": {},
     "output_type": "execute_result"
    }
   ],
   "source": [
    "kunal.age\n"
   ]
  },
  {
   "cell_type": "code",
   "execution_count": 25,
   "id": "157bc124",
   "metadata": {},
   "outputs": [
    {
     "data": {
      "text/plain": [
       "'zummun'"
      ]
     },
     "execution_count": 25,
     "metadata": {},
     "output_type": "execute_result"
    }
   ],
   "source": [
    "kunal.name"
   ]
  },
  {
   "cell_type": "code",
   "execution_count": 26,
   "id": "0a957643",
   "metadata": {},
   "outputs": [],
   "source": [
    "class A:\n",
    "    pass"
   ]
  },
  {
   "cell_type": "code",
   "execution_count": null,
   "id": "a5063e7a",
   "metadata": {},
   "outputs": [],
   "source": [
    " "
   ]
  },
  {
   "cell_type": "code",
   "execution_count": 27,
   "id": "ab734457",
   "metadata": {},
   "outputs": [],
   "source": [
    "kunal.salary = 300"
   ]
  },
  {
   "cell_type": "code",
   "execution_count": 28,
   "id": "d72fd613",
   "metadata": {},
   "outputs": [
    {
     "data": {
      "text/plain": [
       "300"
      ]
     },
     "execution_count": 28,
     "metadata": {},
     "output_type": "execute_result"
    }
   ],
   "source": [
    "kunal.salary"
   ]
  },
  {
   "cell_type": "code",
   "execution_count": 29,
   "id": "e8a2d15c",
   "metadata": {},
   "outputs": [],
   "source": [
    "sasa = Person()"
   ]
  },
  {
   "cell_type": "code",
   "execution_count": 30,
   "id": "1326bbdc",
   "metadata": {},
   "outputs": [
    {
     "ename": "AttributeError",
     "evalue": "'Person' object has no attribute 'salary'",
     "output_type": "error",
     "traceback": [
      "\u001b[1;31m---------------------------------------------------------------------------\u001b[0m",
      "\u001b[1;31mAttributeError\u001b[0m                            Traceback (most recent call last)",
      "\u001b[1;32m~\\AppData\\Local\\Temp\\ipykernel_8136\\2310140751.py\u001b[0m in \u001b[0;36m<module>\u001b[1;34m\u001b[0m\n\u001b[1;32m----> 1\u001b[1;33m \u001b[0msasa\u001b[0m\u001b[1;33m.\u001b[0m\u001b[0msalary\u001b[0m\u001b[1;33m\u001b[0m\u001b[1;33m\u001b[0m\u001b[0m\n\u001b[0m",
      "\u001b[1;31mAttributeError\u001b[0m: 'Person' object has no attribute 'salary'"
     ]
    }
   ],
   "source": [
    "sasa.salary"
   ]
  },
  {
   "cell_type": "code",
   "execution_count": null,
   "id": "f0c9c7d8",
   "metadata": {},
   "outputs": [],
   "source": [
    "class Test:\n",
    "    def fun():\n",
    "        print('I am a method')"
   ]
  },
  {
   "cell_type": "code",
   "execution_count": null,
   "id": "d9c35dd1",
   "metadata": {},
   "outputs": [],
   "source": [
    "demoTest = Test()"
   ]
  },
  {
   "cell_type": "code",
   "execution_count": null,
   "id": "3d7c89b2",
   "metadata": {},
   "outputs": [],
   "source": [
    "demoTest.fun()"
   ]
  },
  {
   "cell_type": "code",
   "execution_count": null,
   "id": "50d9b7cb",
   "metadata": {},
   "outputs": [],
   "source": [
    "class Test:\n",
    "    def fun(something):\n",
    "        print('I am a method')"
   ]
  },
  {
   "cell_type": "code",
   "execution_count": null,
   "id": "f53d5754",
   "metadata": {},
   "outputs": [],
   "source": [
    "demoTest1 = Test()\n",
    "demoTest1.fun()"
   ]
  },
  {
   "cell_type": "markdown",
   "id": "7cb1b1ad",
   "metadata": {},
   "source": [
    "Lests watch the difference between abobe the methods "
   ]
  },
  {
   "cell_type": "code",
   "execution_count": null,
   "id": "3ddeea65",
   "metadata": {},
   "outputs": [],
   "source": []
  },
  {
   "cell_type": "code",
   "execution_count": null,
   "id": "a8aa65f7",
   "metadata": {},
   "outputs": [],
   "source": []
  },
  {
   "cell_type": "code",
   "execution_count": null,
   "id": "8b7991d9",
   "metadata": {},
   "outputs": [],
   "source": [
    "class Human:\n",
    "    age=45\n",
    "    def fun(self):\n",
    "        #print(self)\n",
    "        print(self.age)"
   ]
  },
  {
   "cell_type": "code",
   "execution_count": null,
   "id": "772e4431",
   "metadata": {},
   "outputs": [],
   "source": [
    "sajjad = Human()"
   ]
  },
  {
   "cell_type": "code",
   "execution_count": null,
   "id": "d972f2b5",
   "metadata": {},
   "outputs": [],
   "source": [
    "sajjad.age = 99"
   ]
  },
  {
   "cell_type": "code",
   "execution_count": null,
   "id": "b8eae414",
   "metadata": {},
   "outputs": [],
   "source": [
    "sajjad.fun()"
   ]
  },
  {
   "cell_type": "code",
   "execution_count": null,
   "id": "5041ec87",
   "metadata": {},
   "outputs": [],
   "source": [
    "Human.fun(sajjad)"
   ]
  },
  {
   "cell_type": "code",
   "execution_count": null,
   "id": "75904a28",
   "metadata": {},
   "outputs": [],
   "source": [
    " class Human:\n",
    "        def __init__(self,name,age):\n",
    "            self.age = age\n",
    "            self.name = name"
   ]
  },
  {
   "cell_type": "code",
   "execution_count": null,
   "id": "138d3d15",
   "metadata": {},
   "outputs": [],
   "source": [
    " sakib = Human(\"sakib hasan\",67)"
   ]
  },
  {
   "cell_type": "code",
   "execution_count": null,
   "id": "ec494eb9",
   "metadata": {},
   "outputs": [],
   "source": [
    "sakib.age"
   ]
  },
  {
   "cell_type": "code",
   "execution_count": null,
   "id": "93f8c293",
   "metadata": {},
   "outputs": [],
   "source": [
    "class Car:\n",
    "    #overriding\n",
    "    def __init__(self,price,model,year):\n",
    "        self.price = price \n",
    "        self.model = model\n",
    "        self.year = year"
   ]
  },
  {
   "cell_type": "code",
   "execution_count": null,
   "id": "074e9331",
   "metadata": {},
   "outputs": [],
   "source": [
    "Toyota = Car(45000,'At78',2023)"
   ]
  },
  {
   "cell_type": "code",
   "execution_count": null,
   "id": "9045e458",
   "metadata": {},
   "outputs": [],
   "source": [
    "Toyota.price,Toyota.model , Toyota.year"
   ]
  },
  {
   "cell_type": "markdown",
   "id": "8bced935",
   "metadata": {},
   "source": [
    "# that is not a good prectices to "
   ]
  },
  {
   "cell_type": "code",
   "execution_count": null,
   "id": "656fe6df",
   "metadata": {},
   "outputs": [],
   "source": [
    "Car.country = \"BD\""
   ]
  },
  {
   "cell_type": "code",
   "execution_count": null,
   "id": "c1a83e0e",
   "metadata": {},
   "outputs": [],
   "source": [
    "Toyota.country"
   ]
  },
  {
   "cell_type": "code",
   "execution_count": null,
   "id": "032e9f13",
   "metadata": {},
   "outputs": [],
   "source": [
    "Car"
   ]
  },
  {
   "cell_type": "markdown",
   "id": "efac439b",
   "metadata": {},
   "source": [
    "# poly morphisom"
   ]
  },
  {
   "cell_type": "code",
   "execution_count": null,
   "id": "c2684fe8",
   "metadata": {},
   "outputs": [],
   "source": [
    " def fun():\n",
    "    print(\"null\")\n",
    "def fun(a):\n",
    "    print(\" i am \",a)\n"
   ]
  },
  {
   "cell_type": "code",
   "execution_count": null,
   "id": "9347614f",
   "metadata": {},
   "outputs": [],
   "source": [
    "fun('a')"
   ]
  },
  {
   "cell_type": "markdown",
   "id": "679aa65e",
   "metadata": {},
   "source": [
    "### if i call fun() it gives error why error find the answer by self "
   ]
  },
  {
   "cell_type": "markdown",
   "id": "4618047e",
   "metadata": {},
   "source": [
    "# more about ooop "
   ]
  },
  {
   "cell_type": "markdown",
   "id": "5e999f01",
   "metadata": {},
   "source": [
    "# more info \n",
    "class variable is known as \n",
    "      class variable / static variable \n",
    "      static variable is common for all objects of that class \n",
    "      \n",
    "object variable is known as \n",
    "                    instance variable \n",
    " "
   ]
  },
  {
   "cell_type": "code",
   "execution_count": null,
   "id": "fd0af3dc",
   "metadata": {},
   "outputs": [],
   "source": [
    "class Human:\n",
    "    #static variable : that not depend on objects \n",
    "    \n",
    "    population = 0\n",
    "    \n",
    "    def __init__(self,name,age):\n",
    "        self.name = name \n",
    "        self.age = age\n",
    "        Human.population += 1"
   ]
  },
  {
   "cell_type": "code",
   "execution_count": null,
   "id": "e006a261",
   "metadata": {},
   "outputs": [],
   "source": [
    "Human.population"
   ]
  },
  {
   "cell_type": "code",
   "execution_count": null,
   "id": "7b0bb065",
   "metadata": {},
   "outputs": [],
   "source": [
    "A_man = Human(\"sa75\",34)"
   ]
  },
  {
   "cell_type": "code",
   "execution_count": null,
   "id": "5879f9fa",
   "metadata": {},
   "outputs": [],
   "source": [
    "Human.population"
   ]
  },
  {
   "cell_type": "code",
   "execution_count": null,
   "id": "f7df5525",
   "metadata": {},
   "outputs": [],
   "source": [
    "B_man = Human(\"sa7576\",34)"
   ]
  },
  {
   "cell_type": "code",
   "execution_count": null,
   "id": "d3dc8bf4",
   "metadata": {},
   "outputs": [],
   "source": [
    "Human.population"
   ]
  },
  {
   "cell_type": "markdown",
   "id": "cbba4e3c",
   "metadata": {},
   "source": [
    "## let see the below example of the static variables "
   ]
  },
  {
   "cell_type": "code",
   "execution_count": null,
   "id": "59cb08c6",
   "metadata": {},
   "outputs": [],
   "source": [
    "A_man.population"
   ]
  },
  {
   "cell_type": "code",
   "execution_count": null,
   "id": "05a809d1",
   "metadata": {},
   "outputs": [],
   "source": [
    "B_man.population"
   ]
  },
  {
   "cell_type": "markdown",
   "id": "09b05249",
   "metadata": {},
   "source": [
    "# importance matter look "
   ]
  },
  {
   "cell_type": "code",
   "execution_count": null,
   "id": "f1585eda",
   "metadata": {},
   "outputs": [],
   "source": [
    "#incerese the A_man.population +=1 let see the effect of the other class "
   ]
  },
  {
   "cell_type": "code",
   "execution_count": null,
   "id": "a7e56d38",
   "metadata": {},
   "outputs": [],
   "source": [
    "A_man.population+=1"
   ]
  },
  {
   "cell_type": "code",
   "execution_count": null,
   "id": "6653a094",
   "metadata": {},
   "outputs": [],
   "source": [
    "A_man.population"
   ]
  },
  {
   "cell_type": "code",
   "execution_count": null,
   "id": "1b607092",
   "metadata": {},
   "outputs": [],
   "source": [
    "#after increaseing the value of A_man then see the outputs \n",
    "A_man.population , B_man.population , Human.population"
   ]
  },
  {
   "cell_type": "markdown",
   "id": "45fbb1d7",
   "metadata": {},
   "source": [
    "# no value cahnge above in the cell  by objcet level "
   ]
  },
  {
   "cell_type": "code",
   "execution_count": null,
   "id": "a406fcee",
   "metadata": {},
   "outputs": [],
   "source": [
    "# if I assing new object will it affect on the or increase the\n",
    "# value of A_man.population already it is bigger than others \n",
    "# what do you think mr / mrs "
   ]
  },
  {
   "cell_type": "code",
   "execution_count": null,
   "id": "5169fe50",
   "metadata": {},
   "outputs": [],
   "source": [
    "C_man =    Human(\"sajjad\",34)"
   ]
  },
  {
   "cell_type": "code",
   "execution_count": null,
   "id": "a4d7e26a",
   "metadata": {},
   "outputs": [],
   "source": [
    "C_man.population"
   ]
  },
  {
   "cell_type": "code",
   "execution_count": null,
   "id": "fc51caa0",
   "metadata": {},
   "outputs": [],
   "source": [
    "A_man.population , B_man.population , C_man.population,  Human.population"
   ]
  },
  {
   "cell_type": "code",
   "execution_count": null,
   "id": "655c4302",
   "metadata": {},
   "outputs": [],
   "source": [
    "#it does not effect as A_man itself hase A_man.population variable has but not others "
   ]
  },
  {
   "cell_type": "code",
   "execution_count": null,
   "id": "ed7e8e6a",
   "metadata": {},
   "outputs": [],
   "source": [
    "#what if i changed increment one "
   ]
  },
  {
   "cell_type": "code",
   "execution_count": null,
   "id": "98e37b77",
   "metadata": {},
   "outputs": [],
   "source": [
    "Human.population +=1"
   ]
  },
  {
   "cell_type": "code",
   "execution_count": null,
   "id": "92753ebc",
   "metadata": {},
   "outputs": [],
   "source": [
    "A_man.population , B_man.population , C_man.population,  Human.population"
   ]
  },
  {
   "cell_type": "code",
   "execution_count": null,
   "id": "2d18bc59",
   "metadata": {},
   "outputs": [],
   "source": []
  },
  {
   "cell_type": "markdown",
   "id": "a81ad908",
   "metadata": {},
   "source": [
    "# static methods "
   ]
  },
  {
   "cell_type": "code",
   "execution_count": 36,
   "id": "5d3ae958",
   "metadata": {},
   "outputs": [],
   "source": [
    "class Human1:\n",
    "    #static variable : that not depend on objects \n",
    "    \n",
    "    population = 0\n",
    "    \n",
    "    \n",
    "    def __init__(self,name,age):\n",
    "        self.name = name \n",
    "        self.age = age\n",
    "        Human.population += 1\n",
    "    @staticmethod  \n",
    "    def met():\n",
    "        print(Human.population)\n",
    "        "
   ]
  },
  {
   "cell_type": "code",
   "execution_count": null,
   "id": "60fd5a60",
   "metadata": {},
   "outputs": [],
   "source": [
    "D_man =    Human(\"sajjad\",34)"
   ]
  },
  {
   "cell_type": "code",
   "execution_count": null,
   "id": "6ef89513",
   "metadata": {},
   "outputs": [],
   "source": [
    "D_man.met()"
   ]
  },
  {
   "cell_type": "code",
   "execution_count": null,
   "id": "52d958d6",
   "metadata": {},
   "outputs": [],
   "source": [
    "E_man = Human(\"sajjad\",34)"
   ]
  },
  {
   "cell_type": "code",
   "execution_count": null,
   "id": "d6e9a7be",
   "metadata": {},
   "outputs": [],
   "source": [
    "E_man.met()"
   ]
  },
  {
   "cell_type": "markdown",
   "id": "bf38fa2c",
   "metadata": {},
   "source": [
    "# make a method static WE used   @staticmethod   as a result no need to pass an self arguments   "
   ]
  },
  {
   "cell_type": "markdown",
   "id": "9da80df4",
   "metadata": {},
   "source": [
    "# class methods "
   ]
  },
  {
   "cell_type": "code",
   "execution_count": null,
   "id": "a77cf169",
   "metadata": {},
   "outputs": [],
   "source": [
    "class Human:  \n",
    "    population = 0\n",
    "    def __init__(self,name,age):\n",
    "        self.name = name \n",
    "        self.age = age\n",
    "        Human.population += 1\n",
    "    @staticmethod  \n",
    "    def met():\n",
    "        print(Human.population)\n",
    "    def getName(self):\n",
    "        print(self.name)\n",
    "    \n",
    "    @classmethod\n",
    "    def atomBomb(cls):\n",
    "        cls.population=0"
   ]
  },
  {
   "cell_type": "code",
   "execution_count": null,
   "id": "bac78d0c",
   "metadata": {},
   "outputs": [],
   "source": [
    "sajjad = Human(\"sajjad\",45)\n",
    "sakib = Human(\"Sakib\",56)"
   ]
  },
  {
   "cell_type": "code",
   "execution_count": null,
   "id": "9737293f",
   "metadata": {},
   "outputs": [],
   "source": [
    "Human.fun()"
   ]
  },
  {
   "cell_type": "code",
   "execution_count": null,
   "id": "76a34d21",
   "metadata": {},
   "outputs": [],
   "source": []
  },
  {
   "cell_type": "code",
   "execution_count": null,
   "id": "d8c7935e",
   "metadata": {},
   "outputs": [],
   "source": []
  },
  {
   "cell_type": "code",
   "execution_count": null,
   "id": "070e3376",
   "metadata": {},
   "outputs": [],
   "source": []
  },
  {
   "cell_type": "code",
   "execution_count": null,
   "id": "864e11ba",
   "metadata": {},
   "outputs": [],
   "source": []
  },
  {
   "cell_type": "code",
   "execution_count": null,
   "id": "06615bee",
   "metadata": {},
   "outputs": [],
   "source": []
  },
  {
   "cell_type": "code",
   "execution_count": null,
   "id": "53b2bef1",
   "metadata": {},
   "outputs": [],
   "source": []
  },
  {
   "cell_type": "code",
   "execution_count": null,
   "id": "318a5105",
   "metadata": {},
   "outputs": [],
   "source": []
  },
  {
   "cell_type": "code",
   "execution_count": null,
   "id": "a0696ee5",
   "metadata": {},
   "outputs": [],
   "source": []
  },
  {
   "cell_type": "code",
   "execution_count": null,
   "id": "f05db0d9",
   "metadata": {},
   "outputs": [],
   "source": []
  },
  {
   "cell_type": "code",
   "execution_count": null,
   "id": "2d122df7",
   "metadata": {},
   "outputs": [],
   "source": []
  },
  {
   "cell_type": "code",
   "execution_count": null,
   "id": "55afab1c",
   "metadata": {},
   "outputs": [],
   "source": []
  },
  {
   "cell_type": "code",
   "execution_count": null,
   "id": "41b2d48f",
   "metadata": {},
   "outputs": [],
   "source": []
  },
  {
   "cell_type": "markdown",
   "id": "0bf29ec0",
   "metadata": {},
   "source": [
    "# For Loop"
   ]
  },
  {
   "cell_type": "code",
   "execution_count": null,
   "id": "f8ed94f1",
   "metadata": {},
   "outputs": [],
   "source": []
  },
  {
   "cell_type": "code",
   "execution_count": null,
   "id": "7a1f077a",
   "metadata": {},
   "outputs": [],
   "source": []
  },
  {
   "cell_type": "code",
   "execution_count": 31,
   "id": "93175a62",
   "metadata": {},
   "outputs": [
    {
     "name": "stdout",
     "output_type": "stream",
     "text": [
      "cats\n",
      "dogs\n",
      "rabbits\n",
      "hamsters\n"
     ]
    }
   ],
   "source": [
    "pets = ['cats', 'dogs', 'rabbits', 'hamsters']\n",
    "\n",
    "for myPets in pets:\n",
    "    print (myPets)"
   ]
  },
  {
   "cell_type": "code",
   "execution_count": null,
   "id": "b43ca1f1",
   "metadata": {},
   "outputs": [],
   "source": []
  },
  {
   "cell_type": "code",
   "execution_count": 32,
   "id": "49ad4c93",
   "metadata": {},
   "outputs": [
    {
     "name": "stdout",
     "output_type": "stream",
     "text": [
      "0 cats\n",
      "1 dogs\n",
      "2 rabbits\n",
      "3 hamsters\n"
     ]
    }
   ],
   "source": [
    "for index, myPets in enumerate(pets):\n",
    "    print (index, myPets)"
   ]
  },
  {
   "cell_type": "code",
   "execution_count": 33,
   "id": "81dd938b",
   "metadata": {},
   "outputs": [
    {
     "name": "stdout",
     "output_type": "stream",
     "text": [
      "  0   2\n",
      "  1   3\n",
      "  2   4\n",
      "  3   5\n",
      "  4   6\n",
      "  5   7\n",
      "  6   8\n",
      "  7   9\n",
      "  8   10\n"
     ]
    }
   ],
   "source": [
    "for i in range(9):\n",
    "    print(' ',i,' ',i+2)"
   ]
  },
  {
   "cell_type": "code",
   "execution_count": 34,
   "id": "15dcd18c",
   "metadata": {},
   "outputs": [],
   "source": [
    "range?"
   ]
  },
  {
   "cell_type": "code",
   "execution_count": 35,
   "id": "c474057d",
   "metadata": {},
   "outputs": [
    {
     "name": "stdout",
     "output_type": "stream",
     "text": [
      "i =  0  j =  2\n",
      "i am over by 6\n",
      "i =  1  j =  4\n",
      "i am over by 6\n",
      "i =  2  j =  6\n",
      "i =  3  j =  8\n",
      "i am over by 6\n",
      "i =  4  j =  10\n",
      "i am over by 6\n"
     ]
    }
   ],
   "source": [
    " j = 0\n",
    "for i in range(5):\n",
    "    j = j + 2\n",
    "    print ('i = ', i, ' j = ', j)\n",
    "    if j == 6:\n",
    "        continue\n",
    "    print('i am over by 6')"
   ]
  },
  {
   "cell_type": "code",
   "execution_count": null,
   "id": "c27f2928",
   "metadata": {},
   "outputs": [],
   "source": []
  }
 ],
 "metadata": {
  "kernelspec": {
   "display_name": "Python 3 (ipykernel)",
   "language": "python",
   "name": "python3"
  },
  "language_info": {
   "codemirror_mode": {
    "name": "ipython",
    "version": 3
   },
   "file_extension": ".py",
   "mimetype": "text/x-python",
   "name": "python",
   "nbconvert_exporter": "python",
   "pygments_lexer": "ipython3",
   "version": "3.9.13"
  }
 },
 "nbformat": 4,
 "nbformat_minor": 5
}
