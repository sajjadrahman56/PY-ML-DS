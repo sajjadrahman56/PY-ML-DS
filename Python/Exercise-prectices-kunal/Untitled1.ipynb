{
 "cells": [
  {
   "cell_type": "code",
   "execution_count": 1,
   "id": "e1fa4240-d6c0-4d69-a717-afb107503abc",
   "metadata": {},
   "outputs": [],
   "source": [
    "import os \n"
   ]
  },
  {
   "cell_type": "code",
   "execution_count": 2,
   "id": "fc7bfcf1-ec8e-449a-82ca-7efbb8acee7c",
   "metadata": {},
   "outputs": [
    {
     "data": {
      "text/plain": [
       "'E:\\\\anaconda\\\\lib\\\\os.py'"
      ]
     },
     "execution_count": 2,
     "metadata": {},
     "output_type": "execute_result"
    }
   ],
   "source": [
    "os.__file__\n"
   ]
  },
  {
   "cell_type": "code",
   "execution_count": 4,
   "id": "513a5c51-d43d-4199-9e32-e8ad8b2b524c",
   "metadata": {},
   "outputs": [
    {
     "data": {
      "text/plain": [
       "['.ipynb_checkpoints',\n",
       " 'class-2-01.md',\n",
       " 'class-2-02.ipynb',\n",
       " 'class-2-02.md',\n",
       " 'class-2-03.md',\n",
       " 'class-2-2.ipynb',\n",
       " 'class-2-3.ipynb',\n",
       " 'class-2-4.ipynb',\n",
       " 'Untitled.ipynb',\n",
       " 'Untitled1.ipynb']"
      ]
     },
     "execution_count": 4,
     "metadata": {},
     "output_type": "execute_result"
    }
   ],
   "source": [
    "os.listdir()"
   ]
  },
  {
   "cell_type": "code",
   "execution_count": 5,
   "id": "320187f2-b48a-4716-8f95-a030e67ef330",
   "metadata": {},
   "outputs": [
    {
     "data": {
      "text/plain": [
       "'E:\\\\a python kunal\\\\Exercise-prectices-kunal'"
      ]
     },
     "execution_count": 5,
     "metadata": {},
     "output_type": "execute_result"
    }
   ],
   "source": [
    "os.getcwd()"
   ]
  },
  {
   "cell_type": "code",
   "execution_count": 6,
   "id": "a955f9e6-ac38-48a1-8216-85e7013f81d1",
   "metadata": {},
   "outputs": [],
   "source": [
    "os.mkdir(\"demo\")"
   ]
  },
  {
   "cell_type": "code",
   "execution_count": 8,
   "id": "699c5156-f5ae-477a-a9c8-cba053430928",
   "metadata": {},
   "outputs": [],
   "source": [
    "os.rename('Untitled1.ipynb','networking.ipynb')"
   ]
  },
  {
   "cell_type": "code",
   "execution_count": null,
   "id": "21fc6fdd-b908-44d9-ad69-b263761de66f",
   "metadata": {},
   "outputs": [],
   "source": []
  }
 ],
 "metadata": {
  "kernelspec": {
   "display_name": "Python 3 (ipykernel)",
   "language": "python",
   "name": "python3"
  },
  "language_info": {
   "codemirror_mode": {
    "name": "ipython",
    "version": 3
   },
   "file_extension": ".py",
   "mimetype": "text/x-python",
   "name": "python",
   "nbconvert_exporter": "python",
   "pygments_lexer": "ipython3",
   "version": "3.9.13"
  }
 },
 "nbformat": 4,
 "nbformat_minor": 5
}
