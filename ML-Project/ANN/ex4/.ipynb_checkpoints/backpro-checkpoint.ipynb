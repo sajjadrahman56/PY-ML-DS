{
 "cells": [
  {
   "cell_type": "code",
   "execution_count": 8,
   "id": "f98e51dd-055b-4520-97b9-ea9d6dd3e08e",
   "metadata": {},
   "outputs": [],
   "source": [
    "%matplotlib inline\n",
    "from __future__ import division\n",
    "import numpy as np\n",
    "import matplotlib.pyplot as plt\n",
    "from mpl_toolkits.mplot3d import Axes3D\n",
    "from scipy.optimize import fmin_cg\n",
    "import scipy.io as si\n",
    "from scipy.io import loadmat\n",
    "from scipy.optimize import minimize\n",
    "import pandas as pd\n",
    "\n",
    "%matplotlib inline\n",
    "%config InlineBackend.figure_format = 'retina'"
   ]
  },
  {
   "cell_type": "markdown",
   "id": "f28b15a5-77e7-4e2d-9e33-53fdb2badd74",
   "metadata": {},
   "source": [
    "# Load Data"
   ]
  },
  {
   "cell_type": "code",
   "execution_count": 11,
   "id": "3083203a-b5ce-4b89-8ec2-5d6c50ac6c16",
   "metadata": {},
   "outputs": [
    {
     "name": "stdout",
     "output_type": "stream",
     "text": [
      "dict_keys(['__header__', '__version__', '__globals__', 'X', 'y'])\n"
     ]
    }
   ],
   "source": [
    "data = loadmat('ex4data1.mat')\n",
    "print(data.keys())"
   ]
  },
  {
   "cell_type": "code",
   "execution_count": 12,
   "id": "78c96206-fc00-4e79-8441-937b6c66d1fa",
   "metadata": {},
   "outputs": [
    {
     "name": "stdout",
     "output_type": "stream",
     "text": [
      "\n",
      "X: (5000, 400) (without intercept)\n",
      "y: (5000, 10)\n",
      "\n",
      "Number of features (n): 400\n",
      "Number of training examples (nm): 5000\n"
     ]
    }
   ],
   "source": [
    "\n",
    "X = data['X']\n",
    "y = data['y']\n",
    "\n",
    "yy = data['y'].flatten()\n",
    "\n",
    "# replace 10 -> 0 \n",
    "# re-cast y\n",
    "\n",
    "y = np.zeros((len(yy), 10))\n",
    "for ii in range(y.shape[0]):\n",
    "    y[ii, yy[ii]-1] = 1\n",
    "    \n",
    "\n",
    "print('\\nX:',X.shape, '(without intercept)')\n",
    "print('y:',y.shape)\n",
    "\n",
    "\n",
    "m,n = X.shape\n",
    "\n",
    "print('\\nNumber of features (n): %.0f'%(n))\n",
    "print('Number of training examples (nm): %.0f'%(m))\n",
    "\n",
    "\n"
   ]
  },
  {
   "cell_type": "code",
   "execution_count": 14,
   "id": "69b75cb3-97f0-4596-8640-aa0f5c22abba",
   "metadata": {},
   "outputs": [
    {
     "name": "stdout",
     "output_type": "stream",
     "text": [
      "dict_keys(['__header__', '__version__', '__globals__', 'Theta1', 'Theta2'])\n",
      "\n",
      "theta1 : (25, 401)\n",
      "theta2 : (10, 26)\n",
      "params : (10285,)\n"
     ]
    }
   ],
   "source": [
    "weights = loadmat('ex4weights.mat')\n",
    "print(weights.keys())\n",
    "\n",
    "theta1, theta2 = weights['Theta1'], weights['Theta2']\n",
    "print('\\ntheta1 :', theta1.shape)\n",
    "print('theta2 :', theta2.shape)\n",
    "\n",
    "nn_params = np.concatenate((np.reshape(theta1, theta1.size, order = 'F'),\n",
    "                            np.reshape(theta2, theta2.size, order = 'F')))\n",
    "print('params :', nn_params.shape)"
   ]
  },
  {
   "cell_type": "code",
   "execution_count": null,
   "id": "b86bf109-ace7-4a77-b232-9dc754fb6c9a",
   "metadata": {},
   "outputs": [],
   "source": []
  }
 ],
 "metadata": {
  "kernelspec": {
   "display_name": "Python 3 (ipykernel)",
   "language": "python",
   "name": "python3"
  },
  "language_info": {
   "codemirror_mode": {
    "name": "ipython",
    "version": 3
   },
   "file_extension": ".py",
   "mimetype": "text/x-python",
   "name": "python",
   "nbconvert_exporter": "python",
   "pygments_lexer": "ipython3",
   "version": "3.9.13"
  }
 },
 "nbformat": 4,
 "nbformat_minor": 5
}
