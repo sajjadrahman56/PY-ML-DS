{
 "cells": [
  {
   "cell_type": "code",
   "execution_count": 17,
   "id": "ff303284",
   "metadata": {},
   "outputs": [
    {
     "name": "stdout",
     "output_type": "stream",
     "text": [
      " words =  0 \t ['hi', 'i', 'am', 'sajjad', 'I', 'am']\n",
      " words =  1 \t ['learning', 'python']\n",
      " words =  2 \t ['file', 'tata']\n",
      " words =  3 \t ['hi', 'i', 'am', 'sajjad', 'I', 'am']\n",
      " words =  4 \t ['learning', 'python']\n",
      " words =  5 \t ['file', 'tata']\n",
      " words =  6 \t ['hi', 'i', 'am', 'sajjad', 'I', 'am']\n",
      " words =  7 \t ['learning', 'python']\n",
      " words =  8 \t ['file', 'tata']\n",
      "the no of times each word appears in sentence is \n",
      "{'hi': 3, 'i': 3, 'am': 6, 'sajjad': 3, 'I': 3, 'learning': 3, 'python': 3, 'file': 3, 'tata': 3}\n",
      "total no words file are 30\n"
     ]
    }
   ],
   "source": [
    "def read_file11():\n",
    "    \n",
    "    occur_word = dict()\n",
    "    \n",
    "    total_words = 0 \n",
    "    i = 0 ;\n",
    "    with open ('text.txt') as file_data:\n",
    "        # i read each row \n",
    "       \n",
    "        for each_row in file_data:\n",
    "            words = each_row.strip().split(\" \")\n",
    "            \n",
    "            print(' words = ',i,\"\\t\",words)\n",
    " \n",
    "            i += 1\n",
    "            total_words += len(words)\n",
    "            \n",
    "            \n",
    "            for each_words in words:\n",
    "                occur_word[each_words] = occur_word.get(each_words,0)+1\n",
    "                \n",
    "        print('the no of times each word appears in sentence is ')\n",
    "        print(occur_word) \n",
    "        print(f'total no words file are {total_words}')\n",
    "    \n",
    "def main():\n",
    "    read_file11()\n",
    "\n",
    "if __name__ == \"__main__\":\n",
    "    main()"
   ]
  },
  {
   "cell_type": "code",
   "execution_count": 18,
   "id": "c0327995",
   "metadata": {},
   "outputs": [
    {
     "name": "stdout",
     "output_type": "stream",
     "text": [
      " words =  0 \t ['aknd', 'nadk', 'nai']\n",
      " words =  1 \t ['hiaj', 'naktklg', 'kdakfd', 'djfdsfja']\n",
      " words =  2 \t ['aknd', 'nadk', 'nai']\n",
      " words =  3 \t ['hiaj', 'naktklg', 'kdakfd', 'djfdsfja']\n",
      " words =  4 \t ['aknd', 'nadk', 'nai']\n",
      " words =  5 \t ['hiaj', 'naktklg', 'kdakfd', 'djfdsfja']\n",
      "the no of times each word appears in sentence is \n",
      "{'aknd': 3, 'nadk': 3, 'nai': 3, 'hiaj': 3, 'naktklg': 3, 'kdakfd': 3, 'djfdsfja': 3}\n",
      "total no words file are 21\n"
     ]
    }
   ],
   "source": [
    "def read_file11():\n",
    "    \n",
    "    occur_word = dict()\n",
    "    \n",
    "    total_words = 0 \n",
    "    i = 0 ;\n",
    "    with open ('u.txt') as file_data:\n",
    "        # i read each row \n",
    "       \n",
    "        for each_row in file_data:\n",
    "            words = each_row.strip().split(\" \")\n",
    "            \n",
    "            print(' words = ',i,\"\\t\",words)\n",
    " \n",
    "            i += 1\n",
    "            total_words += len(words)\n",
    "            \n",
    "            \n",
    "            for each_words in words:\n",
    "                occur_word[each_words] = occur_word.get(each_words,0)+1\n",
    "                \n",
    "        print('the no of times each word appears in sentence is ')\n",
    "        print(occur_word) \n",
    "        print(f'total no words file are {total_words}')\n",
    "    \n",
    "def main():\n",
    "    read_file11()\n",
    "\n",
    "if __name__ == \"__main__\":\n",
    "    main()"
   ]
  },
  {
   "cell_type": "code",
   "execution_count": 22,
   "id": "5f130f4f",
   "metadata": {},
   "outputs": [
    {
     "data": {
      "text/plain": [
       "'F:\\\\PY-ML-and-DS\\\\classification'"
      ]
     },
     "execution_count": 22,
     "metadata": {},
     "output_type": "execute_result"
    }
   ],
   "source": [
    "import os\n",
    "\n",
    "os.getcwd()"
   ]
  },
  {
   "cell_type": "code",
   "execution_count": 23,
   "id": "8116e20f",
   "metadata": {},
   "outputs": [],
   "source": [
    "os.mkdir(\"tataIpl\")"
   ]
  },
  {
   "cell_type": "code",
   "execution_count": 24,
   "id": "8b03fa51",
   "metadata": {},
   "outputs": [
    {
     "data": {
      "text/plain": [
       "<module 'os' from 'E:\\\\anaconda\\\\lib\\\\os.py'>"
      ]
     },
     "execution_count": 24,
     "metadata": {},
     "output_type": "execute_result"
    }
   ],
   "source": [
    "os"
   ]
  },
  {
   "cell_type": "code",
   "execution_count": 28,
   "id": "7a42d3ee",
   "metadata": {},
   "outputs": [],
   "source": [
    "aa = os.getcwd()"
   ]
  },
  {
   "cell_type": "code",
   "execution_count": 26,
   "id": "a80b55c3",
   "metadata": {},
   "outputs": [],
   "source": [
    "os.chdir(\"tataIpl\")"
   ]
  },
  {
   "cell_type": "code",
   "execution_count": 32,
   "id": "914cfa29",
   "metadata": {},
   "outputs": [
    {
     "data": {
      "text/plain": [
       "['untitled.txt', 'untitled1.txt']"
      ]
     },
     "execution_count": 32,
     "metadata": {},
     "output_type": "execute_result"
    }
   ],
   "source": [
    "os.listdir(os.getcwd())"
   ]
  },
  {
   "cell_type": "code",
   "execution_count": null,
   "id": "0b336339",
   "metadata": {},
   "outputs": [],
   "source": []
  }
 ],
 "metadata": {
  "kernelspec": {
   "display_name": "Python 3 (ipykernel)",
   "language": "python",
   "name": "python3"
  },
  "language_info": {
   "codemirror_mode": {
    "name": "ipython",
    "version": 3
   },
   "file_extension": ".py",
   "mimetype": "text/x-python",
   "name": "python",
   "nbconvert_exporter": "python",
   "pygments_lexer": "ipython3",
   "version": "3.9.13"
  }
 },
 "nbformat": 4,
 "nbformat_minor": 5
}
