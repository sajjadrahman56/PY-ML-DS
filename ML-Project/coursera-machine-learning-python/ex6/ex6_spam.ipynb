{
 "cells": [
  {
   "cell_type": "markdown",
   "metadata": {},
   "source": [
    "# Exercise 6-2: Spam Classification with SVMs"
   ]
  },
  {
   "cell_type": "markdown",
   "metadata": {},
   "source": [
    "In this part of the exercise, we will build a spam filter with SVM."
   ]
  },
  {
   "cell_type": "markdown",
   "metadata": {},
   "source": [
    "## Part 1: Email Preprocessing"
   ]
  },
  {
   "cell_type": "markdown",
   "metadata": {},
   "source": [
    "The `process_email()` preprocesses a the body of an email and returns a list of word indices with following preprocessing and normalization steps:\n",
    "\n",
    "- Lower-casing\n",
    "- Stripping HTML\n",
    "- Normalizing URLs\n",
    "- Normalizing Email Addresses\n",
    "- Normalizing Numbers\n",
    "- Normalizing Dollars\n",
    "- Word Stemming\n",
    "- Removal of non-words"
   ]
  },
  {
   "cell_type": "code",
   "execution_count": 1,
   "metadata": {
    "collapsed": true
   },
   "outputs": [],
   "source": [
    "import re\n",
    "from nltk import PorterStemmer\n",
    "\n",
    "\n",
    "def process_email(email_contents):\n",
    "    \"\"\"\n",
    "    Preprocesses a the body of an email and returns a list of word_indices\n",
    "\n",
    "    Parameters\n",
    "    ----------\n",
    "    email_contents : string\n",
    "        The email content.\n",
    "\n",
    "    Returns\n",
    "    -------\n",
    "    list\n",
    "        A list of word indices.\n",
    "\n",
    "    \"\"\"\n",
    "    vocab_list = get_vocablist()\n",
    "\n",
    "    email_contents = email_contents.lower()\n",
    "    email_contents = re.sub('<[^<>]+>', ' ', email_contents)\n",
    "    email_contents = re.sub('[0-9]+', 'number', email_contents)\n",
    "    email_contents = re.sub('(http|https)://[^\\s]*', 'httpaddr', email_contents)\n",
    "    email_contents = re.sub('[^\\s]+@[^\\s]+', 'emailaddr', email_contents)\n",
    "    email_contents = re.sub('[$]+', 'dollar', email_contents)\n",
    "\n",
    "    words = split(\"\"\" @$/#.-:&*+=[]?!(){},'\">_<;%\\n\\r\"\"\", email_contents)\n",
    "    word_indices = []\n",
    "    stemmer = PorterStemmer()\n",
    "    for word in words:\n",
    "        word = re.sub('[^a-zA-Z0-9]', '', word)\n",
    "        if word == '':\n",
    "            continue\n",
    "        word = stemmer.stem_word(word)\n",
    "        print word,\n",
    "        if word in vocab_list:\n",
    "            idx = vocab_list.index(word)\n",
    "            word_indices.append(idx)\n",
    "\n",
    "    return word_indices\n",
    "\n",
    "\n",
    "def split(delimiters, string, maxsplit=0):\n",
    "    pattern = '|'.join(map(re.escape, delimiters))\n",
    "    return re.split(pattern, string, maxsplit)\n",
    "\n",
    "\n",
    "def get_vocablist():\n",
    "    \"\"\"\n",
    "    Reads the fixed vocabulary list in vocab.txt and returns a list of the words.\n",
    "\n",
    "    Returns\n",
    "    -------\n",
    "    list\n",
    "        The vocabulary list.\n",
    "    \"\"\"\n",
    "    vocabulary = []\n",
    "    with open('vocab.txt') as f:\n",
    "        for line in f:\n",
    "            idx, word = line.split('\\t')\n",
    "            vocabulary.append(word.strip())\n",
    "    return vocabulary"
   ]
  },
  {
   "cell_type": "markdown",
   "metadata": {},
   "source": [
    "Preprocess the raw email:"
   ]
  },
  {
   "cell_type": "code",
   "execution_count": 2,
   "metadata": {
    "collapsed": false
   },
   "outputs": [
    {
     "name": "stdout",
     "output_type": "stream",
     "text": [
      "anyon know how much it cost to host a web portal well it depend on how mani visitor you re expect thi can be anywher from less than number buck a month to a coupl of dollarnumb you should checkout httpaddr or perhap amazon ecnumb if your run someth big to unsubscrib yourself from thi mail list send an email emailaddr Word Indices: [85, 915, 793, 1076, 882, 369, 1698, 789, 1821, 1830, 882, 430, 1170, 793, 1001, 1892, 1363, 591, 1675, 237, 161, 88, 687, 944, 1662, 1119, 1061, 1698, 374, 1161, 478, 1892, 1509, 798, 1181, 1236, 809, 1894, 1439, 1546, 180, 1698, 1757, 1895, 687, 1675, 991, 960, 1476, 70, 529, 530]\n"
     ]
    }
   ],
   "source": [
    "with open('emailSample1.txt') as f:\n",
    "    file_contents = f.read().replace('\\n', '')\n",
    "\n",
    "word_indices = process_email(file_contents)\n",
    "\n",
    "# Print Stats\n",
    "print 'Word Indices:', word_indices"
   ]
  },
  {
   "cell_type": "markdown",
   "metadata": {},
   "source": [
    "## Part 2: Feature Extraction"
   ]
  },
  {
   "cell_type": "markdown",
   "metadata": {},
   "source": [
    "The `email_features()` produces a feature vector x from the given word indices. x[i] is 1 if the i-th word is in the email and x[i] is 0 if the i-th word is not present in the email."
   ]
  },
  {
   "cell_type": "code",
   "execution_count": 3,
   "metadata": {
    "collapsed": true
   },
   "outputs": [],
   "source": [
    "import numpy as np\n",
    "\n",
    "\n",
    "def email_features(word_indices):\n",
    "    \"\"\"\n",
    "    Takes in a word_indices vector and produces a feature vector from the word indices.\n",
    "\n",
    "    Parameters\n",
    "    ----------\n",
    "    word_indices : array-like\n",
    "        List of word indices.\n",
    "\n",
    "    Returns\n",
    "    -------\n",
    "    ndarray\n",
    "        Feature vector from word indices.\n",
    "    \"\"\"\n",
    "    # Total number of words in the dictionary\n",
    "    n = 1899\n",
    "\n",
    "    x = np.zeros((n, 1))\n",
    "    x[word_indices] = 1\n",
    "\n",
    "    return x\n"
   ]
  },
  {
   "cell_type": "markdown",
   "metadata": {},
   "source": [
    "Extracting features from sample email:"
   ]
  },
  {
   "cell_type": "code",
   "execution_count": 4,
   "metadata": {
    "collapsed": false
   },
   "outputs": [
    {
     "name": "stdout",
     "output_type": "stream",
     "text": [
      "Length of feature vector: 1899\n",
      "Number of non-zero entries: 45\n"
     ]
    }
   ],
   "source": [
    "features = email_features(word_indices)\n",
    "print 'Length of feature vector:', len(features)\n",
    "print 'Number of non-zero entries:', np.sum(features > 0)"
   ]
  },
  {
   "cell_type": "markdown",
   "metadata": {},
   "source": [
    "## Part 3: Train Linear SVM for Spam Classification"
   ]
  },
  {
   "cell_type": "markdown",
   "metadata": {},
   "source": [
    "Train SVM to classify spam emails:"
   ]
  },
  {
   "cell_type": "code",
   "execution_count": 5,
   "metadata": {
    "collapsed": false
   },
   "outputs": [
    {
     "name": "stdout",
     "output_type": "stream",
     "text": [
      "Training Accuracy: 99.975\n"
     ]
    }
   ],
   "source": [
    "import scipy.io as sio\n",
    "from sklearn import svm\n",
    "\n",
    "\n",
    "mat_data = sio.loadmat('spamTrain.mat')\n",
    "X = mat_data['X']\n",
    "y = mat_data['y'].ravel()\n",
    "\n",
    "C = 0.1\n",
    "clf = svm.LinearSVC(C=C)\n",
    "clf.fit(X, y)\n",
    "p = clf.predict(X)\n",
    "\n",
    "print 'Training Accuracy:', np.mean(p == y) * 100"
   ]
  },
  {
   "cell_type": "markdown",
   "metadata": {},
   "source": [
    "## Part 4: Test Spam Classification"
   ]
  },
  {
   "cell_type": "markdown",
   "metadata": {},
   "source": [
    "Evaluate the trained Linear SVM on a test set:"
   ]
  },
  {
   "cell_type": "code",
   "execution_count": 6,
   "metadata": {
    "collapsed": false
   },
   "outputs": [
    {
     "name": "stdout",
     "output_type": "stream",
     "text": [
      "Evaluating the trained Linear SVM on a test set...\n",
      "Test Accuracy: 99.2\n"
     ]
    }
   ],
   "source": [
    "mat_data = sio.loadmat('spamTest.mat')\n",
    "X_test = mat_data['Xtest']\n",
    "y_test = mat_data['ytest'].ravel()\n",
    "\n",
    "print 'Evaluating the trained Linear SVM on a test set...'\n",
    "p = clf.predict(X_test)\n",
    "\n",
    "print 'Test Accuracy:', np.mean(p == y_test) * 100"
   ]
  },
  {
   "cell_type": "code",
   "execution_count": 7,
   "metadata": {
    "collapsed": true
   },
   "outputs": [],
   "source": [
    "## Part 5: Top Predictors of Spam"
   ]
  },
  {
   "cell_type": "markdown",
   "metadata": {},
   "source": [
    "Print the top predictors:"
   ]
  },
  {
   "cell_type": "code",
   "execution_count": 8,
   "metadata": {
    "collapsed": false
   },
   "outputs": [
    {
     "name": "stdout",
     "output_type": "stream",
     "text": [
      "Top predictors of spam:\n",
      "our             (0.421665)\n",
      "remov           (0.387173)\n",
      "click           (0.387060)\n",
      "basenumb        (0.346617)\n",
      "guarante        (0.341686)\n",
      "visit           (0.303028)\n",
      "bodi            (0.263524)\n",
      "will            (0.244394)\n",
      "numberb         (0.238795)\n",
      "price           (0.234199)\n",
      "dollar          (0.232315)\n",
      "nbsp            (0.227081)\n",
      "below           (0.223199)\n",
      "lo              (0.219994)\n",
      "most            (0.214548)\n"
     ]
    }
   ],
   "source": [
    "coef = clf.coef_.ravel()\n",
    "idx = coef.argsort()[::-1]\n",
    "vocab_list = get_vocablist()\n",
    "\n",
    "print 'Top predictors of spam:'\n",
    "for i in range(15):\n",
    "    print \"{0:<15s} ({1:f})\".format(vocab_list[idx[i]], coef[idx[i]])"
   ]
  },
  {
   "cell_type": "code",
   "execution_count": 9,
   "metadata": {
    "collapsed": true
   },
   "outputs": [],
   "source": [
    "## Part 6: Try Your Own Emails"
   ]
  },
  {
   "cell_type": "markdown",
   "metadata": {},
   "source": [
    "Run the spam classifier over `spamSample1.txt`:"
   ]
  },
  {
   "cell_type": "code",
   "execution_count": 10,
   "metadata": {
    "collapsed": false
   },
   "outputs": [
    {
     "name": "stdout",
     "output_type": "stream",
     "text": [
      "do you want to make dollarnumb or more per week if you are a motiv and qualifi individu i will person demonstr to you a system that will make you dollarnumb number per week or more thi is not mlm call our number hour pre record number to get the detail number number number i need peopl who want to make seriou money make the call and get the fact invest number minut in yourself now number number number look forward to your call and i will introduc you to peopl like yourself whoar current make dollarnumb number plu per week number number numberljgvnumb numberleannumberlrmsnumb numberwxhonumberqiytnumb numberrjuvnumberhqcfnumb numbereidbnumberdmtvlnumb Processed spamSample1.txt \n",
      "Spam Classification: [1]\n",
      "(1 indicates spam, 0 indicates not spam)\n"
     ]
    }
   ],
   "source": [
    "filename = 'spamSample1.txt'\n",
    "with open(filename) as f:\n",
    "    file_contents = f.read().replace('\\n', '')\n",
    "\n",
    "word_indices = process_email(file_contents)\n",
    "x = email_features(word_indices)\n",
    "p = clf.predict(x.T)\n",
    "print 'Processed', filename, '\\nSpam Classification:', p\n",
    "print '(1 indicates spam, 0 indicates not spam)'"
   ]
  }
 ],
 "metadata": {
  "anaconda-cloud": {},
  "kernelspec": {
   "display_name": "Python [conda root]",
   "language": "python",
   "name": "conda-root-py"
  },
  "language_info": {
   "codemirror_mode": {
    "name": "ipython",
    "version": 2
   },
   "file_extension": ".py",
   "mimetype": "text/x-python",
   "name": "python",
   "nbconvert_exporter": "python",
   "pygments_lexer": "ipython2",
   "version": "2.7.12"
  }
 },
 "nbformat": 4,
 "nbformat_minor": 1
}
